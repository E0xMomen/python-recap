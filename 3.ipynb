{
  "cells": [
    {
      "cell_type": "markdown",
      "metadata": {
        "id": "ABH06cT4YKXT"
      },
      "source": [
        "# Advanced programming and AI Frameworks"
      ]
    },
    {
      "cell_type": "markdown",
      "metadata": {
        "id": "Fdn5GsWmYKXU"
      },
      "source": [
        "## copy — Shallow and deep copy operations"
      ]
    },
    {
      "cell_type": "markdown",
      "metadata": {
        "id": "KKsrSUeYYKXU"
      },
      "source": [
        "- #### A deep copy makes a new and separate copy of an entire object or list with its own unique memory address. What this means is that any changes you make in the new copy of the object/list won't reflect in the original one.\n",
        "\n",
        "- #### A shallow copy also makes a separate new object object or list, but instead of copying the child elements to the new object, it simply copies the references to their memory addresses."
      ]
    },
    {
      "cell_type": "code",
      "execution_count": 21,
      "metadata": {
        "id": "goRUV-2MYKXV"
      },
      "outputs": [],
      "source": [
        "import copy"
      ]
    },
    {
      "cell_type": "code",
      "execution_count": 22,
      "metadata": {
        "id": "Kw7gmQ7SYKXV",
        "outputId": "dc170fe3-21c0-485c-bf1d-949fc5a4243c",
        "colab": {
          "base_uri": "https://localhost:8080/"
        }
      },
      "outputs": [
        {
          "output_type": "stream",
          "name": "stdout",
          "text": [
            "Original List: \n",
            "[[30, 85, 82], [72, 88, 90]]\n",
            "Shallow Copy:\n",
            "[[30, 85, 82], [72, 88, 90]]\n"
          ]
        }
      ],
      "source": [
        "result_A = [[90, 85, 82],\n",
        "            [72, 88, 90]] # Student A grades\n",
        "\n",
        "result_B = copy.copy(result_A) # Student B grades (copied from A)\n",
        "\n",
        "# Change first year and first subject's marks to 30\n",
        "result_B[0][0] = 30\n",
        "\n",
        "print(\"Original List: \")\n",
        "print(result_A)\n",
        "print(\"Shallow Copy:\")\n",
        "print(result_B)"
      ]
    },
    {
      "cell_type": "code",
      "execution_count": 23,
      "metadata": {
        "id": "x_esM7UJYKXW",
        "outputId": "7e83b2ae-c87c-45a6-a92d-d8507b412edd",
        "colab": {
          "base_uri": "https://localhost:8080/"
        }
      },
      "outputs": [
        {
          "output_type": "stream",
          "name": "stdout",
          "text": [
            "Original List: \n",
            "[[90, 85, 82], [72, 88, 90]]\n",
            "Deep Copy:\n",
            "[[30, 85, 82], [72, 88, 90]]\n"
          ]
        }
      ],
      "source": [
        "import copy\n",
        "\n",
        "result_A = [[90, 85, 82], [72, 88, 90]] # Student A grades\n",
        "result_B = copy.deepcopy(result_A) # Student B grades (copied from A)\n",
        "\n",
        "# Change first year and first subject's marks to 30\n",
        "result_B[0][0] = 30\n",
        "\n",
        "print(\"Original List: \")\n",
        "print(result_A)\n",
        "print(\"Deep Copy:\")\n",
        "print(result_B)"
      ]
    },
    {
      "cell_type": "code",
      "execution_count": 23,
      "metadata": {
        "id": "WGTk-MDBYKXW"
      },
      "outputs": [],
      "source": []
    },
    {
      "cell_type": "markdown",
      "metadata": {
        "id": "b0HWPFNBYKXW"
      },
      "source": [
        "## pickle"
      ]
    },
    {
      "cell_type": "markdown",
      "metadata": {
        "id": "_NgLMTCZYKXW"
      },
      "source": [
        "- #### Python Pickle is used to serialize and deserialize a python object structure. Any object on python can be pickled so that it can be saved on disk."
      ]
    },
    {
      "cell_type": "code",
      "source": [],
      "metadata": {
        "id": "O7Q1i_W7ERaN"
      },
      "execution_count": 23,
      "outputs": []
    },
    {
      "cell_type": "code",
      "execution_count": 24,
      "metadata": {
        "id": "_p-3IR-tYKXW"
      },
      "outputs": [],
      "source": [
        "import pickle"
      ]
    },
    {
      "cell_type": "code",
      "execution_count": 25,
      "metadata": {
        "id": "NU_5Pd_dYKXX"
      },
      "outputs": [],
      "source": [
        "L=[1,2,3,4]\n",
        "file = open('aaa.txt', 'wb')\n",
        "pickle.dump(L, file)\n",
        "file.close()"
      ]
    },
    {
      "cell_type": "code",
      "execution_count": 26,
      "metadata": {
        "id": "Oj3V0YRyYKXX",
        "outputId": "1fe44057-608f-4eeb-a1ea-a71e98708f01",
        "colab": {
          "base_uri": "https://localhost:8080/"
        }
      },
      "outputs": [
        {
          "output_type": "stream",
          "name": "stdout",
          "text": [
            "[1, 2, 3, 4]\n"
          ]
        }
      ],
      "source": [
        "fo = open('aaa.txt', 'rb')\n",
        "d = pickle.load(fo)\n",
        "fo.close()\n",
        "print(d)"
      ]
    },
    {
      "cell_type": "code",
      "execution_count": 27,
      "metadata": {
        "id": "HrKzeVJ6YKXX",
        "colab": {
          "base_uri": "https://localhost:8080/"
        },
        "outputId": "860e95c0-f7b3-4498-969b-f7bde6ae7809"
      },
      "outputs": [
        {
          "output_type": "stream",
          "name": "stdout",
          "text": [
            "[1, 2, 3, 4]\n"
          ]
        }
      ],
      "source": [
        "def read_from_file(fileName):\n",
        "    fo = open(fileName, 'rb')\n",
        "    d = pickle.load(fo)\n",
        "    fo.close()\n",
        "    return d\n",
        "\n",
        "print(read_from_file('aaa.txt'))"
      ]
    },
    {
      "cell_type": "code",
      "execution_count": 28,
      "metadata": {
        "id": "a4e2Mu01YKXX"
      },
      "outputs": [],
      "source": [
        "def write_to_file(data,f_name):\n",
        "    # open a file, where you ant to store the data\n",
        "    file = open(f_name, 'wb')\n",
        "    # dump information to that file\n",
        "    pickle.dump(data, file)\n",
        "\n",
        "# close the file\n",
        "    file.close()\n"
      ]
    },
    {
      "cell_type": "code",
      "execution_count": 29,
      "metadata": {
        "id": "KeGY-ZAVYKXX"
      },
      "outputs": [],
      "source": [
        "aa=[2,3,True,'AAAA']\n",
        "write_to_file(aa,'bbbb')"
      ]
    },
    {
      "cell_type": "code",
      "execution_count": 30,
      "metadata": {
        "id": "qu0kMzMKYKXX"
      },
      "outputs": [],
      "source": [
        "aa1=read_from_file('bbbb')"
      ]
    },
    {
      "cell_type": "code",
      "execution_count": 40,
      "metadata": {
        "id": "vzThMa4SYKXX",
        "outputId": "d50f9a35-fc56-44df-8776-b6b6d1c57a24",
        "colab": {
          "base_uri": "https://localhost:8080/"
        }
      },
      "outputs": [
        {
          "output_type": "execute_result",
          "data": {
            "text/plain": [
              "[2, 3, True, 'AAAA']"
            ]
          },
          "metadata": {},
          "execution_count": 40
        }
      ],
      "source": [
        "aa1\n"
      ]
    },
    {
      "cell_type": "markdown",
      "metadata": {
        "id": "hGkymou_YKXY"
      },
      "source": [
        "## Read file line by line"
      ]
    },
    {
      "cell_type": "code",
      "source": [
        "from google.colab import drive\n",
        "drive.mount('/content/drive')"
      ],
      "metadata": {
        "colab": {
          "base_uri": "https://localhost:8080/"
        },
        "id": "xdEPRbhsNNbQ",
        "outputId": "35ed6990-f7d9-4ff9-fb42-5ff45acfa889"
      },
      "execution_count": 32,
      "outputs": [
        {
          "output_type": "stream",
          "name": "stdout",
          "text": [
            "Drive already mounted at /content/drive; to attempt to forcibly remount, call drive.mount(\"/content/drive\", force_remount=True).\n"
          ]
        }
      ]
    },
    {
      "cell_type": "code",
      "source": [
        "ls"
      ],
      "metadata": {
        "colab": {
          "base_uri": "https://localhost:8080/"
        },
        "id": "rXYIAZe5NfMN",
        "outputId": "a762ca9e-69bf-4f49-ebd4-6446474ad277"
      },
      "execution_count": 36,
      "outputs": [
        {
          "output_type": "stream",
          "name": "stdout",
          "text": [
            "aaa.txt  bbbb  \u001b[0m\u001b[01;34mdrive\u001b[0m/  \u001b[01;34msample_data\u001b[0m/\n"
          ]
        }
      ]
    },
    {
      "cell_type": "code",
      "execution_count": 46,
      "metadata": {
        "id": "zPXF1RBlYKXY",
        "outputId": "9a403a1b-44f8-4297-e9da-a371b7059a82",
        "colab": {
          "base_uri": "https://localhost:8080/"
        }
      },
      "outputs": [
        {
          "output_type": "stream",
          "name": "stdout",
          "text": [
            "hello ahmed yousry\n",
            " ahmed\n",
            " ali\n",
            " 60 70\n",
            " dggkkgkfhg\n",
            " ibrahiem\n",
            " ali\n",
            " sflslfldf;fddgfgfg "
          ]
        }
      ],
      "source": [
        "def read_line_by_line_from_file(fname):\n",
        "    f = open(fname, 'rt')\n",
        "    for line in f:\n",
        "            print(line,end=\" \")\n",
        "    f.close()\n",
        "read_line_by_line_from_file('file.txt')\n",
        "# Using for loop"
      ]
    },
    {
      "cell_type": "code",
      "execution_count": 52,
      "metadata": {
        "id": "V5eWU_ISYKXY",
        "outputId": "b87ad5d1-3dfc-4f54-d853-b9bd68152263",
        "colab": {
          "base_uri": "https://localhost:8080/"
        }
      },
      "outputs": [
        {
          "output_type": "stream",
          "name": "stdout",
          "text": [
            "hello\n",
            "ahmed\n",
            "yousry\n",
            "ahmed\n",
            "ali\n",
            "60\n",
            "70\n",
            "dggkkgkfhg\n",
            "ibrahiem\n",
            "ali\n",
            "sflslfldf;fddgfgfg\n"
          ]
        }
      ],
      "source": [
        "f = open('file.txt', 'r')\n",
        "for line in f:\n",
        "    for word in line.split():\n",
        "        print(word)\n",
        "f.close()"
      ]
    },
    {
      "cell_type": "code",
      "execution_count": 54,
      "metadata": {
        "id": "rKx5wzoYYKXY"
      },
      "outputs": [],
      "source": [
        "def add(a,b):\n",
        "\n",
        "    return a+b"
      ]
    },
    {
      "cell_type": "markdown",
      "metadata": {
        "id": "MSTnqc5FYKXY"
      },
      "source": [
        "## Lambda expression\n"
      ]
    },
    {
      "cell_type": "markdown",
      "metadata": {
        "id": "1RHtoXtQYKXY"
      },
      "source": [
        "- A lambda function is a small anonymous function.\n",
        "\n",
        "- A lambda function can take any number of arguments, but can only have one expression.\n",
        "\n",
        "### Syntax:\n",
        "<font color='blue'><h5>lambda arguments : expression"
      ]
    },
    {
      "cell_type": "code",
      "execution_count": 53,
      "metadata": {
        "id": "S0K5Yh5fYKXY",
        "outputId": "c3905b72-1d69-42b3-c682-5f0cdf665549",
        "colab": {
          "base_uri": "https://localhost:8080/"
        }
      },
      "outputs": [
        {
          "output_type": "stream",
          "name": "stdout",
          "text": [
            "105\n"
          ]
        }
      ],
      "source": [
        "def add_5(x):\n",
        "    return x + 5\n",
        "\n",
        "print(add_5(100))"
      ]
    },
    {
      "cell_type": "code",
      "execution_count": 55,
      "metadata": {
        "id": "cCTSC3-xYKXY",
        "outputId": "0b9e31fa-5bcc-4095-e4c3-8f2f3cd0b3b3",
        "colab": {
          "base_uri": "https://localhost:8080/"
        }
      },
      "outputs": [
        {
          "output_type": "stream",
          "name": "stdout",
          "text": [
            "105\n"
          ]
        }
      ],
      "source": [
        "r=lambda x:x+5\n",
        "\n",
        "res=r(100)\n",
        "print(res)"
      ]
    },
    {
      "cell_type": "markdown",
      "metadata": {
        "id": "4C8Xi7dyYKXZ"
      },
      "source": [
        "## Convert function to lambda"
      ]
    },
    {
      "cell_type": "code",
      "execution_count": null,
      "metadata": {
        "id": "5wLfSs-iYKXZ",
        "outputId": "837098cd-73d2-4027-bbe9-00022b624070",
        "colab": {
          "base_uri": "https://localhost:8080/"
        }
      },
      "outputs": [
        {
          "output_type": "stream",
          "name": "stdout",
          "text": [
            "-30\n"
          ]
        }
      ],
      "source": [
        "def multiply_a_and_b(a,b):\n",
        "    return a*b\n",
        "\n",
        "res=multiply_a_and_b(3,-10)\n",
        "print(res)"
      ]
    },
    {
      "cell_type": "code",
      "execution_count": 56,
      "metadata": {
        "id": "xf0APGDVYKXZ"
      },
      "outputs": [],
      "source": [
        "m=lambda a,b: a*b"
      ]
    },
    {
      "cell_type": "code",
      "execution_count": 58,
      "metadata": {
        "id": "S3X-87d5YKXZ",
        "outputId": "3ab8d660-a056-47b0-a8a2-66ce996f5c59",
        "colab": {
          "base_uri": "https://localhost:8080/"
        }
      },
      "outputs": [
        {
          "output_type": "stream",
          "name": "stdout",
          "text": [
            "3000\n"
          ]
        }
      ],
      "source": [
        "print(m(30,100))"
      ]
    },
    {
      "cell_type": "code",
      "execution_count": null,
      "metadata": {
        "id": "iY5kYCdQYKXZ",
        "outputId": "70c12890-d63c-4433-eb75-7f04d51b3844",
        "colab": {
          "base_uri": "https://localhost:8080/"
        }
      },
      "outputs": [
        {
          "output_type": "stream",
          "name": "stdout",
          "text": [
            "32\n"
          ]
        }
      ],
      "source": [
        "def a_exp_b(a,b):\n",
        "    return a**b\n",
        "\n",
        "\n",
        "print(a_exp_b(2,5))"
      ]
    },
    {
      "cell_type": "code",
      "execution_count": 59,
      "metadata": {
        "id": "96yV2yUIYKXc",
        "outputId": "db17ef30-1b86-4809-b95c-6daee8d1c58f",
        "colab": {
          "base_uri": "https://localhost:8080/"
        }
      },
      "outputs": [
        {
          "output_type": "stream",
          "name": "stdout",
          "text": [
            "32\n"
          ]
        }
      ],
      "source": [
        "e=lambda a,b:a**b\n",
        "print(e(2,5))"
      ]
    },
    {
      "cell_type": "code",
      "execution_count": null,
      "metadata": {
        "id": "4nmcLF3GYKXd",
        "outputId": "47b3edeb-f0d7-4d45-8e81-028d33eef77a",
        "colab": {
          "base_uri": "https://localhost:8080/"
        }
      },
      "outputs": [
        {
          "output_type": "stream",
          "name": "stdout",
          "text": [
            "15\n",
            "30\n"
          ]
        }
      ],
      "source": [
        "# example 1:\n",
        "\n",
        "add= lambda a : a + 10\n",
        "print(add(5))\n",
        "\n",
        "# example 2:\n",
        "x = lambda a, b : a * b\n",
        "res=x(5, 6)\n",
        "print(res)"
      ]
    },
    {
      "cell_type": "markdown",
      "metadata": {
        "id": "gkvz2o3QYKXd"
      },
      "source": [
        "### map() and lambda Function\n",
        "\n",
        "- The map() function in Python takes in a function and a list.\n",
        "\n",
        "- The function is called with all the items in the list and a new list is returned which contains items returned by that function for each item"
      ]
    },
    {
      "cell_type": "code",
      "execution_count": 69,
      "metadata": {
        "id": "8FVwqV7XYKXd",
        "outputId": "065f1e56-4e1e-4843-a628-0e43212c307a",
        "colab": {
          "base_uri": "https://localhost:8080/"
        }
      },
      "outputs": [
        {
          "output_type": "stream",
          "name": "stdout",
          "text": [
            "[1, 25, 16, 36, 64, 121, 9, 144]\n"
          ]
        }
      ],
      "source": [
        "def list_square(lst):\n",
        "    res=[]\n",
        "    for l in lst:\n",
        "        res.append(l**2)\n",
        "\n",
        "    return res\n",
        "\n",
        "my_list = [1, 5, 4, 6, 8, 11, 3, 12]\n",
        "\n",
        "print(list_square(my_list))"
      ]
    },
    {
      "cell_type": "code",
      "execution_count": 70,
      "metadata": {
        "id": "1fqy6MMjYKXd",
        "outputId": "253b71f3-af2b-42aa-c3e2-557b261ae532",
        "colab": {
          "base_uri": "https://localhost:8080/"
        }
      },
      "outputs": [
        {
          "output_type": "stream",
          "name": "stdout",
          "text": [
            "[1, 25, 16, 36, 64, 121, 9, 144]\n"
          ]
        }
      ],
      "source": [
        "fun= map(lambda a:a**2,my_list)\n",
        "print(list(fun))"
      ]
    },
    {
      "cell_type": "code",
      "source": [
        "my_list = [1, 5, 4, 6, 8, 11, 3, 12]\n",
        "max_value = max(map(lambda x:x, my_list))\n",
        "print(max_value)  # Output: 12\n"
      ],
      "metadata": {
        "colab": {
          "base_uri": "https://localhost:8080/"
        },
        "id": "FsSAkV-5B531",
        "outputId": "9138a7e4-3139-4b3f-8246-a633b2c217e3"
      },
      "execution_count": 71,
      "outputs": [
        {
          "output_type": "stream",
          "name": "stdout",
          "text": [
            "12\n"
          ]
        }
      ]
    },
    {
      "cell_type": "code",
      "source": [
        "my_list = [1, 5, 4, 6, 8, 11, 3, 12]\n",
        "max_value = max(my_list, key=lambda x: x)\n",
        "print(max_value)  # Output: 12\n"
      ],
      "metadata": {
        "colab": {
          "base_uri": "https://localhost:8080/"
        },
        "id": "6X-E2x7mBiwH",
        "outputId": "8893d8ec-877b-4b66-bd4d-8e8ad16b9ef3"
      },
      "execution_count": 73,
      "outputs": [
        {
          "output_type": "stream",
          "name": "stdout",
          "text": [
            "12\n"
          ]
        }
      ]
    },
    {
      "cell_type": "code",
      "execution_count": 72,
      "metadata": {
        "id": "8auJAW31YKXd",
        "outputId": "bfefbe42-9eea-425d-bc90-609ddc898f8a",
        "colab": {
          "base_uri": "https://localhost:8080/"
        }
      },
      "outputs": [
        {
          "output_type": "execute_result",
          "data": {
            "text/plain": [
              "[9, 16, 25]"
            ]
          },
          "metadata": {},
          "execution_count": 72
        }
      ],
      "source": [
        "list(map(lambda a:a**2,[3,4,5]))"
      ]
    },
    {
      "cell_type": "markdown",
      "metadata": {
        "id": "HWQmbxeMYKXd"
      },
      "source": [
        "### filter and lambda function\n",
        "- In simple words, filter() method filters the given iterable with the help of a function that tests each element in the iterable to be true or not.\n",
        "<br>\n",
        "<br>\n",
        "- The filter() function in Python takes in a function and a list as arguments. This offers an elegant way to filter out all the elements of a sequence “sequence”, for which the function returns True."
      ]
    },
    {
      "cell_type": "code",
      "execution_count": null,
      "metadata": {
        "id": "Ke069hPCYKXd",
        "outputId": "3b39295a-6bae-4920-ff4c-a669292b597a",
        "colab": {
          "base_uri": "https://localhost:8080/"
        }
      },
      "outputs": [
        {
          "output_type": "stream",
          "name": "stdout",
          "text": [
            "[12, 15]\n"
          ]
        }
      ],
      "source": [
        "my_list = [1,2,3,4,8,10,12,15 ]\n",
        "\n",
        "# use anonymous function to filter and comparing\n",
        "\n",
        "res1=list(filter(lambda x:x>10,my_list))\n",
        "\n",
        "\n",
        "# printing the result\n",
        "print(res1)"
      ]
    },
    {
      "cell_type": "markdown",
      "metadata": {
        "id": "03w1qBN_YKXe"
      },
      "source": [
        "### reduce\n",
        "Python’s reduce() is a function that implements a mathematical technique called folding or reduction. reduce() is useful when you need to apply a function to an iterable and reduce it to a single cumulative value. Python’s reduce() is popular among developers with a functional programming background, but Python has more to offer."
      ]
    },
    {
      "cell_type": "code",
      "execution_count": null,
      "metadata": {
        "id": "Zl0zKjtYYKXe",
        "outputId": "8b2218c3-a040-4b44-ba7a-78d4d42adf78",
        "colab": {
          "base_uri": "https://localhost:8080/"
        }
      },
      "outputs": [
        {
          "output_type": "stream",
          "name": "stdout",
          "text": [
            "24\n"
          ]
        }
      ],
      "source": [
        "product = 1\n",
        "list22 = [1, 2, 3, 4]\n",
        "for num in list22:\n",
        "    product = product * num\n",
        "\n",
        "print(product)\n",
        "# product = 24"
      ]
    },
    {
      "cell_type": "code",
      "execution_count": null,
      "metadata": {
        "id": "PjIsCEh8YKXe",
        "outputId": "4f6a2f32-8a1c-4445-a5ac-c006e2edd8b0",
        "colab": {
          "base_uri": "https://localhost:8080/"
        }
      },
      "outputs": [
        {
          "output_type": "stream",
          "name": "stdout",
          "text": [
            "0.041666666666666664\n"
          ]
        }
      ],
      "source": [
        "from functools import reduce\n",
        "print(reduce(lambda a,b:a+b,list22))"
      ]
    },
    {
      "cell_type": "code",
      "execution_count": null,
      "metadata": {
        "id": "x-yaPpLjYKXe",
        "outputId": "176c6e4b-4222-44f1-9177-5bcbdfee4cbf",
        "colab": {
          "base_uri": "https://localhost:8080/"
        }
      },
      "outputs": [
        {
          "output_type": "stream",
          "name": "stdout",
          "text": [
            "16\n"
          ]
        }
      ],
      "source": [
        "from functools import reduce\n",
        "\n",
        "def add(x, y):\n",
        "    return x + y\n",
        "\n",
        "list11 = [2, 4, 7, 3]\n",
        "print(reduce(add, list11))"
      ]
    },
    {
      "cell_type": "code",
      "execution_count": null,
      "metadata": {
        "id": "YpXs-pa3YKXe",
        "outputId": "9d5788b0-62d0-48e5-ce23-60bf3c493380",
        "colab": {
          "base_uri": "https://localhost:8080/"
        }
      },
      "outputs": [
        {
          "output_type": "stream",
          "name": "stdout",
          "text": [
            "16\n",
            "With an initial value: 26\n"
          ]
        }
      ],
      "source": [
        "from functools import reduce\n",
        "\n",
        "list11 = [2, 4, 7, 3]\n",
        "\n",
        "print(reduce(lambda x, y: x + y, list11))\n",
        "\n",
        "print(\"With an initial value: \" + str(reduce(lambda x, y: x + y, list11, 10)))"
      ]
    },
    {
      "cell_type": "code",
      "execution_count": null,
      "metadata": {
        "id": "szQ3jJTcYKXe"
      },
      "outputs": [],
      "source": [
        "from functools import reduce\n",
        "product = reduce((lambda x, y: x * y), [1, 2, 3, 4])\n",
        "\n",
        "# Output: 24"
      ]
    },
    {
      "cell_type": "code",
      "execution_count": null,
      "metadata": {
        "id": "iupCG1fsYKXf",
        "outputId": "563a683b-43a8-4f1a-e932-08462cdfc4e4",
        "colab": {
          "base_uri": "https://localhost:8080/"
        }
      },
      "outputs": [
        {
          "output_type": "execute_result",
          "data": {
            "text/plain": [
              "5050"
            ]
          },
          "metadata": {},
          "execution_count": 42
        }
      ],
      "source": [
        "## Calculating the sum of the numbers from 1 to 100:\n",
        "from functools import reduce\n",
        "reduce(lambda x, y: x+y, range(1,101)) #  [1 ... 100]"
      ]
    },
    {
      "cell_type": "code",
      "execution_count": null,
      "metadata": {
        "id": "xrfu0sA2YKXf",
        "outputId": "1acf75cb-36c4-4032-835f-29634f2597ad",
        "colab": {
          "base_uri": "https://localhost:8080/"
        }
      },
      "outputs": [
        {
          "output_type": "stream",
          "name": "stdout",
          "text": [
            "102\n"
          ]
        }
      ],
      "source": [
        "from functools import reduce\n",
        "\n",
        "r= lambda a,b: a if (a > b) else b\n",
        "\n",
        "f = reduce( r, [47,11,42,102,13, 10])\n",
        "print(f)"
      ]
    },
    {
      "cell_type": "code",
      "execution_count": null,
      "metadata": {
        "id": "0i7RjiBLYKXf",
        "outputId": "65ecbe8a-3e3e-4128-cfb0-8bd8a65dc10d",
        "colab": {
          "base_uri": "https://localhost:8080/"
        }
      },
      "outputs": [
        {
          "output_type": "stream",
          "name": "stdout",
          "text": [
            "['even', 'odd', 'even', 'odd', 'even']\n"
          ]
        }
      ],
      "source": [
        "f = lambda a: 'even' if (a %2==0) else 'odd'\n",
        "\n",
        "res=list(map(f,[2,3,4,5,8]))\n",
        "\n",
        "print(res)"
      ]
    },
    {
      "cell_type": "markdown",
      "metadata": {
        "id": "8h1y-S_BYKXf"
      },
      "source": [
        "## List comprehensions in Python\n",
        "\n",
        "- List comprehensions provide you a way of writing for loops more concisely.\n",
        "- They can be useful when you want to create new lists from existing lists or iterables."
      ]
    },
    {
      "cell_type": "code",
      "execution_count": null,
      "metadata": {
        "id": "JWYgYVTLYKXf",
        "outputId": "427ab322-0b83-4324-f89e-d06c0e771a72",
        "colab": {
          "base_uri": "https://localhost:8080/"
        }
      },
      "outputs": [
        {
          "output_type": "stream",
          "name": "stdout",
          "text": [
            "[16, 9, 25, 9]\n"
          ]
        }
      ],
      "source": [
        "lst4=[4,3,5,3]\n",
        "lst_res=[]\n",
        "for ll in lst4:\n",
        "    lst_res.append(ll*ll)\n",
        "print(lst_res)"
      ]
    },
    {
      "cell_type": "markdown",
      "metadata": {
        "id": "qMiRnB3HYKXf"
      },
      "source": [
        "### Syntax of List comprehensions"
      ]
    },
    {
      "cell_type": "markdown",
      "metadata": {
        "id": "MPyI9kJvYKXf"
      },
      "source": [
        "<font color= \"red\" size=\"3\">Let's begin by writing a very basic for loop to list the first 15 multiples of 5. First, you need to create an empty list. Then, you have to iterate over a range of numbers and multiply them by 5. The new sequence of numbers that you get will consist of multiples of 5 </font>"
      ]
    },
    {
      "cell_type": "code",
      "execution_count": null,
      "metadata": {
        "id": "NbyU4oJsYKXf",
        "outputId": "0aebaf98-913a-4998-d238-ea53b81f4de5",
        "colab": {
          "base_uri": "https://localhost:8080/"
        }
      },
      "outputs": [
        {
          "output_type": "stream",
          "name": "stdout",
          "text": [
            "[5, 10, 15, 20, 25, 30, 35, 40, 45, 50, 55, 60, 65, 70, 75]\n"
          ]
        }
      ],
      "source": [
        "multiples = []\n",
        "\n",
        "for n in range(1,16):\n",
        "    multiples.append(n*5)\n",
        "\n",
        "print(multiples)\n",
        "# [5, 10, 15, 20, 25, 30, 35, 40, 45, 50, 55, 60, 65, 70, 75]\n"
      ]
    },
    {
      "cell_type": "code",
      "execution_count": null,
      "metadata": {
        "id": "1xrdB9iZYKXg",
        "outputId": "aa26a511-b07a-4ad5-a762-952a7e91dce1",
        "colab": {
          "base_uri": "https://localhost:8080/"
        }
      },
      "outputs": [
        {
          "output_type": "stream",
          "name": "stdout",
          "text": [
            "[5, 10, 15, 20, 25, 30, 35, 40, 45, 50, 55, 60, 65, 70, 75]\n"
          ]
        }
      ],
      "source": [
        "res=[n*5 for n in range(1,16)]\n",
        "print(res)"
      ]
    },
    {
      "cell_type": "code",
      "execution_count": null,
      "metadata": {
        "id": "lrM0XIlKYKXg",
        "outputId": "f9c5fec4-948c-4a09-e0bd-0868a1d3be35",
        "colab": {
          "base_uri": "https://localhost:8080/"
        }
      },
      "outputs": [
        {
          "output_type": "stream",
          "name": "stdout",
          "text": [
            "[1, 1, 1, 1, 1, 1, 1, 1, 1, 1, 1, 1, 1, 1, 1, 1, 1, 1, 1, 1]\n"
          ]
        }
      ],
      "source": [
        "print([1 for _ in range (20)])"
      ]
    },
    {
      "cell_type": "code",
      "execution_count": null,
      "metadata": {
        "id": "O0RQ29gkYKXg",
        "outputId": "4d415859-fac1-43ec-b094-3d5b135b8e34",
        "colab": {
          "base_uri": "https://localhost:8080/"
        }
      },
      "outputs": [
        {
          "output_type": "stream",
          "name": "stdout",
          "text": [
            "[9, 16, 25, 64]\n"
          ]
        }
      ],
      "source": [
        "lst30=[3,4,5,8]\n",
        "res6=[i**2 for i in lst30]\n",
        "print(res6)"
      ]
    },
    {
      "cell_type": "markdown",
      "metadata": {
        "id": "iLhsM6_HYKXg"
      },
      "source": [
        "### syntax of for\n"
      ]
    },
    {
      "cell_type": "markdown",
      "metadata": {
        "id": "gdjnexa6YKXh"
      },
      "source": [
        "#### Write a program to print the even numbers between 1 and 20"
      ]
    },
    {
      "cell_type": "code",
      "execution_count": null,
      "metadata": {
        "id": "-1KHv8j9YKXh",
        "outputId": "09066cd3-b463-4037-bc48-060ac6091b62",
        "colab": {
          "base_uri": "https://localhost:8080/"
        }
      },
      "outputs": [
        {
          "output_type": "stream",
          "name": "stdout",
          "text": [
            "[2, 4, 6, 8, 10, 12, 14, 16, 18, 20]\n"
          ]
        }
      ],
      "source": [
        "evens = []\n",
        "\n",
        "for n in range(1,21):\n",
        "    if n%2 == 0:\n",
        "        evens.append(n)\n",
        "print(evens)"
      ]
    },
    {
      "cell_type": "code",
      "execution_count": null,
      "metadata": {
        "id": "xWxopVm7YKXi",
        "outputId": "1b7bfcc1-e722-4639-d62f-0b93a246f9d5",
        "colab": {
          "base_uri": "https://localhost:8080/"
        }
      },
      "outputs": [
        {
          "output_type": "execute_result",
          "data": {
            "text/plain": [
              "[2, 4, 6, 8, 10, 12, 14, 16, 18, 20]"
            ]
          },
          "metadata": {},
          "execution_count": 46
        }
      ],
      "source": [
        "res8=[n for n in range(1,21) if n%2==0]\n",
        "res8"
      ]
    },
    {
      "cell_type": "code",
      "execution_count": null,
      "metadata": {
        "id": "5D5PrgiGYKXi",
        "outputId": "07683859-0e69-4278-f1b9-c83e32d5f81a"
      },
      "outputs": [
        {
          "data": {
            "text/plain": [
              "[100, 2, 4, 6]"
            ]
          },
          "execution_count": 114,
          "metadata": {},
          "output_type": "execute_result"
        }
      ],
      "source": [
        "lst40=[100,2,3,4,5,6,7]\n",
        "res9=[n for n in lst40 if n%2==0]\n",
        "res9"
      ]
    },
    {
      "cell_type": "code",
      "execution_count": null,
      "metadata": {
        "id": "oqz_T99RYKXi",
        "outputId": "fe9a82aa-36a6-4578-8c6f-47d33c48eb37",
        "colab": {
          "base_uri": "https://localhost:8080/"
        }
      },
      "outputs": [
        {
          "output_type": "execute_result",
          "data": {
            "text/plain": [
              "[1, 4, 27, 16, 125, 36, 343, 64, 729, 100, 1331, 144, 2197, 196, 3375]"
            ]
          },
          "metadata": {},
          "execution_count": 21
        }
      ],
      "source": [
        "res10=[n**2 if n%2==0 else n**3 for n in range(1,16)]\n",
        "res10"
      ]
    },
    {
      "cell_type": "code",
      "execution_count": null,
      "metadata": {
        "id": "xJMJj1IzYKXi",
        "outputId": "fe90d5b4-ac9c-46e2-b619-b29a3b4f4a74"
      },
      "outputs": [
        {
          "name": "stdout",
          "output_type": "stream",
          "text": [
            "['Pass', 'Pass', 'Fail', 'Pass', 'Fail']\n"
          ]
        }
      ],
      "source": [
        "grades_list=[75,80,20,100,55]\n",
        "## write list comprehision for printing if the student pass or fail\n",
        "res=['Pass' if g>=70 else 'Fail' for g in grades_list]\n",
        "print(res)"
      ]
    },
    {
      "cell_type": "markdown",
      "metadata": {
        "id": "cdLpRj1tYKXi"
      },
      "source": [
        "### Nested for"
      ]
    },
    {
      "cell_type": "code",
      "execution_count": null,
      "metadata": {
        "id": "Hx3dJAFSYKXi",
        "outputId": "18298ded-c1df-4a96-ef09-3bf2b5556cfd"
      },
      "outputs": [
        {
          "name": "stdout",
          "output_type": "stream",
          "text": [
            "[1, 2, 3, 4, 5, 6, 7, 8, 9]\n"
          ]
        }
      ],
      "source": [
        "# 2-D List\n",
        "matrix = [[1, 2, 3],\n",
        "          [4, 5],\n",
        "          [6, 7, 8, 9]]\n",
        "\n",
        "flatten_matrix = []\n",
        "\n",
        "for row in matrix:\n",
        "        ##print(row)\n",
        "        for r in row:\n",
        "            flatten_matrix.append(r)\n",
        "\n",
        "print(flatten_matrix)"
      ]
    }
  ],
  "metadata": {
    "kernelspec": {
      "display_name": "Python 3",
      "language": "python",
      "name": "python3"
    },
    "language_info": {
      "codemirror_mode": {
        "name": "ipython",
        "version": 3
      },
      "file_extension": ".py",
      "mimetype": "text/x-python",
      "name": "python",
      "nbconvert_exporter": "python",
      "pygments_lexer": "ipython3",
      "version": "3.8.5"
    },
    "colab": {
      "provenance": []
    }
  },
  "nbformat": 4,
  "nbformat_minor": 0
}