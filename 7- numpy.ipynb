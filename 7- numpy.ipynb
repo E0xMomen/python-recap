{
  "cells": [
    {
      "cell_type": "code",
      "execution_count": 1,
      "metadata": {
        "id": "VTZfyN2iEtzW"
      },
      "outputs": [],
      "source": [
        "import numpy as np"
      ]
    },
    {
      "cell_type": "markdown",
      "metadata": {
        "id": "79JWpqG7EtzW"
      },
      "source": [
        "## What is the advantage of numpy over the list?\n",
        "\n",
        "* consumes less memory.\n",
        "* fast as compared to the python List (30 times faster)\n",
        "*  It has better support for mathematical operations."
      ]
    },
    {
      "cell_type": "code",
      "execution_count": 2,
      "metadata": {
        "colab": {
          "base_uri": "https://localhost:8080/"
        },
        "id": "Y9XCPzuzEtzW",
        "outputId": "8779e233-cd32-495f-c4cc-250e8b850e4e"
      },
      "outputs": [
        {
          "output_type": "stream",
          "name": "stdout",
          "text": [
            "1000000 1000000\n"
          ]
        }
      ],
      "source": [
        "import time\n",
        "lst1=list(range(1000000))\n",
        "lst2=list(range(2000000,3000000))\n",
        "##\n",
        "print(len(lst1),len(lst2))"
      ]
    },
    {
      "cell_type": "code",
      "source": [
        "lst1[0:10]"
      ],
      "metadata": {
        "colab": {
          "base_uri": "https://localhost:8080/"
        },
        "id": "VA-PeowrdowL",
        "outputId": "302b0c9b-064d-4860-c8b8-f6ce922aa47c"
      },
      "execution_count": 3,
      "outputs": [
        {
          "output_type": "execute_result",
          "data": {
            "text/plain": [
              "[0, 1, 2, 3, 4, 5, 6, 7, 8, 9]"
            ]
          },
          "metadata": {},
          "execution_count": 3
        }
      ]
    },
    {
      "cell_type": "code",
      "source": [
        "lst2[0:10]"
      ],
      "metadata": {
        "colab": {
          "base_uri": "https://localhost:8080/"
        },
        "id": "bq6wktoydtM1",
        "outputId": "4be85460-d220-43a6-a325-a8e602f917b6"
      },
      "execution_count": 4,
      "outputs": [
        {
          "output_type": "execute_result",
          "data": {
            "text/plain": [
              "[2000000,\n",
              " 2000001,\n",
              " 2000002,\n",
              " 2000003,\n",
              " 2000004,\n",
              " 2000005,\n",
              " 2000006,\n",
              " 2000007,\n",
              " 2000008,\n",
              " 2000009]"
            ]
          },
          "metadata": {},
          "execution_count": 4
        }
      ]
    },
    {
      "cell_type": "code",
      "source": [
        "sum=0\n",
        "t1=time.time()   #11:05:20\n",
        "for a, b in zip(lst1, lst2):\n",
        "    sum = sum+( a+b)\n",
        "t2=time.time()  # final time   #11:05:50\n",
        "print(t2-t1)"
      ],
      "metadata": {
        "colab": {
          "base_uri": "https://localhost:8080/"
        },
        "id": "UGVqX1U3dn4Z",
        "outputId": "0f674c40-ba94-4af7-efd1-7081d6e7600a"
      },
      "execution_count": 9,
      "outputs": [
        {
          "output_type": "stream",
          "name": "stdout",
          "text": [
            "0.1998598575592041\n"
          ]
        }
      ]
    },
    {
      "cell_type": "code",
      "execution_count": 11,
      "metadata": {
        "id": "LZB7OiqHEtzW",
        "outputId": "c5b496f1-ea1f-4a26-94e7-b34a868b7ade",
        "colab": {
          "base_uri": "https://localhost:8080/"
        }
      },
      "outputs": [
        {
          "output_type": "stream",
          "name": "stdout",
          "text": [
            "0.00847768783569336\n"
          ]
        }
      ],
      "source": [
        "import numpy as np\n",
        "\n",
        "aa=np.asarray(lst1)\n",
        "bb=np.asarray(lst2)\n",
        "t1=time.time()\n",
        "res=np.sum(bb+aa)\n",
        "t2=time.time()\n",
        "print(t2-t1)"
      ]
    },
    {
      "cell_type": "code",
      "execution_count": 10,
      "metadata": {
        "id": "WdPmEEchEtzW",
        "colab": {
          "base_uri": "https://localhost:8080/"
        },
        "outputId": "48a023f4-1e70-457f-c517-6f180505115b"
      },
      "outputs": [
        {
          "output_type": "execute_result",
          "data": {
            "text/plain": [
              "array([0.73105858, 0.88079708, 0.95257413])"
            ]
          },
          "metadata": {},
          "execution_count": 10
        }
      ],
      "source": [
        "def sigmoid (a):   #[[1,2,3]]\n",
        "    return 1/(1+np.exp(-a))\n",
        "\n",
        "\n",
        "a=np.array([1,2,3])\n",
        "sigmoid(a)"
      ]
    },
    {
      "cell_type": "code",
      "execution_count": 18,
      "metadata": {
        "id": "w3KyHC2nEtzX",
        "outputId": "bae9b97b-4c72-41b3-ddfb-2d9e9ff1201c",
        "colab": {
          "base_uri": "https://localhost:8080/"
        }
      },
      "outputs": [
        {
          "output_type": "execute_result",
          "data": {
            "text/plain": [
              "array([11, 12, 13])"
            ]
          },
          "metadata": {},
          "execution_count": 18
        }
      ],
      "source": [
        "def add10(a):\n",
        "    return a+10\n",
        "\n",
        "a=np.array([1,2,3])\n",
        "add10(a)"
      ]
    },
    {
      "cell_type": "markdown",
      "metadata": {
        "id": "OmAqe230EtzX"
      },
      "source": [
        "### Convert Python List to numpy Arrays"
      ]
    },
    {
      "cell_type": "code",
      "execution_count": 20,
      "metadata": {
        "id": "4mUVQCwuEtzX",
        "outputId": "25e86bd8-ffd3-4310-fc03-3df9077d5762",
        "colab": {
          "base_uri": "https://localhost:8080/"
        }
      },
      "outputs": [
        {
          "output_type": "stream",
          "name": "stdout",
          "text": [
            "<class 'numpy.ndarray'>\n",
            "2\n",
            "(2, 3)\n"
          ]
        }
      ],
      "source": [
        "ll=[3,4,5]\n",
        "\n",
        "ll_np=np.asarray(ll)\n",
        "\n",
        "print(type(ll_np))\n",
        "\n",
        "ll2d=[[3,4,5],[6,7,8]]\n",
        "\n",
        "print(len(ll2d))\n",
        "\n",
        "ll2d_np=np.asarray(ll2d)\n",
        "\n",
        "print(ll2d_np.shape)\n",
        "\n"
      ]
    },
    {
      "cell_type": "markdown",
      "metadata": {
        "id": "kplBCs_iEtzX"
      },
      "source": [
        "### # convert numpy array to list"
      ]
    },
    {
      "cell_type": "code",
      "execution_count": 22,
      "metadata": {
        "id": "TknCVZLOEtzX",
        "outputId": "bbf57a15-de2a-4450-ad83-d7464cb79fef",
        "colab": {
          "base_uri": "https://localhost:8080/"
        }
      },
      "outputs": [
        {
          "output_type": "stream",
          "name": "stdout",
          "text": [
            "<class 'numpy.ndarray'>\n",
            "<class 'list'>\n"
          ]
        }
      ],
      "source": [
        "arr20=np.array([3,4,5])\n",
        "\n",
        "print(type(arr20))\n",
        "\n",
        "lst100=arr20.tolist()\n",
        "\n",
        "print(type(lst100))"
      ]
    },
    {
      "cell_type": "code",
      "execution_count": 23,
      "metadata": {
        "id": "jF54UfMMEtzY",
        "outputId": "9ee7d408-59d2-46f4-a4a2-a9c4e9e90f7c",
        "colab": {
          "base_uri": "https://localhost:8080/"
        }
      },
      "outputs": [
        {
          "output_type": "stream",
          "name": "stdout",
          "text": [
            "[[10 12]]\n",
            "2\n"
          ]
        }
      ],
      "source": [
        "arr6D=np.array([10,12],ndmin=2)\n",
        "print(arr6D)\n",
        "print(arr6D.ndim)"
      ]
    },
    {
      "cell_type": "markdown",
      "metadata": {
        "id": "9cIk8x-EEtzc"
      },
      "source": [
        "## np.random.seed()\n",
        "Seed function is used to save the state of a random function, so that it can generate same random numbers on multiple executions of the code on the same machine or on different machines (for a specific seed value). The seed value is the previous value number generated by the generator. For the first time when there is no previous value, it uses current system time."
      ]
    },
    {
      "cell_type": "code",
      "execution_count": 15,
      "metadata": {
        "id": "b4cXkKKLEtzc",
        "outputId": "dda8cb19-3f16-4d59-e8fe-b93d0dc21e84",
        "colab": {
          "base_uri": "https://localhost:8080/"
        }
      },
      "outputs": [
        {
          "output_type": "execute_result",
          "data": {
            "text/plain": [
              "array([9, 9, 7, 3, 9, 8, 3, 2, 6, 5, 5, 6, 8, 4, 7, 5, 4, 8, 7, 2, 4, 6,\n",
              "       9, 5, 7, 4, 3, 1, 5, 3, 5, 2, 8, 9, 3, 9, 8, 2, 7, 9, 6, 4, 1, 1,\n",
              "       3, 9, 9, 3, 7, 6])"
            ]
          },
          "metadata": {},
          "execution_count": 15
        }
      ],
      "source": [
        "np.random.seed(2)\n",
        "np.random.randint(low = 1, high = 10, size = 50)"
      ]
    },
    {
      "cell_type": "markdown",
      "metadata": {
        "id": "m-ihMZS1Etzc"
      },
      "source": [
        "## numpy.unique\n",
        "- This function returns an array of unique elements in the input array.\n",
        "- The function can be able to return a tuple of array of unique vales and an array of associated indices"
      ]
    },
    {
      "cell_type": "code",
      "execution_count": 21,
      "metadata": {
        "id": "qcaw8OxOEtzc",
        "outputId": "a68910af-39ec-498f-8790-ee79804809e9",
        "colab": {
          "base_uri": "https://localhost:8080/"
        }
      },
      "outputs": [
        {
          "output_type": "stream",
          "name": "stdout",
          "text": [
            "[ 1  2  3  4  6 10]\n"
          ]
        }
      ],
      "source": [
        "a = np.array([10,10,1,2,1,3,2,4,6,6,6])\n",
        "a1=np.unique(a)\n",
        "print(a1)"
      ]
    },
    {
      "cell_type": "code",
      "source": [
        "### u, indices= np.unique(a, return_index=True)\n",
        "u, indices= np.unique(a, return_index=True)\n",
        "print(u, indices)"
      ],
      "metadata": {
        "colab": {
          "base_uri": "https://localhost:8080/"
        },
        "id": "Z_AhUEe9hkJJ",
        "outputId": "4dfc634e-9c5d-4ec1-ca48-293650258b7e"
      },
      "execution_count": 26,
      "outputs": [
        {
          "output_type": "stream",
          "name": "stdout",
          "text": [
            "[ 1  2  3  4  6 10] [2 3 5 7 8 0]\n"
          ]
        }
      ]
    },
    {
      "cell_type": "code",
      "source": [
        "#####\n",
        "u, count1= np.unique(a, return_counts=True)\n",
        "print(u, count1)"
      ],
      "metadata": {
        "colab": {
          "base_uri": "https://localhost:8080/"
        },
        "id": "z3tRAF0GhoD3",
        "outputId": "b0996ea4-4e44-417d-e0ab-c9ab099762a1"
      },
      "execution_count": 24,
      "outputs": [
        {
          "output_type": "stream",
          "name": "stdout",
          "text": [
            "[ 1  2  3  4  6 10] [2 2 1 1 3 2]\n"
          ]
        }
      ]
    },
    {
      "cell_type": "markdown",
      "metadata": {
        "id": "GsS-Qy6pEtzd"
      },
      "source": [
        "## Aggregations: Min, Max, and Everything In Between\n",
        "- sum, min, max, mean, and std"
      ]
    },
    {
      "cell_type": "code",
      "execution_count": 25,
      "metadata": {
        "id": "fxbq6BnFEtzd",
        "outputId": "a0bfba1e-fa21-4179-ed18-77a2da5d54ec",
        "colab": {
          "base_uri": "https://localhost:8080/"
        }
      },
      "outputs": [
        {
          "output_type": "stream",
          "name": "stdout",
          "text": [
            "[[2 3]\n",
            " [4 5]\n",
            " [6 7]\n",
            " [8 9]]\n",
            "2\n",
            "9\n",
            "[2 3]\n",
            "[2 4 6 8]\n"
          ]
        }
      ],
      "source": [
        "arr=np.arange(2,10).reshape(4,2)\n",
        "print(arr)\n",
        "\n",
        "print(np.min(arr))\n",
        "print(np.max(arr))\n",
        "\n",
        "print(np.min(arr,axis=0)) # axis 0 = column\n",
        "print(np.min(arr,axis=1)) # axis 1 = row"
      ]
    },
    {
      "cell_type": "markdown",
      "metadata": {
        "id": "V-b8O6RpEtzd"
      },
      "source": [
        "## argmin and argmax\n",
        "- argmin: Returns the indices of the minimum values along an axis.\n",
        "- argmax: Returns the indices of the maximum values along an axis."
      ]
    },
    {
      "cell_type": "code",
      "execution_count": 29,
      "metadata": {
        "id": "0mRL2CgeEtzd",
        "outputId": "2de6c37b-c197-4006-bb97-80f7b56d81a8",
        "colab": {
          "base_uri": "https://localhost:8080/"
        }
      },
      "outputs": [
        {
          "output_type": "stream",
          "name": "stdout",
          "text": [
            "4\n",
            "1\n"
          ]
        }
      ],
      "source": [
        "arr1000=np.array([1,10,-1,2,-30])\n",
        "print(np.argmin(arr1000,axis=0))\n",
        "print(np.argmax(arr1000))\n",
        "\n",
        "#Softmax => probalbilities > index of the highest prob."
      ]
    },
    {
      "cell_type": "markdown",
      "metadata": {
        "id": "vaaxw-7CEtzd"
      },
      "source": [
        "### numpy.argsort()\n",
        "\n",
        "- Returns the indices that would sort an array.\n",
        "- Perform an indirect sort along the given axis using the algorithm specified by the kind keyword. It returns an array of indices of the same shape as a that index data along the given axis in sorted order."
      ]
    },
    {
      "cell_type": "code",
      "execution_count": 30,
      "metadata": {
        "id": "urp4PH79Etzd",
        "outputId": "ca3279c8-e9f9-4867-cb24-ed943456fb4b",
        "colab": {
          "base_uri": "https://localhost:8080/"
        }
      },
      "outputs": [
        {
          "output_type": "stream",
          "name": "stdout",
          "text": [
            "Input unsorted array :  [2 0 1 5 4 1 9]\n",
            "Output sorted array indices :  [1 2 5 0 4 3 6]\n",
            "Output sorted array :  [0 1 1 2 4 5 9]\n"
          ]
        }
      ],
      "source": [
        "# input array\n",
        "in_arr = np.array([ 2, 0,  1, 5, 4, 1, 9])\n",
        "print (\"Input unsorted array : \", in_arr)\n",
        "\n",
        "out_arr = np.argsort(in_arr)\n",
        "print (\"Output sorted array indices : \", out_arr)\n",
        "print(\"Output sorted array : \", in_arr[out_arr])"
      ]
    },
    {
      "cell_type": "code",
      "execution_count": 31,
      "metadata": {
        "id": "bRri_bHwEtzd",
        "outputId": "2837f8aa-2abe-4baf-fa69-663b396f5dea",
        "colab": {
          "base_uri": "https://localhost:8080/"
        }
      },
      "outputs": [
        {
          "output_type": "stream",
          "name": "stdout",
          "text": [
            "[6 3 4 0 5 2 1]\n",
            "[9 5 4 2 1 1 0]\n"
          ]
        }
      ],
      "source": [
        "## np.argsort in decending order\n",
        "res=np.argsort(in_arr)[::-1]\n",
        "print(res) # return indeces\n",
        "print(in_arr[res])"
      ]
    },
    {
      "cell_type": "code",
      "execution_count": null,
      "metadata": {
        "id": "ghlew1vOEtzd",
        "outputId": "8f530707-5c39-4a12-999d-b2d7c49211b4",
        "colab": {
          "base_uri": "https://localhost:8080/"
        }
      },
      "outputs": [
        {
          "output_type": "stream",
          "name": "stdout",
          "text": [
            "[[10 11 12]\n",
            " [13 14 15]]\n",
            "[0 0 0]\n"
          ]
        }
      ],
      "source": [
        "a = np.arange(6).reshape(2,3) + 10\n",
        "print(a)\n",
        "\n",
        "print(np.argmin(a,axis=0))"
      ]
    },
    {
      "cell_type": "code",
      "source": [
        "a = np.arange(6).reshape(2,3) + 10\n",
        "print(a)\n",
        "\n",
        "print(np.argmin(a,axis=1))"
      ],
      "metadata": {
        "colab": {
          "base_uri": "https://localhost:8080/"
        },
        "id": "CK7p7E2fkDh2",
        "outputId": "b81bbb0d-705b-4acc-9684-1bf5f04f197a"
      },
      "execution_count": null,
      "outputs": [
        {
          "output_type": "stream",
          "name": "stdout",
          "text": [
            "[[10 11 12]\n",
            " [13 14 15]]\n",
            "[0 0]\n"
          ]
        }
      ]
    },
    {
      "cell_type": "code",
      "source": [
        "import numpy as np\n",
        "A = np.array([1, 7, 9, 2, 0.1, 17, 17, 1.5]).reshape(4,2)\n",
        "print('A:')\n",
        "print(A)"
      ],
      "metadata": {
        "colab": {
          "base_uri": "https://localhost:8080/"
        },
        "id": "crdpHgwsjxES",
        "outputId": "cd6fc731-004f-4f53-b6de-6baff75b68c0"
      },
      "execution_count": null,
      "outputs": [
        {
          "output_type": "stream",
          "name": "stdout",
          "text": [
            "A:\n",
            "[[ 1.   7. ]\n",
            " [ 9.   2. ]\n",
            " [ 0.1 17. ]\n",
            " [17.   1.5]]\n"
          ]
        }
      ]
    },
    {
      "cell_type": "code",
      "source": [
        "import numpy as np\n",
        "\n",
        "# Define a square matrix\n",
        "A = np.array([[1, 2], [3, 4]])\n",
        "\n",
        "# Compute the inverse of the matrix\n",
        "A_inv = np.linalg.inv(A)\n",
        "\n",
        "print(\"Matrix A:\")\n",
        "print(A)\n",
        "print(\"Inverse of A:\")\n",
        "print(A_inv)"
      ],
      "metadata": {
        "colab": {
          "base_uri": "https://localhost:8080/"
        },
        "id": "pOqg6DRsfb_I",
        "outputId": "e8a64812-19d1-40cb-f047-64c42619e20b"
      },
      "execution_count": null,
      "outputs": [
        {
          "output_type": "stream",
          "name": "stdout",
          "text": [
            "Matrix A:\n",
            "[[1 2]\n",
            " [3 4]]\n",
            "Inverse of A:\n",
            "[[-2.   1. ]\n",
            " [ 1.5 -0.5]]\n"
          ]
        }
      ]
    },
    {
      "cell_type": "markdown",
      "metadata": {
        "id": "wHASVAfeEtze"
      },
      "source": [
        "## Normal Distribution\n",
        "The Normal Distribution is one of the most important distributions.\n",
        "\n",
        "It is also called the Gaussian Distribution after the German mathematician Carl Friedrich Gauss.\n",
        "\n",
        "It fits the probability distribution of many events, eg. IQ Scores, Heartbeat etc.\n",
        "\n",
        "Use the random.normal() method to get a Normal Data Distribution.\n",
        "\n",
        "It has three parameters:\n",
        "\n",
        "loc - (Mean) where the peak of the bell exists.\n",
        "\n",
        "scale - (Standard Deviation) how flat the graph distribution should be.\n",
        "\n",
        "size - The shape of the returned array.\n",
        "\n"
      ]
    },
    {
      "cell_type": "markdown",
      "metadata": {
        "id": "TxHYoXQLEtze"
      },
      "source": [
        "### split(): Split an array into multiple sub-arrays of equal size"
      ]
    },
    {
      "cell_type": "code",
      "execution_count": null,
      "metadata": {
        "id": "MRIR_XilEtze",
        "outputId": "560b7d5d-0106-4bb8-c400-1ba700c72b70",
        "colab": {
          "base_uri": "https://localhost:8080/"
        }
      },
      "outputs": [
        {
          "output_type": "execute_result",
          "data": {
            "text/plain": [
              "[array([0, 1]), array([2, 3]), array([4, 5]), array([6, 7]), array([8, 9])]"
            ]
          },
          "metadata": {},
          "execution_count": 6
        }
      ],
      "source": [
        "\n",
        "x = np.arange(10)\n",
        "\n",
        "np.split(x,5)"
      ]
    },
    {
      "cell_type": "markdown",
      "metadata": {
        "id": "wzTRI9bxEtzf"
      },
      "source": [
        "### numpy.where\n",
        "- Return elements chosen from x or y depending on condition."
      ]
    },
    {
      "cell_type": "code",
      "execution_count": 16,
      "metadata": {
        "id": "dTyr1QtVEtzf",
        "outputId": "636e2589-8d92-4c65-b149-9deca0494a86",
        "colab": {
          "base_uri": "https://localhost:8080/"
        }
      },
      "outputs": [
        {
          "output_type": "stream",
          "name": "stdout",
          "text": [
            "(array([2, 4, 5]),)\n",
            "[ 10 100  50]\n"
          ]
        }
      ],
      "source": [
        "arr_rand=np.array([1,2,10,5,100,50])\n",
        "res = np.where(arr_rand > 5)\n",
        "print(res)\n",
        "print(arr_rand[res])"
      ]
    },
    {
      "cell_type": "markdown",
      "metadata": {
        "id": "wHlm1wUvEtzf"
      },
      "source": [
        "## write a python function two calculate Euclidean distance between two points"
      ]
    },
    {
      "cell_type": "code",
      "execution_count": null,
      "metadata": {
        "id": "1PDeAVpIEtzf",
        "outputId": "e1cb57f4-e7fa-430a-9fae-913d2b2908a5",
        "colab": {
          "base_uri": "https://localhost:8080/"
        }
      },
      "outputs": [
        {
          "output_type": "execute_result",
          "data": {
            "text/plain": [
              "6.0"
            ]
          },
          "metadata": {},
          "execution_count": 8
        }
      ],
      "source": [
        "def euclidean_distance(x1,x2):\n",
        "    return np.sqrt((np.sum(x1-x2)**2))\n",
        "\n",
        "x1=np.array([2,3,10])\n",
        "x2=np.array([2,3,4])\n",
        "euclidean_distance(x1,x2)"
      ]
    }
  ],
  "metadata": {
    "kernelspec": {
      "display_name": "Python 3",
      "language": "python",
      "name": "python3"
    },
    "language_info": {
      "codemirror_mode": {
        "name": "ipython",
        "version": 3
      },
      "file_extension": ".py",
      "mimetype": "text/x-python",
      "name": "python",
      "nbconvert_exporter": "python",
      "pygments_lexer": "ipython3",
      "version": "3.8.5"
    },
    "colab": {
      "provenance": [],
      "toc_visible": true
    }
  },
  "nbformat": 4,
  "nbformat_minor": 0
}