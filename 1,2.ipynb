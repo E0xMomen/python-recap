{
  "cells": [
    {
      "cell_type": "markdown",
      "metadata": {
        "id": "kdIN7h4sU_2N"
      },
      "source": [
        "### Installing Python Packages from a Jupyter Notebook"
      ]
    },
    {
      "cell_type": "markdown",
      "metadata": {
        "id": "6i7pFSv8U_2P"
      },
      "source": [
        " !pip install **packageName** <br>\n",
        " !conda install **packageName**"
      ]
    },
    {
      "cell_type": "code",
      "execution_count": null,
      "metadata": {
        "colab": {
          "base_uri": "https://localhost:8080/"
        },
        "id": "teJ6Z9HVU_2Q",
        "outputId": "5926918d-142f-48a4-fa83-112996ef1d9e"
      },
      "outputs": [
        {
          "output_type": "stream",
          "name": "stdout",
          "text": [
            "Requirement already satisfied: numpy in /usr/local/lib/python3.10/dist-packages (1.26.4)\n"
          ]
        }
      ],
      "source": [
        "!pip install numpy"
      ]
    },
    {
      "cell_type": "markdown",
      "metadata": {
        "id": "F01cqjcSU_2R"
      },
      "source": [
        "### pip vs conda"
      ]
    },
    {
      "cell_type": "markdown",
      "metadata": {
        "id": "GBah1V0tU_2R"
      },
      "source": [
        "* pip installs python packages in any environment.\n",
        "* conda installs any package in conda environments."
      ]
    },
    {
      "cell_type": "markdown",
      "metadata": {
        "id": "5pM5WTY0U_2S"
      },
      "source": [
        "### Hello World: Creat your First Python Program"
      ]
    },
    {
      "cell_type": "code",
      "execution_count": null,
      "metadata": {
        "colab": {
          "base_uri": "https://localhost:8080/"
        },
        "id": "5L_X67HcU_2S",
        "outputId": "9081f92a-8ac5-46e0-f2f3-0fa497a04608"
      },
      "outputs": [
        {
          "output_type": "stream",
          "name": "stdout",
          "text": [
            "Welcome to first lecture\n",
            "It is a great course\n"
          ]
        }
      ],
      "source": [
        "print(\"Welcome to first lecture\")\n",
        "print('It is a great course')"
      ]
    },
    {
      "cell_type": "code",
      "execution_count": null,
      "metadata": {
        "colab": {
          "base_uri": "https://localhost:8080/"
        },
        "id": "WUDqioRCU_2S",
        "outputId": "d58d391e-9bd0-4643-deb2-712e3e07a3d7"
      },
      "outputs": [
        {
          "output_type": "stream",
          "name": "stdout",
          "text": [
            "10\n",
            "3.4\n"
          ]
        }
      ],
      "source": [
        "## print numbers\n",
        "print(10)\n",
        "print(3.4)   # floating point number"
      ]
    },
    {
      "cell_type": "markdown",
      "metadata": {
        "id": "ZAo_CyqVU_2T"
      },
      "source": [
        "## Creating variables and assigning values\n",
        "A variable is a name that refers to a value.\n",
        "\n",
        "__To create a variable in Python, all you need to do is specify the variable name, and then assign a value to it.\n",
        "<variable name> = <value>__"
      ]
    },
    {
      "cell_type": "code",
      "execution_count": null,
      "metadata": {
        "id": "FyvqsK9NU_2T"
      },
      "outputs": [],
      "source": [
        "# integer\n",
        "number=10\n",
        "\n",
        "# float\n",
        "number2=10.5\n",
        "number3=0.5\n",
        "\n",
        "# string\n",
        "strVar='Maha'\n",
        "\n",
        "# boolean\n",
        "passing=False\n",
        "flag2=True\n",
        "\n",
        "# Empty value or null data type\n",
        "none_var=None   # null"
      ]
    },
    {
      "cell_type": "code",
      "execution_count": null,
      "metadata": {
        "colab": {
          "base_uri": "https://localhost:8080/"
        },
        "id": "nVw-6Wm5U_2T",
        "outputId": "1b07762a-a87b-46f8-edd9-4d17dc38ee6d"
      },
      "outputs": [
        {
          "output_type": "stream",
          "name": "stdout",
          "text": [
            "<class 'int'>\n",
            "<class 'str'>\n",
            "<class 'bool'>\n",
            "<class 'float'>\n"
          ]
        }
      ],
      "source": [
        "name=\"Norah\"\n",
        "age=26\n",
        "flag=False\n",
        "number=5.5\n",
        "\n",
        "print(type(age))\n",
        "print(type(name))\n",
        "print(type(flag))\n",
        "print(type(number))"
      ]
    },
    {
      "cell_type": "code",
      "execution_count": null,
      "metadata": {
        "colab": {
          "base_uri": "https://localhost:8080/"
        },
        "id": "dNiIn2o8U_2T",
        "outputId": "ba9197ff-8b70-4116-dddf-71a1b7cae9d6"
      },
      "outputs": [
        {
          "output_type": "stream",
          "name": "stdout",
          "text": [
            "hello world lamma\n",
            "hello world lamma\n"
          ]
        }
      ],
      "source": [
        "print(\"hello\", \"world\", \"lamma\")\n",
        "print(\"hello world lamma\")"
      ]
    },
    {
      "cell_type": "code",
      "execution_count": null,
      "metadata": {
        "colab": {
          "base_uri": "https://localhost:8080/"
        },
        "id": "y16KJyihU_2T",
        "outputId": "9cd1a94e-b3a6-4275-b9ea-90e297ceabf7"
      },
      "outputs": [
        {
          "output_type": "stream",
          "name": "stdout",
          "text": [
            "Your name is Norah and my age is  26 years old\n"
          ]
        }
      ],
      "source": [
        "name=\"Norah\"\n",
        "age=26\n",
        "print('Your name is',name,'and my age is ',age, 'years old')"
      ]
    },
    {
      "cell_type": "code",
      "execution_count": null,
      "metadata": {
        "colab": {
          "base_uri": "https://localhost:8080/"
        },
        "id": "QtNti_5iU_2T",
        "outputId": "fa7c3336-07e0-418f-c6bd-80464f72fe2f"
      },
      "outputs": [
        {
          "output_type": "stream",
          "name": "stdout",
          "text": [
            "My child name is Fahad and his age is 3 years and his father name Ameer\n"
          ]
        }
      ],
      "source": [
        "name='Fahad'\n",
        "age=3\n",
        "father = \"Ameer\"\n",
        "# My child name is Fahad and his age is 3 years\n",
        "###  code there\n",
        "print('My child name is {} and his age is {} years and his father name {}'.format(name,age,father))"
      ]
    },
    {
      "cell_type": "code",
      "execution_count": null,
      "metadata": {
        "colab": {
          "base_uri": "https://localhost:8080/"
        },
        "id": "JwDocyowU_2U",
        "outputId": "ac269a30-c71a-44c6-ef44-6d8b005bfd9b"
      },
      "outputs": [
        {
          "output_type": "stream",
          "name": "stdout",
          "text": [
            "<class 'int'>\n",
            "<class 'float'>\n",
            "10\n",
            "10.0\n"
          ]
        }
      ],
      "source": [
        "num1=10  #10\n",
        "num2=float(num1)  #10.0\n",
        "\n",
        "print(type(num1))\n",
        "print(type(num2))\n",
        "\n",
        "print(num1)\n",
        "print(num2)"
      ]
    },
    {
      "cell_type": "code",
      "execution_count": null,
      "metadata": {
        "colab": {
          "base_uri": "https://localhost:8080/"
        },
        "id": "yxjq88VDU_2U",
        "outputId": "ed5c128a-7922-496c-83ee-9eb0c0fc265f"
      },
      "outputs": [
        {
          "output_type": "stream",
          "name": "stdout",
          "text": [
            "95.500000%\n"
          ]
        }
      ],
      "source": [
        "## percentage\n",
        "value= 95.5\n",
        "print(\"{:%}\".format(value/100))"
      ]
    },
    {
      "cell_type": "markdown",
      "metadata": {
        "id": "1COL4-JpU_2U"
      },
      "source": [
        "### Testing the type of variables\n",
        "\n",
        "- ##### In python, we can check the datatype of an object using the built-in function type."
      ]
    },
    {
      "cell_type": "code",
      "execution_count": null,
      "metadata": {
        "colab": {
          "base_uri": "https://localhost:8080/"
        },
        "id": "rsOf5FqlU_2U",
        "outputId": "af589121-7c9f-451d-d986-29d17afa4e39"
      },
      "outputs": [
        {
          "output_type": "stream",
          "name": "stdout",
          "text": [
            "<class 'float'>\n"
          ]
        }
      ],
      "source": [
        "pi=3.14\n",
        "print(type(pi))"
      ]
    },
    {
      "cell_type": "markdown",
      "metadata": {
        "id": "b4GMb810U_2U"
      },
      "source": [
        "### Asking the user for input\n",
        "Sometimes we would like to take the value for a variable from the user via their keyboard. Python provides a built-in function called __input__ that gets input from the keyboard"
      ]
    },
    {
      "cell_type": "code",
      "execution_count": null,
      "metadata": {
        "colab": {
          "base_uri": "https://localhost:8080/"
        },
        "id": "qyINusRNU_2U",
        "outputId": "ea495dec-e84c-4653-9ae2-07660684546d"
      },
      "outputs": [
        {
          "name": "stdout",
          "output_type": "stream",
          "text": [
            "Enter number 20\n"
          ]
        }
      ],
      "source": [
        "no_of_childen=input(\"Enter number \")"
      ]
    },
    {
      "cell_type": "code",
      "execution_count": null,
      "metadata": {
        "colab": {
          "base_uri": "https://localhost:8080/"
        },
        "id": "TVx1vkYSU_2U",
        "outputId": "7b225d83-d71f-469f-880a-a63cf3d05e2d"
      },
      "outputs": [
        {
          "output_type": "stream",
          "name": "stdout",
          "text": [
            "How many kids do you have:20\n",
            "20\n"
          ]
        }
      ],
      "source": [
        "kids=input('How many kids do you have:')\n",
        "\n",
        "print(kids)"
      ]
    },
    {
      "cell_type": "code",
      "execution_count": null,
      "metadata": {
        "colab": {
          "base_uri": "https://localhost:8080/"
        },
        "id": "dsNDeMV-U_2U",
        "outputId": "4fa9527e-5314-4f12-9e24-a56f1bc08315"
      },
      "outputs": [
        {
          "output_type": "stream",
          "name": "stdout",
          "text": [
            "20\n"
          ]
        }
      ],
      "source": [
        "print(no_of_childen)"
      ]
    },
    {
      "cell_type": "code",
      "execution_count": null,
      "metadata": {
        "colab": {
          "base_uri": "https://localhost:8080/"
        },
        "id": "MrjE24hqU_2U",
        "outputId": "355c59c0-ecc9-4ede-91d3-653417c3ffea"
      },
      "outputs": [
        {
          "output_type": "stream",
          "name": "stdout",
          "text": [
            "['welcome', 'to', 'the', 'CSC605']\n"
          ]
        }
      ],
      "source": [
        "## Split a string into a list where each word is a list item:\n",
        "txt = \"welcome to the CSC605\"\n",
        "txt1=txt.split()\n",
        "print(txt1)"
      ]
    },
    {
      "cell_type": "code",
      "execution_count": null,
      "metadata": {
        "colab": {
          "base_uri": "https://localhost:8080/"
        },
        "id": "mpKrqobdU_2U",
        "outputId": "b4cfe13d-12cc-4fcc-9fcf-b9f5e7455ffd"
      },
      "outputs": [
        {
          "output_type": "stream",
          "name": "stdout",
          "text": [
            "['welcome', ' to', ' the CSC605']\n"
          ]
        }
      ],
      "source": [
        "txt = \"welcome; to; the CSC605\"\n",
        "\n",
        "x = txt.split(';')\n",
        "\n",
        "print(x)"
      ]
    },
    {
      "cell_type": "code",
      "execution_count": null,
      "metadata": {
        "colab": {
          "base_uri": "https://localhost:8080/"
        },
        "id": "AaSMYKX1U_2V",
        "outputId": "385241d1-df8b-4f71-ae6c-e5856942c274"
      },
      "outputs": [
        {
          "name": "stdout",
          "output_type": "stream",
          "text": [
            "3\n"
          ]
        }
      ],
      "source": [
        "a=input()\n",
        "a=int(a)"
      ]
    },
    {
      "cell_type": "code",
      "execution_count": null,
      "metadata": {
        "colab": {
          "base_uri": "https://localhost:8080/"
        },
        "id": "nxI2G5wxU_2V",
        "outputId": "e2ab6d85-4b33-474a-bac2-2ae69d4b6954"
      },
      "outputs": [
        {
          "output_type": "stream",
          "name": "stdout",
          "text": [
            "3\n"
          ]
        },
        {
          "output_type": "execute_result",
          "data": {
            "text/plain": [
              "int"
            ]
          },
          "metadata": {},
          "execution_count": 28
        }
      ],
      "source": [
        "print(a)\n",
        "type(a)"
      ]
    },
    {
      "cell_type": "code",
      "execution_count": null,
      "metadata": {
        "colab": {
          "base_uri": "https://localhost:8080/"
        },
        "id": "aMidli7LU_2V",
        "outputId": "51f73009-cb33-493e-eb02-a6f2d21394e7"
      },
      "outputs": [
        {
          "output_type": "stream",
          "name": "stdout",
          "text": [
            "12\n",
            "<class 'str'>\n"
          ]
        }
      ],
      "source": [
        "x=12.9\n",
        "type(x)\n",
        "print(int(x))\n",
        "\n",
        "y=12\n",
        "y=str(y)\n",
        "print(type(y))"
      ]
    },
    {
      "cell_type": "code",
      "execution_count": null,
      "metadata": {
        "colab": {
          "base_uri": "https://localhost:8080/"
        },
        "id": "CgKnjyoiU_2V",
        "outputId": "1fcbd2de-f121-4bee-cae0-bbffd9e87702"
      },
      "outputs": [
        {
          "output_type": "stream",
          "name": "stdout",
          "text": [
            "8\n"
          ]
        }
      ],
      "source": [
        "print(int(a)+5)"
      ]
    },
    {
      "cell_type": "markdown",
      "metadata": {
        "id": "AKPjC9QCU_2V"
      },
      "source": [
        "### Functions\n",
        "- A function is a block of code which only runs when it is called.\n",
        "- Variables that are defined inside a function body have a local scope, and those defined outside have a global scope.\n",
        "\n"
      ]
    },
    {
      "cell_type": "code",
      "execution_count": null,
      "metadata": {
        "id": "BGBLa_3jU_2V"
      },
      "outputs": [],
      "source": [
        "### Examples\n",
        "def fun_name():\n",
        "    print('first function')\n",
        "    print(\"hello world\")"
      ]
    },
    {
      "cell_type": "code",
      "execution_count": null,
      "metadata": {
        "colab": {
          "base_uri": "https://localhost:8080/"
        },
        "id": "TgRqQA4rU_2V",
        "outputId": "b2a436ca-6dd3-4eba-996e-7a4ac90a0a21"
      },
      "outputs": [
        {
          "output_type": "stream",
          "name": "stdout",
          "text": [
            "first function\n",
            "hello world\n"
          ]
        }
      ],
      "source": [
        "fun_name()"
      ]
    },
    {
      "cell_type": "code",
      "execution_count": null,
      "metadata": {
        "colab": {
          "base_uri": "https://localhost:8080/"
        },
        "id": "wGxGmPuHU_2V",
        "outputId": "6939b4c5-ed76-4086-91dd-b7933e2e3e1a"
      },
      "outputs": [
        {
          "output_type": "stream",
          "name": "stdout",
          "text": [
            "40\n"
          ]
        }
      ],
      "source": [
        "def fun2():\n",
        "    cc=10\n",
        "    print(cc+30)\n",
        "\n",
        "fun2()"
      ]
    },
    {
      "cell_type": "code",
      "execution_count": null,
      "metadata": {
        "colab": {
          "base_uri": "https://localhost:8080/"
        },
        "id": "DFOjrCSSU_2W",
        "outputId": "726e8551-74cc-4adb-abfe-6914deaa7b5e"
      },
      "outputs": [
        {
          "output_type": "stream",
          "name": "stdout",
          "text": [
            "22\n",
            "479\n"
          ]
        }
      ],
      "source": [
        "def addTwoNumbers(a,b):\n",
        "    return a+b\n",
        "\n",
        "print(addTwoNumbers(20,2) )\n",
        "\n",
        "res=addTwoNumbers(34,445)\n",
        "print(res)\n",
        "## return two outputs"
      ]
    },
    {
      "cell_type": "code",
      "execution_count": null,
      "metadata": {
        "id": "wo2p7_lSU_2W"
      },
      "outputs": [],
      "source": [
        "def add_and_substract_and_multiply(a,b):\n",
        "\n",
        "    return a+b, a-b , a*b , a/b #(1100, 900)\n"
      ]
    },
    {
      "cell_type": "code",
      "execution_count": null,
      "metadata": {
        "colab": {
          "base_uri": "https://localhost:8080/"
        },
        "id": "91vdUtPYU_2W",
        "outputId": "e1b74481-793a-4dcf-86fb-920ca52c7c52"
      },
      "outputs": [
        {
          "output_type": "stream",
          "name": "stdout",
          "text": [
            "(1100, 900, 100000, 10.0)\n",
            "1100\n",
            "900\n",
            "100000\n",
            "10.0\n"
          ]
        }
      ],
      "source": [
        "a1 =add_and_substract_and_multiply(1000,100)   #a1=(1100,900)\n",
        "print(a1)\n",
        "\n",
        "print(a1[0])\n",
        "print(a1[1])\n",
        "print(a1[2])\n",
        "print(a1[3])"
      ]
    },
    {
      "cell_type": "code",
      "execution_count": null,
      "metadata": {
        "colab": {
          "base_uri": "https://localhost:8080/"
        },
        "id": "uBzZj8JkJj9U",
        "outputId": "9c70a94e-fa9b-4645-9bc0-abc6337d753e"
      },
      "outputs": [
        {
          "output_type": "stream",
          "name": "stdout",
          "text": [
            "1100     900    100000\n"
          ]
        }
      ],
      "source": [
        "a1, a2 , a3 =add_and_substract_and_multiply(1000,100)   #a1=(1100,900)\n",
        "print(a1, \"   \",a2, \"  \" , a3)"
      ]
    },
    {
      "cell_type": "markdown",
      "metadata": {
        "id": "cQLhEzlsU_2a"
      },
      "source": [
        "### dummy variables\n"
      ]
    },
    {
      "cell_type": "code",
      "execution_count": null,
      "metadata": {
        "colab": {
          "base_uri": "https://localhost:8080/"
        },
        "id": "ma1MoPDiU_2a",
        "outputId": "b715fceb-99d7-494b-f14b-395e4c69b98e"
      },
      "outputs": [
        {
          "output_type": "stream",
          "name": "stdout",
          "text": [
            "900     10.0\n"
          ]
        }
      ],
      "source": [
        "_, b1 , _ , b2 =add_and_substract_and_multiply(1000,100)\n",
        "print(b1, \"   \" , b2)"
      ]
    },
    {
      "cell_type": "markdown",
      "metadata": {
        "id": "zD5_KiPGU_2a"
      },
      "source": [
        "#### ### Default arguments\n",
        "A default argument is an argument that assumes a default value if a value is not provided in the function call for that argument."
      ]
    },
    {
      "cell_type": "code",
      "execution_count": null,
      "metadata": {
        "colab": {
          "base_uri": "https://localhost:8080/"
        },
        "id": "RrkEFA0hU_2a",
        "outputId": "3f811d9d-9eb7-4d4e-96bf-ff38f7a829c1"
      },
      "outputs": [
        {
          "output_type": "stream",
          "name": "stdout",
          "text": [
            "150.0\n",
            "2000.0\n"
          ]
        }
      ],
      "source": [
        "## Examples\n",
        "def compute_tax(money, tax_rate=.15):\n",
        "    return money * tax_rate\n",
        "\n",
        "print(compute_tax(1000))\n",
        "print(compute_tax(10000, .2))"
      ]
    },
    {
      "cell_type": "code",
      "execution_count": null,
      "metadata": {
        "id": "K--HEs_xU_2a"
      },
      "outputs": [],
      "source": [
        "def fun(salary=10000, expenses=5000, homeRent=1500):\n",
        "    total=salary-homeRent-expenses\n",
        "    print(total)"
      ]
    },
    {
      "cell_type": "code",
      "execution_count": null,
      "metadata": {
        "colab": {
          "base_uri": "https://localhost:8080/"
        },
        "id": "yV8gytOtU_2a",
        "outputId": "b3788755-2e9e-47fd-f76b-adc28477987f"
      },
      "outputs": [
        {
          "output_type": "stream",
          "name": "stdout",
          "text": [
            "3500\n"
          ]
        }
      ],
      "source": [
        "fun(10000)"
      ]
    },
    {
      "cell_type": "code",
      "execution_count": null,
      "metadata": {
        "id": "sBL0G3PpU_2a"
      },
      "outputs": [],
      "source": [
        "a10=20\n",
        "a11=30\n",
        "a12=40\n",
        "\n",
        "a10,a11,a12=20,30,40"
      ]
    },
    {
      "cell_type": "code",
      "execution_count": null,
      "metadata": {
        "id": "8ml2I70UU_2a"
      },
      "outputs": [],
      "source": [
        "a, b, c = 1, 2, 3\n",
        "\n",
        "## dummy variable can have any name, but it is conventional to use the underscore (_) for assigning unwanted values:\n",
        "\n",
        "a, b, _  = 1, 2, 3"
      ]
    },
    {
      "cell_type": "code",
      "execution_count": null,
      "metadata": {
        "colab": {
          "base_uri": "https://localhost:8080/"
        },
        "id": "p9Cm2KBiU_2a",
        "outputId": "d68e0666-067b-4349-c5fa-ac5bdf6c6dd7",
        "scrolled": true
      },
      "outputs": [
        {
          "output_type": "stream",
          "name": "stdout",
          "text": [
            "3\n"
          ]
        }
      ],
      "source": [
        "print(_)"
      ]
    },
    {
      "cell_type": "markdown",
      "metadata": {
        "id": "sWtvRbxEU_2b"
      },
      "source": [
        "### Operators <br>\n",
        "- <font size=\"4\">Arithmetic is very similar to Java and C#</font>\n",
        "\n",
        "<font size=\"4\">\n",
        "- Addition +<br>\n",
        "- Subtraction -<br>\n",
        "- Division /<br>\n",
        "- Exponentiation **<br>\n",
        "- Modulus (remainder after division) %<br></font>\n"
      ]
    },
    {
      "cell_type": "code",
      "execution_count": null,
      "metadata": {
        "colab": {
          "base_uri": "https://localhost:8080/"
        },
        "id": "6wsc6T3bU_2b",
        "outputId": "70e80514-e29d-4e30-a8f6-54d0a7e5fbec"
      },
      "outputs": [
        {
          "output_type": "stream",
          "name": "stdout",
          "text": [
            "16.0\n",
            "3.0\n",
            "48.0\n",
            "32\n"
          ]
        }
      ],
      "source": [
        "## examples\n",
        "n1=12.\n",
        "n2=4.\n",
        "print(n1+n2)\n",
        "print(n1/n2)\n",
        "print(n1*n2)\n",
        "print(2**5)"
      ]
    },
    {
      "cell_type": "code",
      "execution_count": null,
      "metadata": {
        "colab": {
          "base_uri": "https://localhost:8080/"
        },
        "id": "wHP5ergXU_2b",
        "outputId": "5dcdcc6f-fd16-47d6-bddc-a23c6d25f6a4"
      },
      "outputs": [
        {
          "output_type": "execute_result",
          "data": {
            "text/plain": [
              "True"
            ]
          },
          "metadata": {},
          "execution_count": 68
        }
      ],
      "source": [
        "100%5==0"
      ]
    },
    {
      "cell_type": "code",
      "execution_count": null,
      "metadata": {
        "colab": {
          "base_uri": "https://localhost:8080/"
        },
        "id": "K1pUdIHPiS4T",
        "outputId": "492a1bef-2955-4905-8c16-50574990f472"
      },
      "outputs": [
        {
          "output_type": "stream",
          "name": "stdout",
          "text": [
            "2\n"
          ]
        }
      ],
      "source": [
        "print(9%7) #2"
      ]
    },
    {
      "cell_type": "code",
      "execution_count": null,
      "metadata": {
        "colab": {
          "base_uri": "https://localhost:8080/"
        },
        "id": "0jOJgioiLciD",
        "outputId": "6d1e4624-848e-4713-bdfc-01b9a4b010d2"
      },
      "outputs": [
        {
          "output_type": "stream",
          "name": "stdout",
          "text": [
            "7\n"
          ]
        }
      ],
      "source": [
        "print(7%9) # 0/9=0"
      ]
    },
    {
      "cell_type": "code",
      "execution_count": null,
      "metadata": {
        "colab": {
          "base_uri": "https://localhost:8080/"
        },
        "id": "vfFRiLcuU_2b",
        "outputId": "92e05d37-a1d9-4462-c0f2-2ead90a89e7b"
      },
      "outputs": [
        {
          "output_type": "stream",
          "name": "stdout",
          "text": [
            "9\n"
          ]
        }
      ],
      "source": [
        "print(3 ** 2)\n"
      ]
    },
    {
      "cell_type": "markdown",
      "metadata": {
        "id": "uoeJspT7U_2b"
      },
      "source": [
        "### Comparison operators <br>\n",
        "<font size=\"4\">\n",
        "- Equal: ==<br>\n",
        "- Not equal: != <br>\n",
        "- Greater than: > <br>\n",
        "- Less than: <<br>\n",
        "- Greater than or equal: >= <br>\n",
        "- Less than or equal: <=<br>\n",
        "    </font>"
      ]
    },
    {
      "cell_type": "code",
      "execution_count": null,
      "metadata": {
        "colab": {
          "base_uri": "https://localhost:8080/"
        },
        "id": "LuvKJtCuU_2b",
        "outputId": "0e7a3a5d-6a20-4ffa-ba8e-97c52c707e33"
      },
      "outputs": [
        {
          "output_type": "stream",
          "name": "stdout",
          "text": [
            "4\n"
          ]
        }
      ],
      "source": [
        "a=3\n",
        "a=a+1\n",
        "print(a)"
      ]
    },
    {
      "cell_type": "code",
      "execution_count": null,
      "metadata": {
        "colab": {
          "base_uri": "https://localhost:8080/"
        },
        "id": "jEKj_oNBU_2b",
        "outputId": "4721f98b-9bf5-4f02-e973-a9da4b68ae85"
      },
      "outputs": [
        {
          "output_type": "stream",
          "name": "stdout",
          "text": [
            "5\n"
          ]
        }
      ],
      "source": [
        "a +=1 # a=a+1\n",
        "print(a)"
      ]
    },
    {
      "cell_type": "code",
      "execution_count": null,
      "metadata": {
        "colab": {
          "base_uri": "https://localhost:8080/"
        },
        "id": "xil05a2GU_2b",
        "outputId": "065f006a-d7b6-46e4-b3b2-394281ae3bf8"
      },
      "outputs": [
        {
          "output_type": "stream",
          "name": "stdout",
          "text": [
            "0\n",
            "10\n",
            "20\n",
            "30\n",
            "40\n",
            "50\n",
            "60\n",
            "70\n",
            "80\n",
            "90\n"
          ]
        }
      ],
      "source": [
        "c=100\n",
        "for i in range(c):\n",
        "    if i % 10==0:\n",
        "        print(i)"
      ]
    },
    {
      "cell_type": "markdown",
      "metadata": {
        "id": "w-_eZjzRU_2b"
      },
      "source": [
        "###Python comments\n",
        "\n",
        "- Comments can be used to explain Python code.\n",
        "\n",
        "- Comments can be used to make the code more readable.\n",
        "\n",
        "- Comments can be used to prevent execution when testing code.\n",
        "\n",
        "##### Comments starts with a #, and Python will ignore them:"
      ]
    },
    {
      "cell_type": "code",
      "execution_count": null,
      "metadata": {
        "id": "IliIScNsU_2c"
      },
      "outputs": [],
      "source": [
        "# short comment\n",
        "'''\n",
        "this seleciton is to explain the comments\n",
        "this is done by ...\n",
        "'''\n",
        "def add(a,b):\n",
        "    pass\n",
        "\n",
        "def ABC(a,b):\n",
        "    return a+b\n"
      ]
    },
    {
      "cell_type": "code",
      "execution_count": null,
      "metadata": {
        "id": "SWpg_xl0U_2c",
        "colab": {
          "base_uri": "https://localhost:8080/"
        },
        "outputId": "3f8ce422-358e-4824-cac9-1f4cacf2f3dc"
      },
      "outputs": [
        {
          "output_type": "stream",
          "name": "stdout",
          "text": [
            "Hello, World!\n"
          ]
        }
      ],
      "source": [
        "# single line\n",
        "# this is comment\n",
        "\"\"\"\n",
        "this comments are multiple\n",
        "lines\n",
        "\"\"\"\n",
        "\n",
        "\n",
        "\"\"\"\n",
        "This is a comment\n",
        "written in\n",
        "more than just one line\n",
        "\"\"\"\n",
        "print(\"Hello, World!\")"
      ]
    },
    {
      "cell_type": "markdown",
      "metadata": {
        "id": "4Ptz0uESU_2c"
      },
      "source": [
        "### Indentation (whitespace at the beginning of a line)\n",
        "- <font size=\"3.5\">Python uses indentation to indicate blocks, instead of {}</font>\n",
        "    - Makes the code simpler and more readable<br>\n",
        "    - In Java and C#, indenting is optional.  In Python, you must indent"
      ]
    },
    {
      "cell_type": "code",
      "execution_count": null,
      "metadata": {
        "id": "6EdK7Z0xU_2c"
      },
      "outputs": [],
      "source": [
        "a =10\n",
        "b=20\n",
        "\n",
        "def test():\n",
        "    print('test')\n",
        "    c=30\n",
        "\n",
        "d=10\n"
      ]
    },
    {
      "cell_type": "code",
      "execution_count": null,
      "metadata": {
        "id": "-B_dUxZ3U_2c"
      },
      "outputs": [],
      "source": []
    },
    {
      "cell_type": "markdown",
      "metadata": {
        "id": "1F18xO47U_2c"
      },
      "source": [
        "### Conditional statements\n",
        "\n",
        "In order to write useful programs, we almost always need the ability to check conditions and change the behavior of the program accordingly. Conditional statements give us this ability. The simplest form is the if statement, which has the genaral form:\n",
        "    "
      ]
    },
    {
      "cell_type": "code",
      "execution_count": null,
      "metadata": {
        "colab": {
          "base_uri": "https://localhost:8080/"
        },
        "id": "5GYjZCCSU_2c",
        "outputId": "7527d66a-d1ad-4c8c-baa4-6911fbcb9e9f"
      },
      "outputs": [
        {
          "output_type": "stream",
          "name": "stdout",
          "text": [
            "fail\n",
            "Fail\n"
          ]
        }
      ],
      "source": [
        "#Examples\n",
        "grade=55\n",
        "\n",
        "if grade>=70:\n",
        "    print(\"pass\")\n",
        "else:\n",
        "    print('fail')\n",
        "\n",
        "if 90<=grade<=100:\n",
        "    print('A')\n",
        "elif grade<90 and grade>=80:\n",
        "    print(\"B\")\n",
        "elif  70<=grade<80:\n",
        "    print(\"C\")\n",
        "elif 0<=grade<70:\n",
        "    print(\"Fail\")\n",
        "else:\n",
        "    print(\"Invalid grade\")"
      ]
    },
    {
      "cell_type": "markdown",
      "metadata": {
        "id": "UIKr1xBxU_2c"
      },
      "source": [
        "#### Note:\n",
        "__In conditional statements it is possible to test the datatype with isinstance. However, it is usually not encouraged to rely on the type of the variable.__"
      ]
    },
    {
      "cell_type": "code",
      "execution_count": null,
      "metadata": {
        "colab": {
          "base_uri": "https://localhost:8080/"
        },
        "id": "rNH-NAzIU_2c",
        "outputId": "91888506-6150-485e-e86a-2f6c3a5edc8c"
      },
      "outputs": [
        {
          "output_type": "stream",
          "name": "stdout",
          "text": [
            "Incorrect input\n"
          ]
        }
      ],
      "source": [
        "grade=80.5\n",
        "if isinstance(grade, int):\n",
        "    if 90<=grade<=100:\n",
        "        print('A')\n",
        "    elif grade<90 and grade>=80:\n",
        "        print(\"B\")\n",
        "    elif  70<=grade<80:\n",
        "        print(\"C\")\n",
        "    elif 0<=grade<70:\n",
        "        print(\"Fail\")\n",
        "    else:\n",
        "        print(\"Invalid grade\")\n",
        "else:\n",
        "        print(\"Incorrect input\")"
      ]
    },
    {
      "cell_type": "code",
      "execution_count": null,
      "metadata": {
        "colab": {
          "base_uri": "https://localhost:8080/"
        },
        "id": "VNyWsmCSU_2c",
        "outputId": "a1b5fd77-7345-4280-a703-46db410d491b"
      },
      "outputs": [
        {
          "output_type": "stream",
          "name": "stdout",
          "text": [
            "B\n"
          ]
        }
      ],
      "source": [
        "a=False\n",
        "\n",
        "if a:\n",
        "    print('A')\n",
        "else:\n",
        "    print('B')"
      ]
    },
    {
      "cell_type": "markdown",
      "metadata": {
        "id": "N4sD6DmVU_2d"
      },
      "source": [
        "### and - or operators"
      ]
    },
    {
      "cell_type": "code",
      "execution_count": null,
      "metadata": {
        "colab": {
          "base_uri": "https://localhost:8080/"
        },
        "id": "4NE4XTsbU_2d",
        "outputId": "2902a932-1f38-4c5e-9c02-2ee8edcb8512"
      },
      "outputs": [
        {
          "output_type": "stream",
          "name": "stdout",
          "text": [
            "Sorry you cannot take loan\n"
          ]
        }
      ],
      "source": [
        "salary=10000\n",
        "\n",
        "expericence=1\n",
        "\n",
        "if salary>=8000 and expericence>5:\n",
        "    print(\"Congs you derserve loan\")\n",
        "else:\n",
        "    print('Sorry you cannot take loan')\n"
      ]
    },
    {
      "cell_type": "code",
      "execution_count": null,
      "metadata": {
        "id": "2z0wd8CRU_2d"
      },
      "outputs": [],
      "source": [
        "a=20\n",
        "if 5<a<10:\n",
        "  print(\"A\")"
      ]
    },
    {
      "cell_type": "code",
      "execution_count": null,
      "metadata": {
        "colab": {
          "base_uri": "https://localhost:8080/"
        },
        "id": "TPTNTVi2U_2d",
        "outputId": "55e2c8ea-1b58-4571-f7d2-c82762f0f1e8"
      },
      "outputs": [
        {
          "output_type": "stream",
          "name": "stdout",
          "text": [
            "Congs you derserve loan\n"
          ]
        }
      ],
      "source": [
        "if salary>=8000 or expericence>5:\n",
        "    print(\"Congs you derserve loan\")\n",
        "else:\n",
        "    print('Sorry you cannot take loan')"
      ]
    },
    {
      "cell_type": "markdown",
      "metadata": {
        "id": "w_MLZRGPU_2d"
      },
      "source": [
        "#### The pass Statement\n",
        "if statements cannot be empty, but if you for some reason have an if statement with no content, put in the pass statement to avoid getting an error."
      ]
    },
    {
      "cell_type": "code",
      "execution_count": null,
      "metadata": {
        "id": "5Dlldp_QU_2d",
        "colab": {
          "base_uri": "https://localhost:8080/"
        },
        "outputId": "7b8fd81a-114d-4204-eb6a-6a147b4623db"
      },
      "outputs": [
        {
          "output_type": "stream",
          "name": "stdout",
          "text": [
            "hello\n"
          ]
        }
      ],
      "source": [
        "def fun1():\n",
        "    pass\n",
        "    print(\"hello\")\n",
        "fun1()\n"
      ]
    },
    {
      "cell_type": "markdown",
      "metadata": {
        "id": "6eyaPr06U_2d"
      },
      "source": [
        "### Lists\n",
        "\n",
        "- #### The list type is probably the most commonly used collection type in Python. Despite its name, a list is more like an array in other languages, mostly JavaScript. In Python, a list is merely an ordered collection of valid Python values. A list can be created by enclosing values, separated by commas, in square brackets:\n",
        "\n",
        "- #####  The elements of a list are not restricted to a single data type, which makes sense given that Python is a dynamic language:\n"
      ]
    },
    {
      "cell_type": "code",
      "execution_count": null,
      "metadata": {
        "colab": {
          "base_uri": "https://localhost:8080/"
        },
        "id": "K8tRYxv3U_2d",
        "outputId": "4e533daf-6038-437b-c877-b8c56c4758c1"
      },
      "outputs": [
        {
          "output_type": "stream",
          "name": "stdout",
          "text": [
            "[1, 5, 20, 4, 1]\n",
            "[1, 5, 20, 4, 1, 100]\n",
            "[1, 2.4, False, 'Saudi Arabia']\n",
            "[1, 5, 20, 4, 1, 100, 150]\n"
          ]
        }
      ],
      "source": [
        "# define empty list\n",
        "# method 1\n",
        "lst1=[]\n",
        "#method2\n",
        "lst2=list()\n",
        "\n",
        "# create list with values 1, 5, 20, 4,and 1\n",
        "lst3=[1,5,20,4,1]\n",
        "print(lst3)\n",
        "\n",
        "# add 100 to lst3\n",
        "lst3.append(100)\n",
        "print(lst3)\n",
        "\n",
        "\n",
        "# list with mixed data types\n",
        "lst4=[1, 2.4, False, 'Saudi Arabia']\n",
        "print(lst4)\n",
        "\n",
        "lst3.append(150)\n",
        "print(lst3)"
      ]
    },
    {
      "cell_type": "code",
      "execution_count": null,
      "metadata": {
        "colab": {
          "base_uri": "https://localhost:8080/"
        },
        "id": "DQ9Q_fcqU_2d",
        "outputId": "f5fec351-cb94-4fa4-eff0-d1415783b314"
      },
      "outputs": [
        {
          "output_type": "stream",
          "name": "stdout",
          "text": [
            "7\n",
            "3\n",
            "5\n",
            "20\n",
            "20\n",
            "13\n",
            "3    20\n"
          ]
        }
      ],
      "source": [
        "lst=[3,5,7,9,11,13,20]\n",
        "\n",
        "#get length of list\n",
        "lst_len=len(lst)\n",
        "print(lst_len)\n",
        "\n",
        "\n",
        "# print to first element\n",
        "print(lst[0])\n",
        "print(lst[1])\n",
        "# print last element\n",
        "print(lst[len(lst)-1])   # size 5\n",
        "\n",
        "# method 2:\n",
        "print(lst[-1])\n",
        "\n",
        "## print next to last\n",
        "print(lst[-2])\n",
        "\n",
        "print(lst[0],\"  \",lst[-1])"
      ]
    },
    {
      "cell_type": "code",
      "execution_count": null,
      "metadata": {
        "colab": {
          "base_uri": "https://localhost:8080/"
        },
        "id": "YiF3ogIVU_2d",
        "outputId": "d6c4fdf0-ddcd-46f0-d831-07f9e483c09d"
      },
      "outputs": [
        {
          "name": "stdout",
          "output_type": "stream",
          "text": [
            "[3, 5, 7, 9]\n",
            "[3, 9]\n"
          ]
        }
      ],
      "source": [
        "lst=[3,5,7,9,11,13,20 ]\n",
        "\n",
        "# print first 4 elements\n",
        "print(lst[:4])\n",
        "\n",
        "##print(lst[start:stop:step])\n",
        "print(lst[:4:3])"
      ]
    },
    {
      "cell_type": "code",
      "execution_count": null,
      "metadata": {
        "colab": {
          "base_uri": "https://localhost:8080/"
        },
        "id": "k2Lfv3ChZdZh",
        "outputId": "3f72d6b1-b70d-433b-e430-cf96f5193ec6"
      },
      "outputs": [
        {
          "name": "stdout",
          "output_type": "stream",
          "text": [
            "[20, 13, 11, 9, 7, 5, 3]\n"
          ]
        }
      ],
      "source": [
        "lst=[3,5,7,9,11,13,20 ]\n",
        "print(lst[::-1]) ## for (i=n;i>=0, i--)"
      ]
    },
    {
      "cell_type": "code",
      "execution_count": null,
      "metadata": {
        "colab": {
          "base_uri": "https://localhost:8080/"
        },
        "id": "6TpnEg6WPHEd",
        "outputId": "8b5e697d-e9e2-4785-8f05-ffa0e4dd6250"
      },
      "outputs": [
        {
          "output_type": "stream",
          "name": "stdout",
          "text": [
            "[7, 9, 11, 13, 20]\n",
            "[3, 7, 11, 20]\n",
            "[3, 5, 7, 9]\n",
            "[3, 5, 7, 9, 11]\n",
            "[20, 13, 11, 9, 7, 5, 3]\n"
          ]
        }
      ],
      "source": [
        "print(lst[2::1])\n",
        "\n",
        "print(lst[::2])\n",
        "## 3, 7, 11, 20\n",
        "print(lst[:4])\n",
        "\n",
        "print(lst[0:-2:])  #  0 to -3\n",
        "print(lst[::-1]) ## for (i=n;i>=0, i--)"
      ]
    },
    {
      "cell_type": "code",
      "execution_count": null,
      "metadata": {
        "colab": {
          "base_uri": "https://localhost:8080/"
        },
        "id": "12bDnarvU_2e",
        "outputId": "e09de632-a396-4ddc-c1f9-b2dab4aa752e"
      },
      "outputs": [
        {
          "name": "stdout",
          "output_type": "stream",
          "text": [
            "[-20, 0, 3, 10]\n",
            "[5, 4, 3, 2, 1]\n",
            "[1, 2, 3, 4, 5]\n",
            "Peter\n",
            "Lewis\n",
            "Imogen\n",
            "Hannah\n"
          ]
        }
      ],
      "source": [
        "## sort list\n",
        "lst5=[3,10,0,-20]\n",
        "lst5.sort()\n",
        "print(lst5)\n",
        "\n",
        "# Example list\n",
        "my_list = [1, 2, 3, 4, 5]\n",
        "\n",
        "# Reversing the list in place\n",
        "my_list.reverse()\n",
        "\n",
        "# Printing the reversed list\n",
        "print(my_list)\n",
        "\n",
        "# 2: Reverse Using Slicing\n",
        "reversed_lst=my_list[::-1]\n",
        "print(reversed_lst)\n",
        "\n",
        "\n",
        "# 3: reverse using reversed\n",
        "\n",
        "studentNames = [\"Hannah\", \"Imogen\", \"Lewis\", \"Peter\"]\n",
        "for i in reversed(studentNames):\n",
        "\tprint(i)"
      ]
    },
    {
      "cell_type": "code",
      "execution_count": null,
      "metadata": {
        "colab": {
          "base_uri": "https://localhost:8080/"
        },
        "id": "Ffg20nfwU_2e",
        "outputId": "01109b3d-bdcf-43af-f52a-8377a157c80d",
        "scrolled": true
      },
      "outputs": [
        {
          "output_type": "stream",
          "name": "stdout",
          "text": [
            "[5, 3, 'Maha', 30, 90, 20]\n",
            "[1, 7, 5, 2]\n"
          ]
        }
      ],
      "source": [
        "list_temp=[5,3,30,90,20]\n",
        "# Add a new element to list at a specific index. L.insert(index, object)\n",
        "list_temp.insert(2,'Maha')\n",
        "print(list_temp)\n",
        "\n",
        "\n",
        "# Remove the first occurrence of a value with L.remove(value)\n",
        "lst6=[1,2,7,5,2]\n",
        "lst6.remove(2)\n",
        "print(lst6)"
      ]
    },
    {
      "cell_type": "code",
      "execution_count": null,
      "metadata": {
        "colab": {
          "base_uri": "https://localhost:8080/"
        },
        "id": "lfEdaBZNRzKP",
        "outputId": "08cbac91-4d1f-44b3-d800-c67a7dd3f7b8"
      },
      "outputs": [
        {
          "output_type": "stream",
          "name": "stdout",
          "text": [
            "5\n"
          ]
        },
        {
          "output_type": "execute_result",
          "data": {
            "text/plain": [
              "2"
            ]
          },
          "metadata": {},
          "execution_count": 97
        }
      ],
      "source": [
        "# Get the index in the list of the first item whose value is x. It will show an error if there is no such item.\n",
        "##ind=list_temp.index(30)\n",
        "lst7=[1,2,3,4,4,90,1,4]\n",
        "print(lst7.index(90))\n",
        "lst7.index(3)"
      ]
    },
    {
      "cell_type": "code",
      "execution_count": null,
      "metadata": {
        "colab": {
          "base_uri": "https://localhost:8080/"
        },
        "id": "-oxY1yTXR1L1",
        "outputId": "a59d2439-1568-4d00-bf3a-6d47ff7764e9"
      },
      "outputs": [
        {
          "output_type": "stream",
          "name": "stdout",
          "text": [
            "3\n",
            "[1, 3, 4, 5]\n"
          ]
        }
      ],
      "source": [
        "##count occurrence of any item in list\n",
        "print(lst7.count(4))\n",
        "\n",
        "# Example list\n",
        "my_list = [1, 2, 3, 2, 4, 2, 5]\n",
        "\n",
        "# Removing all occurrences of 2\n",
        "my_list = [x for x in my_list if x !=2]\n",
        "\n",
        "# Printing the updated list\n",
        "print(my_list)"
      ]
    },
    {
      "cell_type": "markdown",
      "metadata": {
        "id": "09Dabdt-U_2e"
      },
      "source": [
        "### exercise:\n",
        "-_Write a code that counts the occurrance of each element in list b__"
      ]
    },
    {
      "cell_type": "code",
      "execution_count": null,
      "metadata": {
        "id": "cFNwRUw9U_2e"
      },
      "outputs": [],
      "source": [
        "lst = [1, 2, 45, 55, 5, 4, 4, 4, 4, 4, 4, 5456, 56, 6, 7, 67]"
      ]
    },
    {
      "cell_type": "code",
      "source": [
        "for i in lst:\n",
        "    print(i , \"--->\" , lst.count(i))"
      ],
      "metadata": {
        "id": "XGwxaYl8y2eP",
        "outputId": "60ee64db-c157-4683-9af7-f24a701f70ac",
        "colab": {
          "base_uri": "https://localhost:8080/"
        }
      },
      "execution_count": null,
      "outputs": [
        {
          "output_type": "stream",
          "name": "stdout",
          "text": [
            "1 ---> 1\n",
            "2 ---> 1\n",
            "45 ---> 1\n",
            "55 ---> 1\n",
            "5 ---> 1\n",
            "4 ---> 6\n",
            "4 ---> 6\n",
            "4 ---> 6\n",
            "4 ---> 6\n",
            "4 ---> 6\n",
            "4 ---> 6\n",
            "5456 ---> 1\n",
            "56 ---> 1\n",
            "6 ---> 1\n",
            "7 ---> 1\n",
            "67 ---> 1\n"
          ]
        }
      ]
    },
    {
      "cell_type": "markdown",
      "metadata": {
        "id": "0f0hNssHU_2e"
      },
      "source": [
        "### list of list -- Nested list"
      ]
    },
    {
      "cell_type": "code",
      "execution_count": null,
      "metadata": {
        "colab": {
          "base_uri": "https://localhost:8080/"
        },
        "id": "bhPAyBv1U_2e",
        "outputId": "06f47320-350d-4d6f-c527-649f5068d7ca"
      },
      "outputs": [
        {
          "name": "stdout",
          "output_type": "stream",
          "text": [
            "[[1, 2], [10, 20, 22], [100, 200]]\n"
          ]
        }
      ],
      "source": [
        "lst=[[1,2],\n",
        "     [10,20,22],\n",
        "     [100,200]]\n",
        "\n",
        "print(lst)"
      ]
    },
    {
      "cell_type": "code",
      "execution_count": null,
      "metadata": {
        "colab": {
          "base_uri": "https://localhost:8080/"
        },
        "id": "zhxkjOLHS6Z6",
        "outputId": "efc2aef4-9953-47ab-faa7-657ff6d214b2"
      },
      "outputs": [
        {
          "name": "stdout",
          "output_type": "stream",
          "text": [
            "[10, 20, 22]\n",
            "2\n",
            "100\n",
            "100\n",
            "200\n"
          ]
        }
      ],
      "source": [
        "print(lst[1])\n",
        "## print 2\n",
        "print(lst[0][1])\n",
        "\n",
        "## print 100\n",
        "print(lst[2][0])\n",
        "print(lst[-1][0])"
      ]
    },
    {
      "cell_type": "code",
      "execution_count": null,
      "metadata": {
        "colab": {
          "base_uri": "https://localhost:8080/"
        },
        "id": "NKoygZEUfsVg",
        "outputId": "071b186b-b471-456d-c4b6-2028b6263429"
      },
      "outputs": [
        {
          "output_type": "stream",
          "name": "stdout",
          "text": [
            "2000\n"
          ]
        }
      ],
      "source": [
        "lst1=[13,[1000,2000,30000], 'A']\n",
        "## print 2000\n",
        "print(lst1[1][1])"
      ]
    },
    {
      "cell_type": "code",
      "execution_count": null,
      "metadata": {
        "colab": {
          "base_uri": "https://localhost:8080/"
        },
        "id": "HsQMnC_Y0-vu",
        "outputId": "fc3646ee-0543-456a-f35c-bec4617d33b9"
      },
      "outputs": [
        {
          "output_type": "stream",
          "name": "stdout",
          "text": [
            "[13, [1000, 2000, 30000], 'A']\n"
          ]
        }
      ],
      "source": [
        "print(lst1)"
      ]
    },
    {
      "cell_type": "code",
      "execution_count": null,
      "metadata": {
        "id": "AcE2_Cd307pq"
      },
      "outputs": [],
      "source": []
    },
    {
      "cell_type": "markdown",
      "metadata": {
        "id": "7mcS4odBU_2e"
      },
      "source": [
        "### Loops\n",
        "\n",
        "- Loops are used to execute a set of statements repeatedly until a particular condition is satisfied.\n",
        "- Loops (repeated steps) have iteration variables that change each time through a loop.  \n",
        "- Often these iteration variables go through a sequence of numbers.\n",
        "<br><br>\n",
        "- There are __two__ types of loops in Python, __for__ and __while__.\n",
        "<br><br>\n",
        "- __break__ is used to exit a for loop or a while loop,\n",
        "- __continue__ is used to skip the current block, and return to the \"for\" or \"while\" statement.\n"
      ]
    },
    {
      "cell_type": "code",
      "execution_count": null,
      "metadata": {
        "colab": {
          "base_uri": "https://localhost:8080/"
        },
        "id": "9CoUuvj9U_2e",
        "outputId": "da74cd27-07b8-407d-abb1-c0ea1a019fab"
      },
      "outputs": [
        {
          "output_type": "stream",
          "name": "stdout",
          "text": [
            "0 1 2 3 4 5 6 7 8 9 --------\n",
            "\n",
            "0 1 2 3 4 5 6 7 8 9 10 11 12 13 14 15 16 17 18 19 \n",
            "\n",
            "0 1 2 3 4 \n",
            "\n",
            "3 4 5 \n",
            "\n",
            "3 5 7 "
          ]
        }
      ],
      "source": [
        "# Prints out the numbers 0,1,2,3,4 using loop\n",
        "lst=['A', 2, 10, True]\n",
        "\n",
        "for i in range(10):\n",
        "    print(i, end=\" \")\n",
        "print('--------\\n')\n",
        "\n",
        "for i in range(20):\n",
        "    print(i, end=\" \")\n",
        "# print the numbers from 0 to 8\n",
        "# default value start=0\n",
        "# default value step=1\n",
        "\n",
        "print(\"\\n\")\n",
        "\n",
        "for x in range(5):\n",
        "    print(x, end=\" \")\n",
        "\n",
        "print(\"\\n\")\n",
        "\n",
        "# Prints out 3,4,5\n",
        "for x in range(3, 6):\n",
        "    print(x, end=\" \")\n",
        "\n",
        "print(\"\\n\")\n",
        "\n",
        "# Prints out 3,5,7\n",
        "for x in range(3, 8, 2):\n",
        "    print(x, end=\" \")\n"
      ]
    },
    {
      "cell_type": "code",
      "execution_count": null,
      "metadata": {
        "colab": {
          "base_uri": "https://localhost:8080/"
        },
        "id": "_CSq6DKUU_2e",
        "outputId": "2e9e9212-fe19-4ca3-b732-6ba12838020e"
      },
      "outputs": [
        {
          "output_type": "stream",
          "name": "stdout",
          "text": [
            "2 3 5 7 5 10 -----\n",
            "2\n",
            "3\n",
            "5\n",
            "7\n",
            "5\n",
            "10\n",
            "item  0 2\n",
            "item  1 3\n",
            "item  2 5\n",
            "item  3 7\n",
            "item  4 5\n",
            "item  5 10\n",
            "-------------------------------\n",
            "item  100 2\n",
            "item  101 3\n",
            "item  102 5\n",
            "item  103 7\n",
            "item  104 5\n",
            "item  105 10\n"
          ]
        }
      ],
      "source": [
        "primes = [2, 3, 5, 7, 5 ,10]\n",
        "# method 1\n",
        "for i in range(len(primes)):\n",
        "    print(primes[i], end=\" \")\n",
        "\n",
        "print('-----')\n",
        "## foreach\n",
        "for p in primes:\n",
        "    print(p)\n",
        "\n",
        "###\n",
        "ind=0\n",
        "for p in primes:\n",
        "    print('item ',ind,p)\n",
        "    ind=ind+1\n",
        "###\n",
        "print('-------------------------------')\n",
        "for index, p in enumerate(primes, start=100):\n",
        "    print('item ',index , p)\n"
      ]
    },
    {
      "cell_type": "code",
      "execution_count": null,
      "metadata": {
        "colab": {
          "base_uri": "https://localhost:8080/"
        },
        "id": "zBHEP4T6U_2e",
        "outputId": "73dd951e-6668-4b95-c113-6b288c4b110c"
      },
      "outputs": [
        {
          "name": "stdout",
          "output_type": "stream",
          "text": [
            "Ahmad\n",
            "Mohammad\n",
            "Sami\n",
            "Mona\n",
            "Norah\n",
            "Fahad\n",
            "Majed\n",
            "Ahmad\n",
            "Mohammad\n",
            "Sami\n",
            "Mona\n",
            "Norah\n",
            "Fahad\n",
            "Majed\n"
          ]
        }
      ],
      "source": [
        "names = [\"Ahmad\", \"Mohammad\", \"Sami\", \"Mona\", \"Norah\", \"Fahad\", \"Majed\"]\n",
        "for i in range(0, len(names), 1):\n",
        "    print(names[i])\n",
        "\n",
        "for name in names:\n",
        "    print(name)"
      ]
    },
    {
      "cell_type": "markdown",
      "metadata": {
        "id": "GPDxQFEkU_2f"
      },
      "source": [
        "### Write a code to print the occurance of each item in the blist"
      ]
    },
    {
      "cell_type": "code",
      "execution_count": null,
      "metadata": {
        "colab": {
          "base_uri": "https://localhost:8080/"
        },
        "id": "3l4PyOINU_2f",
        "outputId": "7ffb6869-c809-43a5-edb4-809cb829332d"
      },
      "outputs": [
        {
          "output_type": "stream",
          "name": "stdout",
          "text": [
            " occurance of item: 1 is : 3\n",
            " occurance of item: 1 is : 3\n",
            " occurance of item: 1 is : 3\n",
            " occurance of item: 2 is : 1\n",
            " occurance of item: 3 is : 2\n",
            " occurance of item: 4 is : 1\n",
            " occurance of item: 3 is : 2\n"
          ]
        }
      ],
      "source": [
        "blist = [1, 1, 1, 2, 3, 4,3]\n",
        "for n in blist:\n",
        "    print(' occurance of item:',n,'is :', blist.count(n))"
      ]
    },
    {
      "cell_type": "code",
      "execution_count": null,
      "metadata": {
        "id": "BFOFd6MGU_2f"
      },
      "outputs": [],
      "source": []
    },
    {
      "cell_type": "markdown",
      "metadata": {
        "id": "IipfAmfjU_2f"
      },
      "source": [
        "## in - not in keywords"
      ]
    },
    {
      "cell_type": "code",
      "execution_count": null,
      "metadata": {
        "colab": {
          "base_uri": "https://localhost:8080/"
        },
        "id": "dfBuo4T5U_2f",
        "outputId": "32b0933f-4e50-40e4-cb64-986c85a66026"
      },
      "outputs": [
        {
          "output_type": "stream",
          "name": "stdout",
          "text": [
            "True\n"
          ]
        }
      ],
      "source": [
        "clist=[1,4, 5, 10]\n",
        "## check if the element 1 and 0 is exist in clist\n",
        "res=1 in clist\n",
        "print(res)"
      ]
    },
    {
      "cell_type": "code",
      "execution_count": null,
      "metadata": {
        "colab": {
          "base_uri": "https://localhost:8080/"
        },
        "id": "ofDgmkHQU_2f",
        "outputId": "a04f0e38-8cee-4923-e47e-767711066c8f"
      },
      "outputs": [
        {
          "name": "stdout",
          "output_type": "stream",
          "text": [
            "False\n"
          ]
        }
      ],
      "source": [
        "res1= 5 not in clist\n",
        "print(res1)"
      ]
    },
    {
      "cell_type": "markdown",
      "metadata": {
        "id": "Y-bfxYAyU_2f"
      },
      "source": [
        "### What is the drawback of the code above?"
      ]
    },
    {
      "cell_type": "code",
      "execution_count": null,
      "metadata": {
        "colab": {
          "base_uri": "https://localhost:8080/"
        },
        "id": "ekTlXSttU_2f",
        "outputId": "a38039cb-272f-44e6-fd43-6210a860ee18"
      },
      "outputs": [
        {
          "output_type": "stream",
          "name": "stdout",
          "text": [
            "occurance of element: 1 4\n",
            "occurance of element: 3 1\n",
            "occurance of element: 4 2\n",
            "occurance of element: 5 2\n",
            "occurance of element: 10 1\n"
          ]
        }
      ],
      "source": [
        "def print_occruance(lst):\n",
        "    lst1=[]\n",
        "    for e in lst:\n",
        "        isExist= e in lst1\n",
        "        if isExist==False:\n",
        "            print('occurance of element:',e,lst.count(e))\n",
        "            lst1.append(e)\n",
        "\n",
        "print_occruance([1,1,3,4,4,5,5,1,10,1])"
      ]
    },
    {
      "cell_type": "markdown",
      "metadata": {
        "id": "loCgauiLU_2f"
      },
      "source": [
        "### zip funciton\n",
        "\n",
        "- Join two list or tuples together:\n"
      ]
    },
    {
      "cell_type": "code",
      "execution_count": null,
      "metadata": {
        "colab": {
          "base_uri": "https://localhost:8080/"
        },
        "id": "_67p8DILU_2f",
        "outputId": "07054b71-8c1a-4597-98af-06bcd4a2d5e3"
      },
      "outputs": [
        {
          "output_type": "stream",
          "name": "stdout",
          "text": [
            "<zip object at 0x7e553e5b8e00>\n"
          ]
        }
      ],
      "source": [
        "# Example lists\n",
        "list1 = [1, 2, 3]\n",
        "list2 = ['a', 'b', 'c']\n",
        "\n",
        "# Zipping the lists\n",
        "zippedlist= zip(list1, list2)\n",
        "print(zippedlist)"
      ]
    },
    {
      "cell_type": "code",
      "execution_count": null,
      "metadata": {
        "colab": {
          "base_uri": "https://localhost:8080/"
        },
        "id": "8n6wL9kAU_2f",
        "outputId": "6597cee5-720d-4f0c-f543-be64f5451229"
      },
      "outputs": [
        {
          "output_type": "stream",
          "name": "stdout",
          "text": [
            "(1, 2, 3)\n",
            "('a', 'b', 'c')\n"
          ]
        }
      ],
      "source": [
        "# Unzipping the list\n",
        "unzipped_list1, unzipped_list2 = zip(*zippedlist)\n",
        "\n",
        "# Converting tuples back to lists\n",
        "#unzipped_list1 = list(unzipped_list1)\n",
        "#unzipped_list2 = list(unzipped_list2)\n",
        "\n",
        "# Printing the unzipped lists\n",
        "print(unzipped_list1)\n",
        "print(unzipped_list2)"
      ]
    },
    {
      "cell_type": "code",
      "execution_count": null,
      "metadata": {
        "colab": {
          "base_uri": "https://localhost:8080/"
        },
        "id": "47hw0ZpQU_2f",
        "outputId": "d19d2371-4e12-463c-aa9e-d131ab80a86a"
      },
      "outputs": [
        {
          "output_type": "stream",
          "name": "stdout",
          "text": [
            "(1, 'A', [1, 2])\n",
            "(2, 'B', [3, 4])\n",
            "(3, 'C', [5, 6])\n",
            "(4, 'D', [3, 14])\n"
          ]
        }
      ],
      "source": [
        "lst1=[1,2,3,4]\n",
        "lst2=['A', 'B', 'C', 'D']\n",
        "lst3=[[1,2],[3,4],[5,6],[3,14]]\n",
        "zipped=zip(lst1,lst2,lst3)\n",
        "for row in zipped:\n",
        "    print(row)"
      ]
    },
    {
      "cell_type": "code",
      "execution_count": null,
      "metadata": {
        "colab": {
          "base_uri": "https://localhost:8080/"
        },
        "id": "7abPYvWcU_2g",
        "outputId": "b6d84c07-8df0-4ced-966e-0119d566850c"
      },
      "outputs": [
        {
          "output_type": "stream",
          "name": "stdout",
          "text": [
            "[('x', 3), ('y', 4), ('z', 5)]\n"
          ]
        }
      ],
      "source": [
        "coordinate = ['x', 'y', 'z']\n",
        "value = [3, 4, 5]\n",
        "zipped=zip(coordinate, value)\n",
        "## convert to list\n",
        "l=list(zipped)\n",
        "## print zipped\n",
        "print(l)"
      ]
    },
    {
      "cell_type": "code",
      "execution_count": null,
      "metadata": {
        "colab": {
          "base_uri": "https://localhost:8080/"
        },
        "id": "H7VOYUGyU_2g",
        "outputId": "06428100-a83a-4f6d-d603-1ee782fcb424"
      },
      "outputs": [
        {
          "output_type": "stream",
          "name": "stdout",
          "text": [
            "('x', 'y', 'z')\n",
            "(3, 4, 5)\n"
          ]
        }
      ],
      "source": [
        "coordinate = ['x', 'y', 'z']\n",
        "value = [3, 4, 5]\n",
        "zipped=zip(coordinate, value)\n",
        "c, v=zip(*zipped)\n",
        "print(c)\n",
        "print(v)"
      ]
    },
    {
      "cell_type": "markdown",
      "metadata": {
        "id": "so-YRv08U_2g"
      },
      "source": [
        "\n",
        "\n",
        "```\n",
        "#This is formatted as code\n",
        "```\n",
        "\n",
        "### zip- Iterate over two lists in parallel"
      ]
    },
    {
      "cell_type": "code",
      "execution_count": 33,
      "metadata": {
        "colab": {
          "base_uri": "https://localhost:8080/"
        },
        "id": "Is_h4DUkU_2g",
        "outputId": "f7221e02-288b-45ff-90bd-fbd297a5087d"
      },
      "outputs": [
        {
          "output_type": "stream",
          "name": "stdout",
          "text": [
            "30\n",
            "100\n",
            "240\n",
            "---------------\n",
            "(3, 10) (5, 20) (8, 30)\n",
            "30\n",
            "100\n",
            "240\n",
            "---------------\n",
            "index: 1 30\n",
            "index: 2 100\n",
            "index: 3 240\n"
          ]
        }
      ],
      "source": [
        "alist = ['a1', 'a2', 'a3']\n",
        "blist = ['b1', 'b2', 'b3']\n",
        "\n",
        "aa=[3,5,8]\n",
        "bb=[10,20,30]\n",
        "### method 1\n",
        "for i in range(len(aa)):\n",
        "    print(aa[i]*bb[i])\n",
        "\n",
        "print('---------------')\n",
        "## method 2\n",
        "\n",
        "z = zip(aa,bb)\n",
        "\n",
        "print(*z)\n",
        "\n",
        "for a, b in zip(aa,bb):\n",
        "    print(a*b)\n",
        "\n",
        "print('---------------')\n",
        "for ind, (a, b) in enumerate(zip(aa,bb),start=1):\n",
        "    print('index:',ind, a*b)"
      ]
    },
    {
      "cell_type": "markdown",
      "metadata": {
        "id": "FRDAcZxWU_2g"
      },
      "source": [
        "### What if we need indexes?\n",
        "\n",
        "- Python’s built-in __enumerate__ function allows us to loop over a list and retrieve both the index and the value of each item in the list:"
      ]
    },
    {
      "cell_type": "code",
      "execution_count": 36,
      "metadata": {
        "colab": {
          "base_uri": "https://localhost:8080/"
        },
        "id": "G3uoEA5GU_2h",
        "outputId": "e0d2736b-0233-4f1f-fc37-097d280445ad"
      },
      "outputs": [
        {
          "output_type": "stream",
          "name": "stdout",
          "text": [
            "['Ahmad', 'Mohammad', 'Sami', 'Mona', 'Norah', 'Fahad', 'Majed']\n",
            "student: 1 : AHMAD\n",
            "student: 2 : MOHAMMAD\n",
            "student: 3 : SAMI\n",
            "student: 4 : MONA\n",
            "student: 5 : NORAH\n",
            "student: 6 : FAHAD\n",
            "student: 7 : MAJED\n",
            "\n",
            "student: 1 : Ahmad\n",
            "student: 2 : Mohammad\n",
            "student: 3 : Sami\n",
            "student: 4 : Mona\n",
            "student: 5 : Norah\n",
            "student: 6 : Fahad\n",
            "student: 7 : Majed\n"
          ]
        }
      ],
      "source": [
        "\n",
        "names = [\"Ahmad\", \"Mohammad\", \"Sami\", \"Mona\", \"Norah\", \"Fahad\", \"Majed\"]\n",
        "print(names)\n",
        "i=1\n",
        "for name in names:\n",
        "    print('student:',i,':', name.upper())\n",
        "    i+=1\n",
        "\n",
        "print()\n",
        "\n",
        "for ind, name in enumerate(names, start=1):\n",
        "    print('student:',ind,':', name)\n"
      ]
    },
    {
      "cell_type": "markdown",
      "metadata": {
        "id": "6gobJw93U_2h"
      },
      "source": [
        "####  A while loop statement in Python programming language repeatedly executes a target statement as long as a given condition is true."
      ]
    },
    {
      "cell_type": "code",
      "execution_count": null,
      "metadata": {
        "colab": {
          "base_uri": "https://localhost:8080/"
        },
        "id": "UVTl074IU_2h",
        "outputId": "a58bdc2b-254e-4edb-9382-a8c5b0e8683a"
      },
      "outputs": [
        {
          "name": "stdout",
          "output_type": "stream",
          "text": [
            "The count is: 0\n",
            "The count is: 1\n",
            "The count is: 2\n",
            "The count is: 3\n",
            "The count is: 4\n",
            "The count is: 5\n",
            "The count is: 6\n",
            "The count is: 7\n",
            "The count is: 8\n",
            "The count is: 9\n"
          ]
        }
      ],
      "source": [
        "count = 0\n",
        "while (count <= 9):\n",
        "    print ('The count is:', count)\n",
        "    count = count + 1"
      ]
    },
    {
      "cell_type": "code",
      "execution_count": 37,
      "metadata": {
        "colab": {
          "base_uri": "https://localhost:8080/"
        },
        "id": "bWjwiZvSU_2h",
        "outputId": "89eb4f20-914d-4095-b830-c7b171d67db6"
      },
      "outputs": [
        {
          "output_type": "stream",
          "name": "stdout",
          "text": [
            "2\n",
            "3\n",
            "4\n",
            "5\n"
          ]
        }
      ],
      "source": [
        "i=2\n",
        "while i<10:\n",
        "    print(i)\n",
        "    if i==5:\n",
        "        break\n",
        "    i=i+1\n"
      ]
    },
    {
      "cell_type": "code",
      "execution_count": 38,
      "metadata": {
        "colab": {
          "base_uri": "https://localhost:8080/"
        },
        "id": "BT9DLAeQU_2h",
        "outputId": "268141bb-9cac-41ba-bcde-565342fef4c6"
      },
      "outputs": [
        {
          "output_type": "stream",
          "name": "stdout",
          "text": [
            "3\n",
            "4\n",
            "6\n",
            "7\n",
            "8\n",
            "9\n",
            "10\n"
          ]
        }
      ],
      "source": [
        "i=2\n",
        "while i<10:\n",
        "    i=i+1\n",
        "    if i==5:\n",
        "        continue\n",
        "    print(i)"
      ]
    },
    {
      "cell_type": "code",
      "execution_count": 39,
      "metadata": {
        "colab": {
          "base_uri": "https://localhost:8080/"
        },
        "id": "hMgKiJ42U_2h",
        "outputId": "a91a3139-71d6-4a80-8cc5-8faf6443bf1b"
      },
      "outputs": [
        {
          "output_type": "stream",
          "name": "stdout",
          "text": [
            "15\n",
            "14\n",
            "13\n",
            "12\n",
            "11\n",
            "10\n"
          ]
        }
      ],
      "source": [
        "j=15\n",
        "while j:\n",
        "    print(j)\n",
        "    if j==10:\n",
        "        break\n",
        "    j=j-1\n"
      ]
    },
    {
      "cell_type": "markdown",
      "metadata": {
        "id": "S41K88u0U_2h"
      },
      "source": [
        "### sets\n",
        "<font size=\"4\">\n",
        "- A set is an unordered collection of items. Every set element is unique (no duplicates)\n",
        "\n",
        "- In Python, sets are written with curly brackets.\n",
        "</font>"
      ]
    },
    {
      "cell_type": "code",
      "execution_count": null,
      "metadata": {
        "id": "f7HEq7BGU_2h"
      },
      "outputs": [],
      "source": [
        "lst=[1,2,1,2,3]\n"
      ]
    },
    {
      "cell_type": "code",
      "execution_count": 43,
      "metadata": {
        "colab": {
          "base_uri": "https://localhost:8080/"
        },
        "id": "whQmoPalU_2h",
        "outputId": "e42e6c5e-d6ef-47ed-b224-6a1777789a6e"
      },
      "outputs": [
        {
          "output_type": "stream",
          "name": "stdout",
          "text": [
            "<class 'set'>\n",
            "{1, 2, 3, 5}\n",
            "{1, 2, 3, 4, 5}\n"
          ]
        }
      ],
      "source": [
        "##empty list\n",
        "lst100=[]\n",
        "lst101=list()\n",
        "\n",
        "##empty set\n",
        "setB=set()\n",
        "print(type(setB))\n",
        "\n",
        "# create a set consists of 12,45,55\n",
        "setA= {3,2,1,5}\n",
        "print(setA)\n",
        "\n",
        "# add new element 100 to the set\n",
        "setA.add(5)\n",
        "setA.add(4)\n",
        "print(setA)"
      ]
    },
    {
      "cell_type": "code",
      "execution_count": null,
      "metadata": {
        "colab": {
          "base_uri": "https://localhost:8080/"
        },
        "id": "ndgrXEMEU_2h",
        "outputId": "e5a889c1-6721-4691-f113-29686a27d02b"
      },
      "outputs": [
        {
          "name": "stdout",
          "output_type": "stream",
          "text": [
            "[1, 2, 3, 4]\n",
            "[{1, 2, 3, 4}, 1, 'a']\n",
            "{1, 2, 3, 4}\n"
          ]
        }
      ],
      "source": [
        "##convert from set to list\n",
        "set200={1,2,3,4}\n",
        "lst200=list(set200)\n",
        "print(lst200)\n",
        "\n",
        "set300={1,2,3,4}\n",
        "lst300=[set300, 1, \"a\"]\n",
        "\n",
        "print(lst300)\n",
        "print(lst300[0])"
      ]
    },
    {
      "cell_type": "code",
      "execution_count": 44,
      "metadata": {
        "colab": {
          "base_uri": "https://localhost:8080/"
        },
        "id": "0wD4MRyzU_2h",
        "outputId": "3e34e46a-62f1-438d-c7d0-a122d7a027e8"
      },
      "outputs": [
        {
          "output_type": "stream",
          "name": "stdout",
          "text": [
            "{'Hello', 1.0, (1, 2, 3)}\n"
          ]
        }
      ],
      "source": [
        "# Different types of sets in Python\n",
        "# set of integers\n",
        "my_set = {1, 2, 3}\n",
        "\n",
        "\n",
        "# set of mixed datatypes\n",
        "my_set = {1.0, \"Hello\", (1, 2, 3)}\n",
        "print(my_set)"
      ]
    },
    {
      "cell_type": "markdown",
      "metadata": {
        "id": "xLu_ALgWU_2i"
      },
      "source": []
    },
    {
      "cell_type": "code",
      "execution_count": 51,
      "metadata": {
        "colab": {
          "base_uri": "https://localhost:8080/"
        },
        "id": "iJ7ZZUvPU_2i",
        "outputId": "e78d1f7c-305f-470b-a272-5d330f0b6b3b"
      },
      "outputs": [
        {
          "output_type": "stream",
          "name": "stdout",
          "text": [
            "{1, 3, 4, 5, 6}\n",
            "{1, 3, 4, 5, 6, 10}\n",
            "{1, 4, 5, 6, 10}\n",
            "{1, 4, 5, 6, 10}\n"
          ]
        }
      ],
      "source": [
        "# Difference between discard() and remove()\n",
        "\n",
        "# initialize my_set\n",
        "my_set = {1, 3, 4, 5, 6}\n",
        "print(my_set)\n",
        "\n",
        "## add 10 to set\n",
        "my_set.add(10)\n",
        "print(my_set)\n",
        "\n",
        "# discard an element\n",
        "my_set.discard(3)\n",
        "print(my_set)\n",
        "my_set.discard(200)\n",
        "print(my_set)"
      ]
    },
    {
      "cell_type": "code",
      "execution_count": 53,
      "metadata": {
        "colab": {
          "base_uri": "https://localhost:8080/"
        },
        "id": "VvQ-M5X_lVEi",
        "outputId": "1526aca5-a5de-4a6d-faab-2411e028404f"
      },
      "outputs": [
        {
          "output_type": "stream",
          "name": "stdout",
          "text": [
            "{1, 4, 5, 10}\n",
            "{1, 4, 5, 10}\n"
          ]
        }
      ],
      "source": [
        "# remove an element\n",
        "my_set.discard(6)\n",
        "print(my_set)\n",
        "\n",
        "my_set.discard(600)\n",
        "print(my_set)"
      ]
    },
    {
      "cell_type": "markdown",
      "metadata": {
        "id": "alJBL35EU_2i"
      },
      "source": [
        "## what is the difference between remove and discard?\n",
        "\n",
        "The remove() method raises an error when the specified element doesn't exist in the given set, however the discard() method doesn't raise any error if the specified element is not present in the set and the set remains unchanged"
      ]
    },
    {
      "cell_type": "code",
      "execution_count": 54,
      "metadata": {
        "colab": {
          "base_uri": "https://localhost:8080/",
          "height": 193
        },
        "id": "Bsw1dobUU_2i",
        "outputId": "9f617bda-a735-4142-a148-13e507a48565"
      },
      "outputs": [
        {
          "output_type": "stream",
          "name": "stdout",
          "text": [
            "None\n"
          ]
        },
        {
          "output_type": "error",
          "ename": "NameError",
          "evalue": "name 'aaa' is not defined",
          "traceback": [
            "\u001b[0;31m---------------------------------------------------------------------------\u001b[0m",
            "\u001b[0;31mNameError\u001b[0m                                 Traceback (most recent call last)",
            "\u001b[0;32m<ipython-input-54-caf9de00817b>\u001b[0m in \u001b[0;36m<cell line: 6>\u001b[0;34m()\u001b[0m\n\u001b[1;32m      4\u001b[0m \u001b[0mprint\u001b[0m\u001b[0;34m(\u001b[0m\u001b[0maaa\u001b[0m\u001b[0;34m)\u001b[0m\u001b[0;34m\u001b[0m\u001b[0;34m\u001b[0m\u001b[0m\n\u001b[1;32m      5\u001b[0m \u001b[0;32mdel\u001b[0m \u001b[0maaa\u001b[0m   \u001b[0;31m#### The del keyword is used to delete objects.\u001b[0m\u001b[0;34m\u001b[0m\u001b[0;34m\u001b[0m\u001b[0m\n\u001b[0;32m----> 6\u001b[0;31m \u001b[0mprint\u001b[0m\u001b[0;34m(\u001b[0m\u001b[0maaa\u001b[0m\u001b[0;34m)\u001b[0m\u001b[0;34m\u001b[0m\u001b[0;34m\u001b[0m\u001b[0m\n\u001b[0m",
            "\u001b[0;31mNameError\u001b[0m: name 'aaa' is not defined"
          ]
        }
      ],
      "source": [
        "aaa=[12,4,5,True]\n",
        "aaa=None\n",
        "##print(aaa)\n",
        "print(aaa)\n",
        "del aaa   #### The del keyword is used to delete objects.\n",
        "print(aaa)"
      ]
    },
    {
      "cell_type": "markdown",
      "metadata": {
        "id": "cREU79rDU_2i"
      },
      "source": [
        "#### Difference Between Python del vs Assigning to None\n",
        "The difference is that x = None will free whatever it referenced but keep the name around even though it's just referencing None (which is a type, NoneType). On the other hand, del x will completely remove both the name and what it referenced."
      ]
    },
    {
      "cell_type": "markdown",
      "metadata": {
        "id": "iE_JcpkcU_2i"
      },
      "source": [
        "### Python Set Operations"
      ]
    },
    {
      "cell_type": "code",
      "execution_count": null,
      "metadata": {
        "colab": {
          "base_uri": "https://localhost:8080/"
        },
        "id": "9qFXE3OxU_2i",
        "outputId": "93188040-7b4f-4957-e000-2f1315d7bcdf"
      },
      "outputs": [
        {
          "name": "stdout",
          "output_type": "stream",
          "text": [
            "{1, 4, 7}\n",
            "{1, 3, 4, 7, 10, 11}\n",
            "{1, 3, 4, 7, 10, 11}\n"
          ]
        }
      ],
      "source": [
        "aa={1,3,4,7}\n",
        "bb={1,4,7,10,11}\n",
        "\n",
        "## intersection\n",
        "print(aa & bb)\n",
        "\n",
        "##uniion\n",
        "\n",
        "c=aa | bb\n",
        "c.add(1)\n",
        "\n",
        "print(c)\n",
        "print(aa | bb)\n",
        "\n",
        "\n"
      ]
    },
    {
      "cell_type": "markdown",
      "metadata": {
        "id": "X_akKjT_U_2i"
      },
      "source": [
        "### dictionary\n",
        "##### In Python, a dictionary is an unordered collection of items, with each item consisting of a key: value pair (separated by a colon)."
      ]
    },
    {
      "cell_type": "code",
      "execution_count": 61,
      "metadata": {
        "colab": {
          "base_uri": "https://localhost:8080/"
        },
        "id": "ftkHqVA3U_2i",
        "outputId": "130143c8-ec54-4c3f-86f5-0686ba974c96"
      },
      "outputs": [
        {
          "output_type": "stream",
          "name": "stdout",
          "text": [
            "{'color': 'blue', 'fruit': 'apple', 'pet': 'dog', 'weight': 20, 'dimeter': 20}\n",
            "blue\n",
            "{'color': 'blue', 'fruit': 'apple', 'pet': 'dog', 'weight': 20, 'dimeter': 20, 10: 200}\n",
            "color : blue\n",
            "fruit : apple\n",
            "pet : dog\n",
            "weight : 20\n",
            "dimeter : 20\n",
            "10 : 200\n",
            "--------------\n",
            "color blue\n",
            "fruit apple\n",
            "pet dog\n",
            "weight 20\n",
            "dimeter 20\n",
            "10 200\n",
            "<class 'dict_keys'>\n",
            "<class 'dict_values'>\n"
          ]
        }
      ],
      "source": [
        "# empty dictionary\n",
        "myDict = dict()\n",
        "myDict1={}\n",
        "\n",
        "info={'Saleh':40, 'NorAH':24}\n",
        "\n",
        "#### Distinguish set and dictionary while creating empty set\n",
        "\n",
        "a_dict = {'color': 'blue', 'fruit': 'apple', 'pet': 'dog', 'weight':20}\n",
        "\n",
        "a_dict['dimeter']=1.3 #Add\n",
        "\n",
        "a_dict['dimeter']=20  #update\n",
        "print(a_dict)\n",
        "print(a_dict['color'])\n",
        "\n",
        "a_dict[10]=200\n",
        "print(a_dict)\n",
        "# iterating through iterms\n",
        "\n",
        "for key, value in a_dict.items():\n",
        "    print(key,':', value)\n",
        "print('--------------')\n",
        "\n",
        "for k, v in a_dict.items():\n",
        "    print(k,v)\n",
        "\n",
        "print(type(a_dict.keys()))\n",
        "print(type(a_dict.values()))"
      ]
    },
    {
      "cell_type": "markdown",
      "metadata": {
        "id": "3wDbr1vjU_2i"
      },
      "source": [
        "### tuple\n",
        "- A tuple is a collection which is ordered and unchangeable. In Python tuples are written with round brackets."
      ]
    },
    {
      "cell_type": "code",
      "execution_count": 63,
      "metadata": {
        "colab": {
          "base_uri": "https://localhost:8080/"
        },
        "id": "LKEp9-x9U_2i",
        "outputId": "a9edef97-2b3b-4e51-f5cc-0b61dcbbab68"
      },
      "outputs": [
        {
          "output_type": "stream",
          "name": "stdout",
          "text": [
            "('p', 'r', 'o', 'g', 'r', 'a', 'm', 'i', 'z')\n"
          ]
        }
      ],
      "source": [
        "my_tuple = ('p','r','o','g','r','a','m','i','z')\n",
        "print(my_tuple)"
      ]
    },
    {
      "cell_type": "code",
      "execution_count": 64,
      "metadata": {
        "colab": {
          "base_uri": "https://localhost:8080/"
        },
        "id": "_WXIv-XhU_2j",
        "outputId": "e0f069b7-0061-47a6-fee4-067d6ba9d568"
      },
      "outputs": [
        {
          "output_type": "stream",
          "name": "stdout",
          "text": [
            "p\n"
          ]
        }
      ],
      "source": [
        "print(my_tuple[0])"
      ]
    },
    {
      "cell_type": "code",
      "execution_count": 65,
      "metadata": {
        "colab": {
          "base_uri": "https://localhost:8080/",
          "height": 141
        },
        "id": "UV9Rfp1PU_2j",
        "outputId": "b0e29458-bcb5-48ca-e222-fa1b1b2838ae"
      },
      "outputs": [
        {
          "output_type": "error",
          "ename": "TypeError",
          "evalue": "'tuple' object does not support item assignment",
          "traceback": [
            "\u001b[0;31m---------------------------------------------------------------------------\u001b[0m",
            "\u001b[0;31mTypeError\u001b[0m                                 Traceback (most recent call last)",
            "\u001b[0;32m<ipython-input-65-2da6f0af6dd7>\u001b[0m in \u001b[0;36m<cell line: 1>\u001b[0;34m()\u001b[0m\n\u001b[0;32m----> 1\u001b[0;31m \u001b[0mmy_tuple\u001b[0m\u001b[0;34m[\u001b[0m\u001b[0;36m0\u001b[0m\u001b[0;34m]\u001b[0m\u001b[0;34m=\u001b[0m\u001b[0;34m'k'\u001b[0m\u001b[0;34m\u001b[0m\u001b[0;34m\u001b[0m\u001b[0m\n\u001b[0m",
            "\u001b[0;31mTypeError\u001b[0m: 'tuple' object does not support item assignment"
          ]
        }
      ],
      "source": [
        "my_tuple[0]='k'"
      ]
    },
    {
      "cell_type": "markdown",
      "metadata": {
        "id": "HxtjescmU_2j"
      },
      "source": [
        "### Q) How to change the value in tuple?"
      ]
    },
    {
      "cell_type": "code",
      "execution_count": 68,
      "metadata": {
        "colab": {
          "base_uri": "https://localhost:8080/"
        },
        "id": "0t6ixBpUU_2j",
        "outputId": "76eed20a-7fb0-4c4e-fe4f-06984cc30b2d"
      },
      "outputs": [
        {
          "output_type": "stream",
          "name": "stdout",
          "text": [
            "['K', 'r', 'o', 'g', 'r', 'a', 'm', 'i', 'z']\n"
          ]
        },
        {
          "output_type": "execute_result",
          "data": {
            "text/plain": [
              "('K', 'r', 'o', 'g', 'r', 'a', 'm', 'i', 'z')"
            ]
          },
          "metadata": {},
          "execution_count": 68
        }
      ],
      "source": [
        "my_lst10=list(my_tuple)\n",
        "\n",
        "my_lst10[0]='K'\n",
        "print(my_lst10)\n",
        "\n",
        "my_tuple1=tuple(my_lst10)\n",
        "my_tuple1"
      ]
    },
    {
      "cell_type": "markdown",
      "metadata": {
        "id": "XkySZO3mU_2j"
      },
      "source": [
        "*italicized text*### Importing Modules and packages\n",
        "\n",
        "<font size=\"4\">\n",
        "    \n",
        "- Module is a file consisting of Python code. Module can define functions , classes and variables.\n",
        "- To make use of the functions in a module, you’ll need to import the module with an import statement.\n",
        "    <font size=\"3\">AAAAAA</font>"
      ]
    },
    {
      "cell_type": "code",
      "execution_count": 69,
      "metadata": {
        "colab": {
          "base_uri": "https://localhost:8080/"
        },
        "id": "4qVcyltaU_2j",
        "outputId": "a41359a4-f405-457b-b2d0-3ac8649def89"
      },
      "outputs": [
        {
          "output_type": "stream",
          "name": "stdout",
          "text": [
            "0.8939966636005579\n",
            "3.141592653589793\n",
            "[0. 0. 0. 0. 0.]\n",
            "30\n",
            "3.0\n"
          ]
        },
        {
          "output_type": "execute_result",
          "data": {
            "text/plain": [
              "<function math.acos(x, /)>"
            ]
          },
          "metadata": {},
          "execution_count": 69
        }
      ],
      "source": [
        "# method 1\n",
        "import math\n",
        "import numpy\n",
        "\n",
        "print(math.sin(90))\n",
        "print(math.pi)\n",
        "print(numpy.zeros(5))\n",
        "\n",
        "# methed 2\n",
        "import numpy as np\n",
        "import pandas as pd\n",
        "\n",
        "pd.DataFrame()\n",
        "print(np.add(10,20))\n",
        "\n",
        "# method 3\n",
        "from math import log10, pi, sin, ceil, floor\n",
        "print(log10(1000))\n",
        "from math import sin,pi , ceil\n",
        "sin(90)\n",
        "#method 4\n",
        "from math import *\n",
        "acos"
      ]
    },
    {
      "cell_type": "code",
      "execution_count": 70,
      "metadata": {
        "colab": {
          "base_uri": "https://localhost:8080/"
        },
        "id": "hpYlR0iq5-ee",
        "outputId": "fd7dbacc-5fb6-4180-c6b3-7198de43850a"
      },
      "outputs": [
        {
          "output_type": "stream",
          "name": "stdout",
          "text": [
            "1.0\n"
          ]
        }
      ],
      "source": [
        "import math\n",
        "\n",
        "# Angle in degrees\n",
        "angle_in_degrees = 90\n",
        "\n",
        "# Convert degrees to radians\n",
        "angle_in_radians = math.radians(angle_in_degrees)\n",
        "\n",
        "# Calculate the sine of the angle\n",
        "sin_value = math.sin(angle_in_radians)\n",
        "\n",
        "# Print the result\n",
        "print(sin_value)\n"
      ]
    },
    {
      "cell_type": "code",
      "execution_count": 71,
      "metadata": {
        "colab": {
          "base_uri": "https://localhost:8080/"
        },
        "id": "Dv6OhOjlU_2j",
        "outputId": "20b01149-52e0-4f19-c03f-1086db1b2666"
      },
      "outputs": [
        {
          "output_type": "stream",
          "name": "stdout",
          "text": [
            "Help on built-in module math:\n",
            "\n",
            "NAME\n",
            "    math\n",
            "\n",
            "DESCRIPTION\n",
            "    This module provides access to the mathematical functions\n",
            "    defined by the C standard.\n",
            "\n",
            "FUNCTIONS\n",
            "    acos(x, /)\n",
            "        Return the arc cosine (measured in radians) of x.\n",
            "        \n",
            "        The result is between 0 and pi.\n",
            "    \n",
            "    acosh(x, /)\n",
            "        Return the inverse hyperbolic cosine of x.\n",
            "    \n",
            "    asin(x, /)\n",
            "        Return the arc sine (measured in radians) of x.\n",
            "        \n",
            "        The result is between -pi/2 and pi/2.\n",
            "    \n",
            "    asinh(x, /)\n",
            "        Return the inverse hyperbolic sine of x.\n",
            "    \n",
            "    atan(x, /)\n",
            "        Return the arc tangent (measured in radians) of x.\n",
            "        \n",
            "        The result is between -pi/2 and pi/2.\n",
            "    \n",
            "    atan2(y, x, /)\n",
            "        Return the arc tangent (measured in radians) of y/x.\n",
            "        \n",
            "        Unlike atan(y/x), the signs of both x and y are considered.\n",
            "    \n",
            "    atanh(x, /)\n",
            "        Return the inverse hyperbolic tangent of x.\n",
            "    \n",
            "    ceil(x, /)\n",
            "        Return the ceiling of x as an Integral.\n",
            "        \n",
            "        This is the smallest integer >= x.\n",
            "    \n",
            "    comb(n, k, /)\n",
            "        Number of ways to choose k items from n items without repetition and without order.\n",
            "        \n",
            "        Evaluates to n! / (k! * (n - k)!) when k <= n and evaluates\n",
            "        to zero when k > n.\n",
            "        \n",
            "        Also called the binomial coefficient because it is equivalent\n",
            "        to the coefficient of k-th term in polynomial expansion of the\n",
            "        expression (1 + x)**n.\n",
            "        \n",
            "        Raises TypeError if either of the arguments are not integers.\n",
            "        Raises ValueError if either of the arguments are negative.\n",
            "    \n",
            "    copysign(x, y, /)\n",
            "        Return a float with the magnitude (absolute value) of x but the sign of y.\n",
            "        \n",
            "        On platforms that support signed zeros, copysign(1.0, -0.0)\n",
            "        returns -1.0.\n",
            "    \n",
            "    cos(x, /)\n",
            "        Return the cosine of x (measured in radians).\n",
            "    \n",
            "    cosh(x, /)\n",
            "        Return the hyperbolic cosine of x.\n",
            "    \n",
            "    degrees(x, /)\n",
            "        Convert angle x from radians to degrees.\n",
            "    \n",
            "    dist(p, q, /)\n",
            "        Return the Euclidean distance between two points p and q.\n",
            "        \n",
            "        The points should be specified as sequences (or iterables) of\n",
            "        coordinates.  Both inputs must have the same dimension.\n",
            "        \n",
            "        Roughly equivalent to:\n",
            "            sqrt(sum((px - qx) ** 2.0 for px, qx in zip(p, q)))\n",
            "    \n",
            "    erf(x, /)\n",
            "        Error function at x.\n",
            "    \n",
            "    erfc(x, /)\n",
            "        Complementary error function at x.\n",
            "    \n",
            "    exp(x, /)\n",
            "        Return e raised to the power of x.\n",
            "    \n",
            "    expm1(x, /)\n",
            "        Return exp(x)-1.\n",
            "        \n",
            "        This function avoids the loss of precision involved in the direct evaluation of exp(x)-1 for small x.\n",
            "    \n",
            "    fabs(x, /)\n",
            "        Return the absolute value of the float x.\n",
            "    \n",
            "    factorial(x, /)\n",
            "        Find x!.\n",
            "        \n",
            "        Raise a ValueError if x is negative or non-integral.\n",
            "    \n",
            "    floor(x, /)\n",
            "        Return the floor of x as an Integral.\n",
            "        \n",
            "        This is the largest integer <= x.\n",
            "    \n",
            "    fmod(x, y, /)\n",
            "        Return fmod(x, y), according to platform C.\n",
            "        \n",
            "        x % y may differ.\n",
            "    \n",
            "    frexp(x, /)\n",
            "        Return the mantissa and exponent of x, as pair (m, e).\n",
            "        \n",
            "        m is a float and e is an int, such that x = m * 2.**e.\n",
            "        If x is 0, m and e are both 0.  Else 0.5 <= abs(m) < 1.0.\n",
            "    \n",
            "    fsum(seq, /)\n",
            "        Return an accurate floating point sum of values in the iterable seq.\n",
            "        \n",
            "        Assumes IEEE-754 floating point arithmetic.\n",
            "    \n",
            "    gamma(x, /)\n",
            "        Gamma function at x.\n",
            "    \n",
            "    gcd(*integers)\n",
            "        Greatest Common Divisor.\n",
            "    \n",
            "    hypot(...)\n",
            "        hypot(*coordinates) -> value\n",
            "        \n",
            "        Multidimensional Euclidean distance from the origin to a point.\n",
            "        \n",
            "        Roughly equivalent to:\n",
            "            sqrt(sum(x**2 for x in coordinates))\n",
            "        \n",
            "        For a two dimensional point (x, y), gives the hypotenuse\n",
            "        using the Pythagorean theorem:  sqrt(x*x + y*y).\n",
            "        \n",
            "        For example, the hypotenuse of a 3/4/5 right triangle is:\n",
            "        \n",
            "            >>> hypot(3.0, 4.0)\n",
            "            5.0\n",
            "    \n",
            "    isclose(a, b, *, rel_tol=1e-09, abs_tol=0.0)\n",
            "        Determine whether two floating point numbers are close in value.\n",
            "        \n",
            "          rel_tol\n",
            "            maximum difference for being considered \"close\", relative to the\n",
            "            magnitude of the input values\n",
            "          abs_tol\n",
            "            maximum difference for being considered \"close\", regardless of the\n",
            "            magnitude of the input values\n",
            "        \n",
            "        Return True if a is close in value to b, and False otherwise.\n",
            "        \n",
            "        For the values to be considered close, the difference between them\n",
            "        must be smaller than at least one of the tolerances.\n",
            "        \n",
            "        -inf, inf and NaN behave similarly to the IEEE 754 Standard.  That\n",
            "        is, NaN is not close to anything, even itself.  inf and -inf are\n",
            "        only close to themselves.\n",
            "    \n",
            "    isfinite(x, /)\n",
            "        Return True if x is neither an infinity nor a NaN, and False otherwise.\n",
            "    \n",
            "    isinf(x, /)\n",
            "        Return True if x is a positive or negative infinity, and False otherwise.\n",
            "    \n",
            "    isnan(x, /)\n",
            "        Return True if x is a NaN (not a number), and False otherwise.\n",
            "    \n",
            "    isqrt(n, /)\n",
            "        Return the integer part of the square root of the input.\n",
            "    \n",
            "    lcm(*integers)\n",
            "        Least Common Multiple.\n",
            "    \n",
            "    ldexp(x, i, /)\n",
            "        Return x * (2**i).\n",
            "        \n",
            "        This is essentially the inverse of frexp().\n",
            "    \n",
            "    lgamma(x, /)\n",
            "        Natural logarithm of absolute value of Gamma function at x.\n",
            "    \n",
            "    log(...)\n",
            "        log(x, [base=math.e])\n",
            "        Return the logarithm of x to the given base.\n",
            "        \n",
            "        If the base not specified, returns the natural logarithm (base e) of x.\n",
            "    \n",
            "    log10(x, /)\n",
            "        Return the base 10 logarithm of x.\n",
            "    \n",
            "    log1p(x, /)\n",
            "        Return the natural logarithm of 1+x (base e).\n",
            "        \n",
            "        The result is computed in a way which is accurate for x near zero.\n",
            "    \n",
            "    log2(x, /)\n",
            "        Return the base 2 logarithm of x.\n",
            "    \n",
            "    modf(x, /)\n",
            "        Return the fractional and integer parts of x.\n",
            "        \n",
            "        Both results carry the sign of x and are floats.\n",
            "    \n",
            "    nextafter(x, y, /)\n",
            "        Return the next floating-point value after x towards y.\n",
            "    \n",
            "    perm(n, k=None, /)\n",
            "        Number of ways to choose k items from n items without repetition and with order.\n",
            "        \n",
            "        Evaluates to n! / (n - k)! when k <= n and evaluates\n",
            "        to zero when k > n.\n",
            "        \n",
            "        If k is not specified or is None, then k defaults to n\n",
            "        and the function returns n!.\n",
            "        \n",
            "        Raises TypeError if either of the arguments are not integers.\n",
            "        Raises ValueError if either of the arguments are negative.\n",
            "    \n",
            "    pow(x, y, /)\n",
            "        Return x**y (x to the power of y).\n",
            "    \n",
            "    prod(iterable, /, *, start=1)\n",
            "        Calculate the product of all the elements in the input iterable.\n",
            "        \n",
            "        The default start value for the product is 1.\n",
            "        \n",
            "        When the iterable is empty, return the start value.  This function is\n",
            "        intended specifically for use with numeric values and may reject\n",
            "        non-numeric types.\n",
            "    \n",
            "    radians(x, /)\n",
            "        Convert angle x from degrees to radians.\n",
            "    \n",
            "    remainder(x, y, /)\n",
            "        Difference between x and the closest integer multiple of y.\n",
            "        \n",
            "        Return x - n*y where n*y is the closest integer multiple of y.\n",
            "        In the case where x is exactly halfway between two multiples of\n",
            "        y, the nearest even value of n is used. The result is always exact.\n",
            "    \n",
            "    sin(x, /)\n",
            "        Return the sine of x (measured in radians).\n",
            "    \n",
            "    sinh(x, /)\n",
            "        Return the hyperbolic sine of x.\n",
            "    \n",
            "    sqrt(x, /)\n",
            "        Return the square root of x.\n",
            "    \n",
            "    tan(x, /)\n",
            "        Return the tangent of x (measured in radians).\n",
            "    \n",
            "    tanh(x, /)\n",
            "        Return the hyperbolic tangent of x.\n",
            "    \n",
            "    trunc(x, /)\n",
            "        Truncates the Real x to the nearest Integral toward 0.\n",
            "        \n",
            "        Uses the __trunc__ magic method.\n",
            "    \n",
            "    ulp(x, /)\n",
            "        Return the value of the least significant bit of the float x.\n",
            "\n",
            "DATA\n",
            "    e = 2.718281828459045\n",
            "    inf = inf\n",
            "    nan = nan\n",
            "    pi = 3.141592653589793\n",
            "    tau = 6.283185307179586\n",
            "\n",
            "FILE\n",
            "    (built-in)\n",
            "\n",
            "\n"
          ]
        }
      ],
      "source": [
        "import math\n",
        "help(math)"
      ]
    },
    {
      "cell_type": "markdown",
      "metadata": {
        "id": "cWWVIZo6U_2k"
      },
      "source": [
        "### random module\n",
        "- random.random(): Generates a random float number between 0.0 to 1.0. The function doesn't need any arguments.\n",
        "- random.randint(): Returns a random integer between the specified integers.\n",
        "- random.shuffle(): This functions randomly reorders the elements in a list.\n",
        "- random.choice():  Returns a randomly selected element from a non-empty sequence. An empty sequence as argument raises an IndexError.\n",
        "- random.sample returns a list with a randomly selection of a specified number of items from a sequnce.\n",
        "- random.randrange(): Returns a randomly selected element from the range created by the start, stop and step arguments. The value of start is 0 by default. Similarly, the value of step is 1 by default.\n",
        "\n",
        "\n"
      ]
    },
    {
      "cell_type": "code",
      "execution_count": 74,
      "metadata": {
        "colab": {
          "base_uri": "https://localhost:8080/"
        },
        "id": "zNTNFlvh8-Q-",
        "outputId": "287b5c11-0527-4171-a0a1-2bbfeeace175"
      },
      "outputs": [
        {
          "output_type": "stream",
          "name": "stdout",
          "text": [
            "Random float: 0.9903035575018636\n"
          ]
        }
      ],
      "source": [
        "import random\n",
        "\n",
        "# Generate a random float number between 0.0 and 1.0\n",
        "random_float = random.random()\n",
        "print(\"Random float:\", random_float)"
      ]
    },
    {
      "cell_type": "code",
      "execution_count": 79,
      "metadata": {
        "colab": {
          "base_uri": "https://localhost:8080/"
        },
        "id": "SBWFLyxd9AfS",
        "outputId": "174ff641-55eb-4d3a-f801-756846a161e8"
      },
      "outputs": [
        {
          "output_type": "stream",
          "name": "stdout",
          "text": [
            "Random integer: 90\n"
          ]
        }
      ],
      "source": [
        "import random\n",
        "\n",
        "# Generate a random integer between 1 and 10\n",
        "random_int = random.randint(1, 10)\n",
        "print(\"Random integer:\", random_int)\n"
      ]
    },
    {
      "cell_type": "code",
      "execution_count": 82,
      "metadata": {
        "colab": {
          "base_uri": "https://localhost:8080/"
        },
        "id": "nt-QaTjb9CjI",
        "outputId": "56bb8228-2466-4722-f4ef-9d9e27382323"
      },
      "outputs": [
        {
          "output_type": "stream",
          "name": "stdout",
          "text": [
            "Shuffled list: [1, 5, 3, 4, 2]\n"
          ]
        }
      ],
      "source": [
        "import random\n",
        "\n",
        "# Example list\n",
        "my_list = [1, 2, 3, 4, 5]\n",
        "\n",
        "# Shuffle the list\n",
        "random.shuffle(my_list)\n",
        "print(\"Shuffled list:\", my_list)\n"
      ]
    },
    {
      "cell_type": "code",
      "execution_count": 84,
      "metadata": {
        "colab": {
          "base_uri": "https://localhost:8080/"
        },
        "id": "tlOehE309F4d",
        "outputId": "9f31f2d0-f974-4020-c7c3-a22d5fee157b"
      },
      "outputs": [
        {
          "output_type": "stream",
          "name": "stdout",
          "text": [
            "Random choice: date\n"
          ]
        }
      ],
      "source": [
        "import random\n",
        "\n",
        "# Example list\n",
        "my_list = ['apple', 'banana', 'cherry', 'date']\n",
        "\n",
        "# Select a random element from the list\n",
        "random_element = random.choice(my_list)\n",
        "print(\"Random choice:\", random_element)\n"
      ]
    },
    {
      "cell_type": "code",
      "execution_count": 86,
      "metadata": {
        "colab": {
          "base_uri": "https://localhost:8080/"
        },
        "id": "ybbUFtVb9Igj",
        "outputId": "dd7811c2-7364-4673-a78e-a6819d914cbd"
      },
      "outputs": [
        {
          "output_type": "stream",
          "name": "stdout",
          "text": [
            "Random sample: ['date', 'elderberry', 'apple']\n"
          ]
        }
      ],
      "source": [
        "import random\n",
        "\n",
        "# Example list\n",
        "my_list = ['apple', 'banana', 'cherry', 'date', 'elderberry']\n",
        "\n",
        "# Select 3 random elements from the list\n",
        "random_sample = random.sample(my_list, 3)\n",
        "print(\"Random sample:\", random_sample)\n"
      ]
    },
    {
      "cell_type": "code",
      "execution_count": null,
      "metadata": {
        "colab": {
          "base_uri": "https://localhost:8080/"
        },
        "id": "AmgFYj1E9KNz",
        "outputId": "30098971-57f5-4656-8a1c-f045a1c7e06b"
      },
      "outputs": [
        {
          "name": "stdout",
          "output_type": "stream",
          "text": [
            "Random range element: 8\n",
            "Random range element with start: 1\n",
            "Random range element with step: 9\n"
          ]
        }
      ],
      "source": [
        "import random\n",
        "\n",
        "# Generate a random element from the range 0 to 9 (inclusive)\n",
        "random_range = random.randrange(10)\n",
        "print(\"Random range element:\", random_range)\n",
        "\n",
        "# Generate a random element from the range 1 to 10 (inclusive)\n",
        "random_range_with_start = random.randrange(1, 11)\n",
        "print(\"Random range element with start:\", random_range_with_start)\n",
        "\n",
        "# Generate a random element from the range 1 to 10 (inclusive) with step 2\n",
        "random_range_with_step = random.randrange(1, 11, 2)\n",
        "print(\"Random range element with step:\", random_range_with_step)\n"
      ]
    },
    {
      "cell_type": "code",
      "execution_count": 95,
      "metadata": {
        "colab": {
          "base_uri": "https://localhost:8080/"
        },
        "id": "Z8kmO2oPU_2k",
        "outputId": "5e1aca2b-8b9b-4406-debe-eb779f71936c"
      },
      "outputs": [
        {
          "output_type": "stream",
          "name": "stdout",
          "text": [
            "0.5714025946899135\n"
          ]
        }
      ],
      "source": [
        "import random\n",
        "random.seed(10)\n",
        "print(random.random())"
      ]
    },
    {
      "cell_type": "code",
      "execution_count": 103,
      "metadata": {
        "colab": {
          "base_uri": "https://localhost:8080/"
        },
        "id": "xR0L-p2-U_2k",
        "outputId": "bd092582-1f30-440b-f4ae-dc9f1c1b7533"
      },
      "outputs": [
        {
          "output_type": "stream",
          "name": "stdout",
          "text": [
            "[1, 2, 3, 4, 5, 6, 7, 8, 9, 10, 11, 12, 13, 14, 15, 16, 17, 18, 19]\n",
            "[5, 10, 7, 6, 15, 18, 19, 2, 3, 16, 11, 4, 13, 8, 14, 1, 17, 12, 9]\n"
          ]
        }
      ],
      "source": [
        "random.seed(5)\n",
        "arr=list(range(1,20))\n",
        "print(arr)\n",
        "random.shuffle(arr)\n",
        "print(arr)"
      ]
    },
    {
      "cell_type": "markdown",
      "metadata": {
        "id": "vc_sOSDsU_2l"
      },
      "source": [
        "### Loops"
      ]
    },
    {
      "cell_type": "markdown",
      "metadata": {
        "id": "Y7W-4kgOU_2m"
      },
      "source": [
        "# Exercise\n",
        "#### Simple Mathematical Operators"
      ]
    }
  ],
  "metadata": {
    "colab": {
      "provenance": [],
      "toc_visible": true
    },
    "kernelspec": {
      "display_name": "Python 3 (ipykernel)",
      "language": "python",
      "name": "python3"
    },
    "language_info": {
      "codemirror_mode": {
        "name": "ipython",
        "version": 3
      },
      "file_extension": ".py",
      "mimetype": "text/x-python",
      "name": "python",
      "nbconvert_exporter": "python",
      "pygments_lexer": "ipython3",
      "version": "3.12.5"
    }
  },
  "nbformat": 4,
  "nbformat_minor": 0
}