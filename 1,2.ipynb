{
 "cells": [
  {
   "cell_type": "markdown",
   "metadata": {
    "id": "kdIN7h4sU_2N"
   },
   "source": [
    "### Installing Python Packages from a Jupyter Notebook"
   ]
  },
  {
   "cell_type": "markdown",
   "metadata": {
    "id": "6i7pFSv8U_2P"
   },
   "source": [
    " !pip install **packageName** <br>\n",
    " !conda install **packageName**"
   ]
  },
  {
   "cell_type": "code",
   "execution_count": 3,
   "metadata": {
    "colab": {
     "base_uri": "https://localhost:8080/"
    },
    "executionInfo": {
     "elapsed": 5531,
     "status": "ok",
     "timestamp": 1719856501772,
     "user": {
      "displayName": "Ahmed Yousry",
      "userId": "15736517196575255940"
     },
     "user_tz": -180
    },
    "id": "teJ6Z9HVU_2Q",
    "outputId": "89c41fbd-d194-46b7-b8da-1c6fa25c31e7"
   },
   "outputs": [
    {
     "name": "stdout",
     "output_type": "stream",
     "text": [
      "Requirement already satisfied: numpy in c:\\users\\e0xmomen\\appdata\\local\\programs\\python\\python312\\lib\\site-packages (2.1.2)\n"
     ]
    }
   ],
   "source": [
    "!pip install numpy"
   ]
  },
  {
   "cell_type": "markdown",
   "metadata": {
    "id": "F01cqjcSU_2R"
   },
   "source": [
    "### pip vs conda"
   ]
  },
  {
   "cell_type": "markdown",
   "metadata": {
    "id": "GBah1V0tU_2R"
   },
   "source": [
    "* pip installs python packages in any environment.\n",
    "* conda installs any package in conda environments."
   ]
  },
  {
   "cell_type": "markdown",
   "metadata": {
    "id": "5pM5WTY0U_2S"
   },
   "source": [
    "### Hello World: Creat your First Python Program"
   ]
  },
  {
   "cell_type": "code",
   "execution_count": 10,
   "metadata": {
    "colab": {
     "base_uri": "https://localhost:8080/"
    },
    "executionInfo": {
     "elapsed": 460,
     "status": "ok",
     "timestamp": 1719667272167,
     "user": {
      "displayName": "Ahmed Yousry",
      "userId": "15736517196575255940"
     },
     "user_tz": -180
    },
    "id": "5L_X67HcU_2S",
    "outputId": "7ec2cc43-9375-4957-982b-bf56b514b1fc"
   },
   "outputs": [
    {
     "name": "stdout",
     "output_type": "stream",
     "text": [
      "Welcome to first lecture\n",
      "It is a great course\n"
     ]
    }
   ],
   "source": [
    "print(\"Welcome to first lecture\")\n",
    "print('It is a great course')"
   ]
  },
  {
   "cell_type": "code",
   "execution_count": 11,
   "metadata": {
    "colab": {
     "base_uri": "https://localhost:8080/"
    },
    "executionInfo": {
     "elapsed": 449,
     "status": "ok",
     "timestamp": 1719667464837,
     "user": {
      "displayName": "Ahmed Yousry",
      "userId": "15736517196575255940"
     },
     "user_tz": -180
    },
    "id": "WUDqioRCU_2S",
    "outputId": "9705a4fa-8fa8-4095-dbaf-a60a9c5a59e7"
   },
   "outputs": [
    {
     "name": "stdout",
     "output_type": "stream",
     "text": [
      "10\n",
      "3.4\n"
     ]
    }
   ],
   "source": [
    "## print numbers\n",
    "print(10)\n",
    "print(3.4)   # floating point number"
   ]
  },
  {
   "cell_type": "markdown",
   "metadata": {
    "id": "ZAo_CyqVU_2T"
   },
   "source": [
    "## Creating variables and assigning values\n",
    "A variable is a name that refers to a value.\n",
    "\n",
    "__To create a variable in Python, all you need to do is specify the variable name, and then assign a value to it.\n",
    "<variable name> = <value>__"
   ]
  },
  {
   "cell_type": "code",
   "execution_count": 6,
   "metadata": {
    "id": "FyvqsK9NU_2T"
   },
   "outputs": [],
   "source": [
    "# integer\n",
    "number=10\n",
    "\n",
    "# float\n",
    "number2=10.5\n",
    "number3=0.5\n",
    "\n",
    "# string\n",
    "strVar='Maha'\n",
    "\n",
    "# boolean\n",
    "passing=False\n",
    "flag2=True\n",
    "\n",
    "# Empty value or null data type\n",
    "none_var=None   # null"
   ]
  },
  {
   "cell_type": "code",
   "execution_count": 7,
   "metadata": {
    "colab": {
     "base_uri": "https://localhost:8080/"
    },
    "executionInfo": {
     "elapsed": 8,
     "status": "ok",
     "timestamp": 1717082413567,
     "user": {
      "displayName": "Ahmed Yousry",
      "userId": "15736517196575255940"
     },
     "user_tz": -180
    },
    "id": "nVw-6Wm5U_2T",
    "outputId": "5086b2f6-f1f2-411e-8fa5-69ae94095ec0"
   },
   "outputs": [
    {
     "name": "stdout",
     "output_type": "stream",
     "text": [
      "<class 'int'>\n",
      "<class 'str'>\n",
      "<class 'bool'>\n",
      "<class 'float'>\n"
     ]
    }
   ],
   "source": [
    "name=\"Norah\"\n",
    "age=26\n",
    "flag=False\n",
    "number=5.5\n",
    "\n",
    "print(type(age))\n",
    "print(type(name))\n",
    "print(type(flag))\n",
    "print(type(number))"
   ]
  },
  {
   "cell_type": "code",
   "execution_count": 8,
   "metadata": {
    "colab": {
     "base_uri": "https://localhost:8080/"
    },
    "executionInfo": {
     "elapsed": 295,
     "status": "ok",
     "timestamp": 1717082513743,
     "user": {
      "displayName": "Ahmed Yousry",
      "userId": "15736517196575255940"
     },
     "user_tz": -180
    },
    "id": "dNiIn2o8U_2T",
    "outputId": "5918f606-6b40-4a69-9c47-a556b37e9f59"
   },
   "outputs": [
    {
     "name": "stdout",
     "output_type": "stream",
     "text": [
      "hello world lamma\n",
      "hello world lamma\n"
     ]
    }
   ],
   "source": [
    "print(\"hello\", \"world\", \"lamma\")\n",
    "print(\"hello world lamma\")"
   ]
  },
  {
   "cell_type": "code",
   "execution_count": 9,
   "metadata": {
    "colab": {
     "base_uri": "https://localhost:8080/"
    },
    "executionInfo": {
     "elapsed": 281,
     "status": "ok",
     "timestamp": 1717082557852,
     "user": {
      "displayName": "Ahmed Yousry",
      "userId": "15736517196575255940"
     },
     "user_tz": -180
    },
    "id": "y16KJyihU_2T",
    "outputId": "0c608d64-9387-4bf2-ab37-8f3e4ba9250c"
   },
   "outputs": [
    {
     "name": "stdout",
     "output_type": "stream",
     "text": [
      "Your name is Norah and my age is  26 years old\n"
     ]
    }
   ],
   "source": [
    "name=\"Norah\"\n",
    "age=26\n",
    "print('Your name is',name,'and my age is ',age, 'years old')"
   ]
  },
  {
   "cell_type": "code",
   "execution_count": null,
   "metadata": {
    "colab": {
     "base_uri": "https://localhost:8080/"
    },
    "executionInfo": {
     "elapsed": 327,
     "status": "ok",
     "timestamp": 1721980552459,
     "user": {
      "displayName": "Ahmed Yousry",
      "userId": "15736517196575255940"
     },
     "user_tz": -180
    },
    "id": "QtNti_5iU_2T",
    "outputId": "c0124fa3-952b-4f9d-b5f6-6032cfdfdb10"
   },
   "outputs": [
    {
     "name": "stdout",
     "output_type": "stream",
     "text": [
      "My child name is Fahad and his age is 3 years\n"
     ]
    }
   ],
   "source": [
    "name='Fahad'\n",
    "age=3\n",
    "# My child name is Fahad and his age is 3 years\n",
    "###  code there\n",
    "print('My child name is {} and his age is {} years'.format(name,age))"
   ]
  },
  {
   "cell_type": "code",
   "execution_count": null,
   "metadata": {
    "colab": {
     "base_uri": "https://localhost:8080/"
    },
    "executionInfo": {
     "elapsed": 20,
     "status": "ok",
     "timestamp": 1717082414061,
     "user": {
      "displayName": "Ahmed Yousry",
      "userId": "15736517196575255940"
     },
     "user_tz": -180
    },
    "id": "JwDocyowU_2U",
    "outputId": "8ec9221c-1286-435f-ea0c-568612c78ec9"
   },
   "outputs": [
    {
     "name": "stdout",
     "output_type": "stream",
     "text": [
      "<class 'int'>\n",
      "<class 'float'>\n",
      "10\n",
      "10.0\n"
     ]
    }
   ],
   "source": [
    "num1=10  #10\n",
    "num2=float(num1)  #10.0\n",
    "\n",
    "print(type(num1))\n",
    "print(type(num2))\n",
    "\n",
    "print(num1)\n",
    "print(num2)"
   ]
  },
  {
   "cell_type": "code",
   "execution_count": null,
   "metadata": {
    "colab": {
     "base_uri": "https://localhost:8080/"
    },
    "executionInfo": {
     "elapsed": 455,
     "status": "ok",
     "timestamp": 1717082708618,
     "user": {
      "displayName": "Ahmed Yousry",
      "userId": "15736517196575255940"
     },
     "user_tz": -180
    },
    "id": "yxjq88VDU_2U",
    "outputId": "73832c9e-206e-4587-9321-097ea839fbc3"
   },
   "outputs": [
    {
     "name": "stdout",
     "output_type": "stream",
     "text": [
      "95.000000%\n"
     ]
    }
   ],
   "source": [
    "## percentage\n",
    "value= 95\n",
    "print(\"{:%}\".format(value/100))"
   ]
  },
  {
   "cell_type": "markdown",
   "metadata": {
    "id": "1COL4-JpU_2U"
   },
   "source": [
    "### Testing the type of variables\n",
    "\n",
    "- ##### In python, we can check the datatype of an object using the built-in function type."
   ]
  },
  {
   "cell_type": "code",
   "execution_count": null,
   "metadata": {
    "colab": {
     "base_uri": "https://localhost:8080/"
    },
    "executionInfo": {
     "elapsed": 15,
     "status": "ok",
     "timestamp": 1717082414061,
     "user": {
      "displayName": "Ahmed Yousry",
      "userId": "15736517196575255940"
     },
     "user_tz": -180
    },
    "id": "rsOf5FqlU_2U",
    "outputId": "46499271-20c7-4f12-8762-1c71d216019a"
   },
   "outputs": [
    {
     "name": "stdout",
     "output_type": "stream",
     "text": [
      "<class 'float'>\n"
     ]
    }
   ],
   "source": [
    "pi=3.14\n",
    "print(type(pi))"
   ]
  },
  {
   "cell_type": "markdown",
   "metadata": {
    "id": "b4GMb810U_2U"
   },
   "source": [
    "### Asking the user for input\n",
    "Sometimes we would like to take the value for a variable from the user via their keyboard. Python provides a built-in function called __input__ that gets input from the keyboard"
   ]
  },
  {
   "cell_type": "code",
   "execution_count": null,
   "metadata": {
    "colab": {
     "base_uri": "https://localhost:8080/"
    },
    "executionInfo": {
     "elapsed": 4923,
     "status": "ok",
     "timestamp": 1717082746393,
     "user": {
      "displayName": "Ahmed Yousry",
      "userId": "15736517196575255940"
     },
     "user_tz": -180
    },
    "id": "qyINusRNU_2U",
    "outputId": "b137b168-cc7c-4ab4-94c3-ee1d2d032493"
   },
   "outputs": [
    {
     "name": "stdout",
     "output_type": "stream",
     "text": [
      "Enter number 20\n"
     ]
    }
   ],
   "source": [
    "no_of_childen=input(\"Enter number \")"
   ]
  },
  {
   "cell_type": "code",
   "execution_count": null,
   "metadata": {
    "colab": {
     "base_uri": "https://localhost:8080/"
    },
    "executionInfo": {
     "elapsed": 3726,
     "status": "ok",
     "timestamp": 1717082779883,
     "user": {
      "displayName": "Ahmed Yousry",
      "userId": "15736517196575255940"
     },
     "user_tz": -180
    },
    "id": "TVx1vkYSU_2U",
    "outputId": "b71f5786-777b-4612-95c9-9a5c35f6a9dc"
   },
   "outputs": [
    {
     "name": "stdout",
     "output_type": "stream",
     "text": [
      "How many kids do you have:20\n",
      "20\n"
     ]
    }
   ],
   "source": [
    "kids=input('How many kids do you have:')\n",
    "\n",
    "print(kids)"
   ]
  },
  {
   "cell_type": "code",
   "execution_count": null,
   "metadata": {
    "colab": {
     "base_uri": "https://localhost:8080/"
    },
    "executionInfo": {
     "elapsed": 556,
     "status": "ok",
     "timestamp": 1717082786985,
     "user": {
      "displayName": "Ahmed Yousry",
      "userId": "15736517196575255940"
     },
     "user_tz": -180
    },
    "id": "dsNDeMV-U_2U",
    "outputId": "4808ca7c-b0c7-428f-a7eb-53bce8106e53"
   },
   "outputs": [
    {
     "name": "stdout",
     "output_type": "stream",
     "text": [
      "20\n"
     ]
    }
   ],
   "source": [
    "print(no_of_childen)"
   ]
  },
  {
   "cell_type": "code",
   "execution_count": null,
   "metadata": {
    "colab": {
     "base_uri": "https://localhost:8080/"
    },
    "executionInfo": {
     "elapsed": 425,
     "status": "ok",
     "timestamp": 1721980699199,
     "user": {
      "displayName": "Ahmed Yousry",
      "userId": "15736517196575255940"
     },
     "user_tz": -180
    },
    "id": "MrjE24hqU_2U",
    "outputId": "b05c66c2-7255-499d-bcec-78e58f7ae80e"
   },
   "outputs": [
    {
     "name": "stdout",
     "output_type": "stream",
     "text": [
      "['welcome', 'to', 'the', 'CSC605']\n"
     ]
    }
   ],
   "source": [
    "## Split a string into a list where each word is a list item:\n",
    "txt = \"welcome to the CSC605\"\n",
    "txt1=txt.split()\n",
    "print(txt1)"
   ]
  },
  {
   "cell_type": "code",
   "execution_count": null,
   "metadata": {
    "colab": {
     "base_uri": "https://localhost:8080/"
    },
    "executionInfo": {
     "elapsed": 445,
     "status": "ok",
     "timestamp": 1719667759228,
     "user": {
      "displayName": "Ahmed Yousry",
      "userId": "15736517196575255940"
     },
     "user_tz": -180
    },
    "id": "mpKrqobdU_2U",
    "outputId": "7655c583-f5c7-43c1-a4c7-c0e2935ed01f"
   },
   "outputs": [
    {
     "name": "stdout",
     "output_type": "stream",
     "text": [
      "['welcome', ' to', ' the CSC605']\n"
     ]
    }
   ],
   "source": [
    "txt = \"welcome; to; the CSC605\"\n",
    "\n",
    "x = txt.split(';')\n",
    "\n",
    "print(x)"
   ]
  },
  {
   "cell_type": "code",
   "execution_count": null,
   "metadata": {
    "colab": {
     "base_uri": "https://localhost:8080/"
    },
    "executionInfo": {
     "elapsed": 4432,
     "status": "ok",
     "timestamp": 1717082887737,
     "user": {
      "displayName": "Ahmed Yousry",
      "userId": "15736517196575255940"
     },
     "user_tz": -180
    },
    "id": "AaSMYKX1U_2V",
    "outputId": "0a081c44-cb0e-4a5d-b570-497262e900ac"
   },
   "outputs": [
    {
     "name": "stdout",
     "output_type": "stream",
     "text": [
      "20\n"
     ]
    }
   ],
   "source": [
    "a=input()\n",
    "a=int(a)"
   ]
  },
  {
   "cell_type": "code",
   "execution_count": null,
   "metadata": {
    "colab": {
     "base_uri": "https://localhost:8080/"
    },
    "executionInfo": {
     "elapsed": 257,
     "status": "ok",
     "timestamp": 1717082893797,
     "user": {
      "displayName": "Ahmed Yousry",
      "userId": "15736517196575255940"
     },
     "user_tz": -180
    },
    "id": "nxI2G5wxU_2V",
    "outputId": "174c2f32-e80e-4d31-9996-9a62a68e4d52"
   },
   "outputs": [
    {
     "name": "stdout",
     "output_type": "stream",
     "text": [
      "20\n"
     ]
    },
    {
     "data": {
      "text/plain": [
       "int"
      ]
     },
     "execution_count": 107,
     "metadata": {},
     "output_type": "execute_result"
    }
   ],
   "source": [
    "print(a)\n",
    "type(a)"
   ]
  },
  {
   "cell_type": "code",
   "execution_count": null,
   "metadata": {
    "colab": {
     "base_uri": "https://localhost:8080/"
    },
    "executionInfo": {
     "elapsed": 8,
     "status": "ok",
     "timestamp": 1717082966872,
     "user": {
      "displayName": "Ahmed Yousry",
      "userId": "15736517196575255940"
     },
     "user_tz": -180
    },
    "id": "aMidli7LU_2V",
    "outputId": "b767ad2f-0228-4fd3-e6d2-005fd843c491"
   },
   "outputs": [
    {
     "name": "stdout",
     "output_type": "stream",
     "text": [
      "12\n",
      "<class 'str'>\n"
     ]
    }
   ],
   "source": [
    "x=12.9\n",
    "type(x)\n",
    "print(int(x))\n",
    "\n",
    "y=12\n",
    "y=str(y)\n",
    "print(type(y))"
   ]
  },
  {
   "cell_type": "code",
   "execution_count": null,
   "metadata": {
    "colab": {
     "base_uri": "https://localhost:8080/"
    },
    "executionInfo": {
     "elapsed": 8,
     "status": "ok",
     "timestamp": 1717083120034,
     "user": {
      "displayName": "Ahmed Yousry",
      "userId": "15736517196575255940"
     },
     "user_tz": -180
    },
    "id": "CgKnjyoiU_2V",
    "outputId": "4738c18d-cb32-4713-cd2e-4b0ca8a3eda5"
   },
   "outputs": [
    {
     "name": "stdout",
     "output_type": "stream",
     "text": [
      "25\n"
     ]
    }
   ],
   "source": [
    "print(int(a)+5)"
   ]
  },
  {
   "cell_type": "markdown",
   "metadata": {
    "id": "AKPjC9QCU_2V"
   },
   "source": [
    "### Functions\n",
    "- A function is a block of code which only runs when it is called.\n",
    "- Variables that are defined inside a function body have a local scope, and those defined outside have a global scope.\n",
    "\n"
   ]
  },
  {
   "cell_type": "code",
   "execution_count": null,
   "metadata": {
    "id": "BGBLa_3jU_2V"
   },
   "outputs": [],
   "source": [
    "### Examples\n",
    "def fun_name():\n",
    "    print('first function')\n",
    "    print(\"hello world\")"
   ]
  },
  {
   "cell_type": "code",
   "execution_count": null,
   "metadata": {
    "colab": {
     "base_uri": "https://localhost:8080/"
    },
    "executionInfo": {
     "elapsed": 7,
     "status": "ok",
     "timestamp": 1717083199505,
     "user": {
      "displayName": "Ahmed Yousry",
      "userId": "15736517196575255940"
     },
     "user_tz": -180
    },
    "id": "TgRqQA4rU_2V",
    "outputId": "9dd7e84e-54d0-4d67-d204-89b4b5f56bc7"
   },
   "outputs": [
    {
     "name": "stdout",
     "output_type": "stream",
     "text": [
      "first function\n",
      "hello world\n"
     ]
    }
   ],
   "source": [
    "fun_name()"
   ]
  },
  {
   "cell_type": "code",
   "execution_count": null,
   "metadata": {
    "colab": {
     "base_uri": "https://localhost:8080/"
    },
    "executionInfo": {
     "elapsed": 266,
     "status": "ok",
     "timestamp": 1717083281061,
     "user": {
      "displayName": "Ahmed Yousry",
      "userId": "15736517196575255940"
     },
     "user_tz": -180
    },
    "id": "wGxGmPuHU_2V",
    "outputId": "88c70e88-8b96-4463-f434-7a1f41f7e8de"
   },
   "outputs": [
    {
     "name": "stdout",
     "output_type": "stream",
     "text": [
      "40\n"
     ]
    }
   ],
   "source": [
    "def fun2():\n",
    "    cc=10\n",
    "    print(cc+30)\n",
    "\n",
    "fun2()"
   ]
  },
  {
   "cell_type": "code",
   "execution_count": null,
   "metadata": {
    "colab": {
     "base_uri": "https://localhost:8080/"
    },
    "executionInfo": {
     "elapsed": 483,
     "status": "ok",
     "timestamp": 1717083337778,
     "user": {
      "displayName": "Ahmed Yousry",
      "userId": "15736517196575255940"
     },
     "user_tz": -180
    },
    "id": "DFOjrCSSU_2W",
    "outputId": "539d4a87-a3f6-4d23-ddaf-f7017145e80e"
   },
   "outputs": [
    {
     "name": "stdout",
     "output_type": "stream",
     "text": [
      "22\n",
      "479\n"
     ]
    }
   ],
   "source": [
    "def addTwoNumbers(a,b):\n",
    "    return a+b\n",
    "\n",
    "print(addTwoNumbers(20,2) )\n",
    "\n",
    "res=addTwoNumbers(34,445)\n",
    "print(res)\n",
    "## return two outputs"
   ]
  },
  {
   "cell_type": "code",
   "execution_count": null,
   "metadata": {
    "id": "wo2p7_lSU_2W"
   },
   "outputs": [],
   "source": [
    "def add_and_substract_and_multiply(a,b):\n",
    "\n",
    "    return a+b, a-b , a*b  #(1100, 900)\n"
   ]
  },
  {
   "cell_type": "code",
   "execution_count": null,
   "metadata": {
    "colab": {
     "base_uri": "https://localhost:8080/"
    },
    "executionInfo": {
     "elapsed": 289,
     "status": "ok",
     "timestamp": 1721982493883,
     "user": {
      "displayName": "Ahmed Yousry",
      "userId": "15736517196575255940"
     },
     "user_tz": -180
    },
    "id": "91vdUtPYU_2W",
    "outputId": "b050046f-b112-430a-c48f-c5e9ac1b04a3"
   },
   "outputs": [
    {
     "name": "stdout",
     "output_type": "stream",
     "text": [
      "(1100, 900, 100000)\n",
      "1100\n",
      "900\n",
      "100000\n"
     ]
    }
   ],
   "source": [
    "a1 =add_and_substract_and_multiply(1000,100)   #a1=(1100,900)\n",
    "print(a1)\n",
    "\n",
    "print(a1[0])\n",
    "print(a1[1])\n",
    "print(a1[2])"
   ]
  },
  {
   "cell_type": "code",
   "execution_count": null,
   "metadata": {
    "colab": {
     "base_uri": "https://localhost:8080/"
    },
    "executionInfo": {
     "elapsed": 337,
     "status": "ok",
     "timestamp": 1721982537833,
     "user": {
      "displayName": "Ahmed Yousry",
      "userId": "15736517196575255940"
     },
     "user_tz": -180
    },
    "id": "uBzZj8JkJj9U",
    "outputId": "da6ad5da-d253-4069-e202-5d441cfcce06"
   },
   "outputs": [
    {
     "name": "stdout",
     "output_type": "stream",
     "text": [
      "1100     900    100000\n"
     ]
    }
   ],
   "source": [
    "a1, a2 , a3 =add_and_substract_and_multiply(1000,100)   #a1=(1100,900)\n",
    "print(a1, \"   \",a2, \"  \" , a3)"
   ]
  },
  {
   "cell_type": "markdown",
   "metadata": {
    "id": "cQLhEzlsU_2a"
   },
   "source": [
    "### dummy variables\n"
   ]
  },
  {
   "cell_type": "code",
   "execution_count": null,
   "metadata": {
    "colab": {
     "base_uri": "https://localhost:8080/"
    },
    "executionInfo": {
     "elapsed": 325,
     "status": "ok",
     "timestamp": 1721982599986,
     "user": {
      "displayName": "Ahmed Yousry",
      "userId": "15736517196575255940"
     },
     "user_tz": -180
    },
    "id": "ma1MoPDiU_2a",
    "outputId": "74b416bd-7556-4009-cc3f-3d1a9d68cc38"
   },
   "outputs": [
    {
     "name": "stdout",
     "output_type": "stream",
     "text": [
      "900\n"
     ]
    }
   ],
   "source": [
    "_, b1 , _=add_and_substract_and_multiply(1000,100)\n",
    "print(b1)"
   ]
  },
  {
   "cell_type": "markdown",
   "metadata": {
    "id": "zD5_KiPGU_2a"
   },
   "source": [
    "#### ### Default arguments\n",
    "A default argument is an argument that assumes a default value if a value is not provided in the function call for that argument."
   ]
  },
  {
   "cell_type": "code",
   "execution_count": null,
   "metadata": {
    "colab": {
     "base_uri": "https://localhost:8080/"
    },
    "executionInfo": {
     "elapsed": 285,
     "status": "ok",
     "timestamp": 1721982699866,
     "user": {
      "displayName": "Ahmed Yousry",
      "userId": "15736517196575255940"
     },
     "user_tz": -180
    },
    "id": "RrkEFA0hU_2a",
    "outputId": "74378da4-561c-43c3-8f48-3ea7ad7aa9c8"
   },
   "outputs": [
    {
     "name": "stdout",
     "output_type": "stream",
     "text": [
      "150.0\n",
      "2000.0\n"
     ]
    }
   ],
   "source": [
    "## Examples\n",
    "def compute_tax(money, tax_rate=.15):\n",
    "    return money * tax_rate\n",
    "\n",
    "print(compute_tax(1000))\n",
    "print(compute_tax(10000, .2))"
   ]
  },
  {
   "cell_type": "code",
   "execution_count": null,
   "metadata": {
    "id": "K--HEs_xU_2a"
   },
   "outputs": [],
   "source": [
    "def fun(salary=10000, expenses=5000, homeRent=1500):\n",
    "    total=salary-homeRent-expenses\n",
    "    print(total)"
   ]
  },
  {
   "cell_type": "code",
   "execution_count": null,
   "metadata": {
    "colab": {
     "base_uri": "https://localhost:8080/"
    },
    "executionInfo": {
     "elapsed": 291,
     "status": "ok",
     "timestamp": 1721982737458,
     "user": {
      "displayName": "Ahmed Yousry",
      "userId": "15736517196575255940"
     },
     "user_tz": -180
    },
    "id": "yV8gytOtU_2a",
    "outputId": "41dfc27e-bcc9-48f9-ced0-b8e178cf031c"
   },
   "outputs": [
    {
     "name": "stdout",
     "output_type": "stream",
     "text": [
      "3500\n"
     ]
    }
   ],
   "source": [
    "fun(10000)"
   ]
  },
  {
   "cell_type": "code",
   "execution_count": null,
   "metadata": {
    "id": "sBL0G3PpU_2a"
   },
   "outputs": [],
   "source": [
    "a10=20\n",
    "a11=30\n",
    "a12=40\n",
    "\n",
    "a10,a11,a12=20,30,40"
   ]
  },
  {
   "cell_type": "code",
   "execution_count": null,
   "metadata": {
    "id": "8ml2I70UU_2a"
   },
   "outputs": [],
   "source": [
    "a, b, c = 1, 2, 3\n",
    "\n",
    "## dummy variable can have any name, but it is conventional to use the underscore (_) for assigning unwanted values:\n",
    "\n",
    "a, b, _ = 1, 2, 3"
   ]
  },
  {
   "cell_type": "code",
   "execution_count": null,
   "metadata": {
    "colab": {
     "base_uri": "https://localhost:8080/"
    },
    "executionInfo": {
     "elapsed": 392,
     "status": "ok",
     "timestamp": 1717083862434,
     "user": {
      "displayName": "Ahmed Yousry",
      "userId": "15736517196575255940"
     },
     "user_tz": -180
    },
    "id": "p9Cm2KBiU_2a",
    "outputId": "a95d9872-0b96-4ca6-ac77-cedb3cda7738",
    "scrolled": true
   },
   "outputs": [
    {
     "name": "stdout",
     "output_type": "stream",
     "text": [
      "3\n"
     ]
    }
   ],
   "source": [
    "print(_)"
   ]
  },
  {
   "cell_type": "markdown",
   "metadata": {
    "id": "sWtvRbxEU_2b"
   },
   "source": [
    "### Operators <br>\n",
    "- <font size=\"4\">Arithmetic is very similar to Java and C#</font>\n",
    "\n",
    "<font size=\"4\">\n",
    "- Addition +<br>\n",
    "- Subtraction -<br>\n",
    "- Division /<br>\n",
    "- Exponentiation **<br>\n",
    "- Modulus (remainder after division) %<br></font>\n"
   ]
  },
  {
   "cell_type": "code",
   "execution_count": null,
   "metadata": {
    "colab": {
     "base_uri": "https://localhost:8080/"
    },
    "executionInfo": {
     "elapsed": 469,
     "status": "ok",
     "timestamp": 1717083908955,
     "user": {
      "displayName": "Ahmed Yousry",
      "userId": "15736517196575255940"
     },
     "user_tz": -180
    },
    "id": "6wsc6T3bU_2b",
    "outputId": "1ba7bb71-8392-4010-e17f-c944f0cc7d3a"
   },
   "outputs": [
    {
     "name": "stdout",
     "output_type": "stream",
     "text": [
      "16.0\n",
      "3.0\n",
      "48.0\n",
      "16\n"
     ]
    }
   ],
   "source": [
    "## examples\n",
    "n1=12.\n",
    "n2=4.\n",
    "print(n1+n2)\n",
    "print(n1/n2)\n",
    "print(n1*n2)\n",
    "print(2**4)"
   ]
  },
  {
   "cell_type": "code",
   "execution_count": null,
   "metadata": {
    "colab": {
     "base_uri": "https://localhost:8080/"
    },
    "executionInfo": {
     "elapsed": 320,
     "status": "ok",
     "timestamp": 1719937811111,
     "user": {
      "displayName": "Ahmed Yousry",
      "userId": "15736517196575255940"
     },
     "user_tz": -180
    },
    "id": "wHP5ergXU_2b",
    "outputId": "ba10df2d-c5c2-42ee-c4b3-56c2443eabca"
   },
   "outputs": [
    {
     "data": {
      "text/plain": [
       "True"
      ]
     },
     "execution_count": 14,
     "metadata": {},
     "output_type": "execute_result"
    }
   ],
   "source": [
    "100%5==0"
   ]
  },
  {
   "cell_type": "code",
   "execution_count": null,
   "metadata": {
    "colab": {
     "base_uri": "https://localhost:8080/"
    },
    "executionInfo": {
     "elapsed": 447,
     "status": "ok",
     "timestamp": 1719937825786,
     "user": {
      "displayName": "Ahmed Yousry",
      "userId": "15736517196575255940"
     },
     "user_tz": -180
    },
    "id": "K1pUdIHPiS4T",
    "outputId": "275debc0-4cdc-4755-cfe9-52a564589eae"
   },
   "outputs": [
    {
     "name": "stdout",
     "output_type": "stream",
     "text": [
      "2\n"
     ]
    }
   ],
   "source": [
    "print(9%7) #2"
   ]
  },
  {
   "cell_type": "code",
   "execution_count": null,
   "metadata": {
    "colab": {
     "base_uri": "https://localhost:8080/"
    },
    "executionInfo": {
     "elapsed": 339,
     "status": "ok",
     "timestamp": 1719937829774,
     "user": {
      "displayName": "Ahmed Yousry",
      "userId": "15736517196575255940"
     },
     "user_tz": -180
    },
    "id": "0jOJgioiLciD",
    "outputId": "a4bac3c8-17d9-451e-dc9a-e226adc39708"
   },
   "outputs": [
    {
     "name": "stdout",
     "output_type": "stream",
     "text": [
      "7\n"
     ]
    }
   ],
   "source": [
    "print(7%9) # 0/9=0"
   ]
  },
  {
   "cell_type": "code",
   "execution_count": null,
   "metadata": {
    "colab": {
     "base_uri": "https://localhost:8080/"
    },
    "executionInfo": {
     "elapsed": 442,
     "status": "ok",
     "timestamp": 1717084040408,
     "user": {
      "displayName": "Ahmed Yousry",
      "userId": "15736517196575255940"
     },
     "user_tz": -180
    },
    "id": "vfFRiLcuU_2b",
    "outputId": "9927ae24-b5a1-45c3-8b27-943257a9e5a0"
   },
   "outputs": [
    {
     "name": "stdout",
     "output_type": "stream",
     "text": [
      "9\n"
     ]
    }
   ],
   "source": [
    "print(3 ** 2)\n"
   ]
  },
  {
   "cell_type": "markdown",
   "metadata": {
    "id": "uoeJspT7U_2b"
   },
   "source": [
    "### Comparison operators <br>\n",
    "<font size=\"4\">\n",
    "- Equal: ==<br>\n",
    "- Not equal: != <br>\n",
    "- Greater than: > <br>\n",
    "- Less than: <<br>\n",
    "- Greater than or equal: >= <br>\n",
    "- Less than or equal: <=<br>\n",
    "    </font>"
   ]
  },
  {
   "cell_type": "code",
   "execution_count": null,
   "metadata": {
    "colab": {
     "base_uri": "https://localhost:8080/"
    },
    "executionInfo": {
     "elapsed": 308,
     "status": "ok",
     "timestamp": 1719858383688,
     "user": {
      "displayName": "Ahmed Yousry",
      "userId": "15736517196575255940"
     },
     "user_tz": -180
    },
    "id": "LuvKJtCuU_2b",
    "outputId": "182070a4-9b22-4171-9ba9-296389316a63"
   },
   "outputs": [
    {
     "name": "stdout",
     "output_type": "stream",
     "text": [
      "4\n"
     ]
    }
   ],
   "source": [
    "a=3\n",
    "a=a+1\n",
    "print(a)"
   ]
  },
  {
   "cell_type": "code",
   "execution_count": null,
   "metadata": {
    "colab": {
     "base_uri": "https://localhost:8080/"
    },
    "executionInfo": {
     "elapsed": 494,
     "status": "ok",
     "timestamp": 1717084065825,
     "user": {
      "displayName": "Ahmed Yousry",
      "userId": "15736517196575255940"
     },
     "user_tz": -180
    },
    "id": "jEKj_oNBU_2b",
    "outputId": "2b19d0e3-c46c-46c3-b906-69dc84f483b4"
   },
   "outputs": [
    {
     "name": "stdout",
     "output_type": "stream",
     "text": [
      "5\n"
     ]
    }
   ],
   "source": [
    "a +=1 # a=a+1\n",
    "print(a)"
   ]
  },
  {
   "cell_type": "code",
   "execution_count": null,
   "metadata": {
    "colab": {
     "base_uri": "https://localhost:8080/"
    },
    "executionInfo": {
     "elapsed": 265,
     "status": "ok",
     "timestamp": 1717084107514,
     "user": {
      "displayName": "Ahmed Yousry",
      "userId": "15736517196575255940"
     },
     "user_tz": -180
    },
    "id": "xil05a2GU_2b",
    "outputId": "87e8a69d-6737-4612-8c29-6483afdc8e5a"
   },
   "outputs": [
    {
     "name": "stdout",
     "output_type": "stream",
     "text": [
      "0\n",
      "5\n",
      "10\n",
      "15\n",
      "20\n",
      "25\n",
      "30\n",
      "35\n",
      "40\n",
      "45\n",
      "50\n",
      "55\n",
      "60\n",
      "65\n",
      "70\n",
      "75\n",
      "80\n",
      "85\n",
      "90\n",
      "95\n"
     ]
    }
   ],
   "source": [
    "c=100\n",
    "for i in range(c):\n",
    "    if i % 5==0:\n",
    "        print(i)"
   ]
  },
  {
   "cell_type": "markdown",
   "metadata": {
    "id": "w-_eZjzRU_2b"
   },
   "source": [
    "### Python comments\n",
    "\n",
    "- Comments can be used to explain Python code.\n",
    "\n",
    "- Comments can be used to make the code more readable.\n",
    "\n",
    "- Comments can be used to prevent execution when testing code.\n",
    "\n",
    "##### Comments starts with a #, and Python will ignore them:"
   ]
  },
  {
   "cell_type": "code",
   "execution_count": null,
   "metadata": {
    "id": "IliIScNsU_2c"
   },
   "outputs": [],
   "source": [
    "# short comment\n",
    "'''\n",
    "this seleciton is to explain the comments\n",
    "this is done by ...\n",
    "'''\n",
    "def add(a,b):\n",
    "    pass\n",
    "\n",
    "def ABC(a,b):\n",
    "    return a+b\n"
   ]
  },
  {
   "cell_type": "code",
   "execution_count": null,
   "metadata": {
    "id": "SWpg_xl0U_2c"
   },
   "outputs": [],
   "source": [
    "# single line\n",
    "# this is comment\n",
    "\"\"\"\n",
    "this comments are multiple\n",
    "lines\n",
    "\"\"\"\n",
    "\n",
    "\n",
    "\"\"\"\n",
    "This is a comment\n",
    "written in\n",
    "more than just one line\n",
    "\"\"\"\n",
    "print(\"Hello, World!\")"
   ]
  },
  {
   "cell_type": "markdown",
   "metadata": {
    "id": "4Ptz0uESU_2c"
   },
   "source": [
    "### Indentation (whitespace at the beginning of a line)\n",
    "- <font size=\"3.5\">Python uses indentation to indicate blocks, instead of {}</font>\n",
    "    - Makes the code simpler and more readable<br>\n",
    "    - In Java and C#, indenting is optional.  In Python, you must indent"
   ]
  },
  {
   "cell_type": "code",
   "execution_count": null,
   "metadata": {
    "id": "6EdK7Z0xU_2c"
   },
   "outputs": [],
   "source": [
    "a =10\n",
    "b=20\n",
    "\n",
    "def test():\n",
    "    print('test')\n",
    "    c=30\n",
    "\n",
    "d=10\n"
   ]
  },
  {
   "cell_type": "code",
   "execution_count": null,
   "metadata": {
    "id": "-B_dUxZ3U_2c"
   },
   "outputs": [],
   "source": []
  },
  {
   "cell_type": "markdown",
   "metadata": {
    "id": "1F18xO47U_2c"
   },
   "source": [
    "### Conditional statements\n",
    "\n",
    "In order to write useful programs, we almost always need the ability to check conditions and change the behavior of the program accordingly. Conditional statements give us this ability. The simplest form is the if statement, which has the genaral form:\n",
    "    "
   ]
  },
  {
   "cell_type": "code",
   "execution_count": null,
   "metadata": {
    "colab": {
     "base_uri": "https://localhost:8080/"
    },
    "executionInfo": {
     "elapsed": 346,
     "status": "ok",
     "timestamp": 1719938671840,
     "user": {
      "displayName": "Ahmed Yousry",
      "userId": "15736517196575255940"
     },
     "user_tz": -180
    },
    "id": "5GYjZCCSU_2c",
    "outputId": "14b3418b-0395-4224-d0e1-6c3afdb4a203"
   },
   "outputs": [
    {
     "name": "stdout",
     "output_type": "stream",
     "text": [
      "fail\n",
      "Fail\n"
     ]
    }
   ],
   "source": [
    "#Examples\n",
    "grade=55\n",
    "\n",
    "if grade>=70:\n",
    "    print(\"pass\")\n",
    "else:\n",
    "    print('fail')\n",
    "\n",
    "if 90<=grade<=100:\n",
    "    print('A')\n",
    "elif grade<90 and grade>=80:\n",
    "    print(\"B\")\n",
    "elif  70<=grade<80:\n",
    "    print(\"C\")\n",
    "elif 0<=grade<70:\n",
    "    print(\"Fail\")\n",
    "else:\n",
    "    print(\"Invalid grade\")"
   ]
  },
  {
   "cell_type": "markdown",
   "metadata": {
    "id": "UIKr1xBxU_2c"
   },
   "source": [
    "#### Note:\n",
    "__In conditional statements it is possible to test the datatype with isinstance. However, it is usually not encouraged to rely on the type of the variable.__"
   ]
  },
  {
   "cell_type": "code",
   "execution_count": null,
   "metadata": {
    "colab": {
     "base_uri": "https://localhost:8080/"
    },
    "executionInfo": {
     "elapsed": 286,
     "status": "ok",
     "timestamp": 1721982950841,
     "user": {
      "displayName": "Ahmed Yousry",
      "userId": "15736517196575255940"
     },
     "user_tz": -180
    },
    "id": "rNH-NAzIU_2c",
    "outputId": "5b048f9c-a4ed-4d97-ccab-11499554b898"
   },
   "outputs": [
    {
     "name": "stdout",
     "output_type": "stream",
     "text": [
      "Incorrect input\n"
     ]
    }
   ],
   "source": [
    "grade=80.5\n",
    "if isinstance(grade, int):\n",
    "    if 90<=grade<=100:\n",
    "        print('A')\n",
    "    elif grade<90 and grade>=80:\n",
    "        print(\"B\")\n",
    "    elif  70<=grade<80:\n",
    "        print(\"C\")\n",
    "    elif 0<=grade<70:\n",
    "        print(\"Fail\")\n",
    "    else:\n",
    "        print(\"Invalid grade\")\n",
    "else:\n",
    "        print(\"Incorrect input\")"
   ]
  },
  {
   "cell_type": "code",
   "execution_count": null,
   "metadata": {
    "colab": {
     "base_uri": "https://localhost:8080/"
    },
    "executionInfo": {
     "elapsed": 876,
     "status": "ok",
     "timestamp": 1719940761468,
     "user": {
      "displayName": "Ahmed Yousry",
      "userId": "15736517196575255940"
     },
     "user_tz": -180
    },
    "id": "VNyWsmCSU_2c",
    "outputId": "2203a573-b8d5-475d-e5f5-d027a6fdb550"
   },
   "outputs": [
    {
     "name": "stdout",
     "output_type": "stream",
     "text": [
      "B\n"
     ]
    }
   ],
   "source": [
    "a=False\n",
    "\n",
    "if a:\n",
    "    print('A')\n",
    "else:\n",
    "    print('B')"
   ]
  },
  {
   "cell_type": "markdown",
   "metadata": {
    "id": "N4sD6DmVU_2d"
   },
   "source": [
    "### and - or operators"
   ]
  },
  {
   "cell_type": "code",
   "execution_count": null,
   "metadata": {
    "colab": {
     "base_uri": "https://localhost:8080/"
    },
    "executionInfo": {
     "elapsed": 264,
     "status": "ok",
     "timestamp": 1717084540334,
     "user": {
      "displayName": "Ahmed Yousry",
      "userId": "15736517196575255940"
     },
     "user_tz": -180
    },
    "id": "4NE4XTsbU_2d",
    "outputId": "4bc4dac4-46fc-4902-f0fc-a514a5cf230a"
   },
   "outputs": [
    {
     "name": "stdout",
     "output_type": "stream",
     "text": [
      "Sorry you cannot take loan\n"
     ]
    }
   ],
   "source": [
    "salary=10000\n",
    "\n",
    "expericence=1\n",
    "\n",
    "if salary>=8000 and expericence>5:\n",
    "    print(\"Congs you derserve loan\")\n",
    "else:\n",
    "    print('Sorry you cannot take loan')\n"
   ]
  },
  {
   "cell_type": "code",
   "execution_count": null,
   "metadata": {
    "id": "2z0wd8CRU_2d"
   },
   "outputs": [],
   "source": [
    "a=20\n",
    "if 5<a<10:\n",
    "  print(\"A\")"
   ]
  },
  {
   "cell_type": "code",
   "execution_count": null,
   "metadata": {
    "colab": {
     "base_uri": "https://localhost:8080/"
    },
    "executionInfo": {
     "elapsed": 9,
     "status": "ok",
     "timestamp": 1717084621072,
     "user": {
      "displayName": "Ahmed Yousry",
      "userId": "15736517196575255940"
     },
     "user_tz": -180
    },
    "id": "TPTNTVi2U_2d",
    "outputId": "6e497899-2a93-4d35-ee88-8376773281d4"
   },
   "outputs": [
    {
     "name": "stdout",
     "output_type": "stream",
     "text": [
      "Congs you derserve loan\n"
     ]
    }
   ],
   "source": [
    "if salary>=8000 or expericence>5:\n",
    "    print(\"Congs you derserve loan\")\n",
    "else:\n",
    "    print('Sorry you cannot take loan')"
   ]
  },
  {
   "cell_type": "markdown",
   "metadata": {
    "id": "w_MLZRGPU_2d"
   },
   "source": [
    "#### The pass Statement\n",
    "if statements cannot be empty, but if you for some reason have an if statement with no content, put in the pass statement to avoid getting an error."
   ]
  },
  {
   "cell_type": "code",
   "execution_count": null,
   "metadata": {
    "id": "5Dlldp_QU_2d"
   },
   "outputs": [],
   "source": [
    "def fun1():\n",
    "  pass\n",
    "\n",
    "fun1()\n",
    "\n"
   ]
  },
  {
   "cell_type": "markdown",
   "metadata": {
    "id": "6eyaPr06U_2d"
   },
   "source": [
    "### Lists\n",
    "\n",
    "- #### The list type is probably the most commonly used collection type in Python. Despite its name, a list is more like an array in other languages, mostly JavaScript. In Python, a list is merely an ordered collection of valid Python values. A list can be created by enclosing values, separated by commas, in square brackets:\n",
    "\n",
    "- #####  The elements of a list are not restricted to a single data type, which makes sense given that Python is a dynamic language:\n"
   ]
  },
  {
   "cell_type": "code",
   "execution_count": null,
   "metadata": {
    "colab": {
     "base_uri": "https://localhost:8080/"
    },
    "executionInfo": {
     "elapsed": 323,
     "status": "ok",
     "timestamp": 1720280815196,
     "user": {
      "displayName": "Ahmed Yousry",
      "userId": "15736517196575255940"
     },
     "user_tz": -180
    },
    "id": "K8tRYxv3U_2d",
    "outputId": "a7f14a5f-eebe-497d-dc12-3094d2f7c576"
   },
   "outputs": [
    {
     "name": "stdout",
     "output_type": "stream",
     "text": [
      "[1, 5, 20, 4, 1]\n",
      "[1, 5, 20, 4, 1, 100]\n",
      "[1, 2.4, False, 'Saudi Arabia']\n",
      "[1, 5, 20, 4, 1, 100, 150]\n"
     ]
    }
   ],
   "source": [
    "# define empty list\n",
    "# method 1\n",
    "lst1=[]\n",
    "#method2\n",
    "lst2=list()\n",
    "\n",
    "# create list with values 1, 5, 20, 4,and 1\n",
    "lst3=[1,5,20,4,1]\n",
    "print(lst3)\n",
    "\n",
    "# add 100 to lst3\n",
    "lst3.append(100)\n",
    "print(lst3)\n",
    "\n",
    "\n",
    "# list with mixed data types\n",
    "lst4=[1, 2.4, False, 'Saudi Arabia']\n",
    "print(lst4)\n",
    "\n",
    "lst3.append(150)\n",
    "print(lst3)"
   ]
  },
  {
   "cell_type": "code",
   "execution_count": null,
   "metadata": {
    "colab": {
     "base_uri": "https://localhost:8080/"
    },
    "executionInfo": {
     "elapsed": 284,
     "status": "ok",
     "timestamp": 1717084793702,
     "user": {
      "displayName": "Ahmed Yousry",
      "userId": "15736517196575255940"
     },
     "user_tz": -180
    },
    "id": "DQ9Q_fcqU_2d",
    "outputId": "4f27c507-5715-4ccc-db80-63a182336c8b"
   },
   "outputs": [
    {
     "name": "stdout",
     "output_type": "stream",
     "text": [
      "7\n",
      "3\n",
      "5\n",
      "20\n",
      "20\n",
      "13\n",
      "3 20\n"
     ]
    }
   ],
   "source": [
    "lst=[3,5,7,9,11,13,20 ]\n",
    "\n",
    "#get length of list\n",
    "lst_len=len(lst)\n",
    "print(lst_len)\n",
    "\n",
    "\n",
    "# print to first element\n",
    "print(lst[0])\n",
    "print(lst[1])\n",
    "# print last element\n",
    "print(lst[len(lst)-1])   # size 5\n",
    "\n",
    "# method 2:\n",
    "print(lst[-1])\n",
    "\n",
    "## print next to last\n",
    "print(lst[-2])\n",
    "\n",
    "print(lst[0], lst[-1])"
   ]
  },
  {
   "cell_type": "code",
   "execution_count": null,
   "metadata": {
    "colab": {
     "base_uri": "https://localhost:8080/"
    },
    "executionInfo": {
     "elapsed": 8,
     "status": "ok",
     "timestamp": 1717084976233,
     "user": {
      "displayName": "Ahmed Yousry",
      "userId": "15736517196575255940"
     },
     "user_tz": -180
    },
    "id": "YiF3ogIVU_2d",
    "outputId": "d6c4fdf0-ddcd-46f0-d831-07f9e483c09d"
   },
   "outputs": [
    {
     "name": "stdout",
     "output_type": "stream",
     "text": [
      "[3, 5, 7, 9]\n",
      "[3, 9]\n"
     ]
    }
   ],
   "source": [
    "lst=[3,5,7,9,11,13,20 ]\n",
    "\n",
    "# print first 4 elements\n",
    "print(lst[:4])\n",
    "\n",
    "##print(lst[start:stop:step])\n",
    "print(lst[:4:3])"
   ]
  },
  {
   "cell_type": "code",
   "execution_count": null,
   "metadata": {
    "colab": {
     "base_uri": "https://localhost:8080/"
    },
    "executionInfo": {
     "elapsed": 321,
     "status": "ok",
     "timestamp": 1722154350713,
     "user": {
      "displayName": "Ahmed Yousry",
      "userId": "15736517196575255940"
     },
     "user_tz": -180
    },
    "id": "k2Lfv3ChZdZh",
    "outputId": "3f72d6b1-b70d-433b-e430-cf96f5193ec6"
   },
   "outputs": [
    {
     "name": "stdout",
     "output_type": "stream",
     "text": [
      "[20, 13, 11, 9, 7, 5, 3]\n"
     ]
    }
   ],
   "source": [
    "lst=[3,5,7,9,11,13,20 ]\n",
    "print(lst[::-1]) ## for (i=n;i>=0, i--)"
   ]
  },
  {
   "cell_type": "code",
   "execution_count": null,
   "metadata": {
    "colab": {
     "base_uri": "https://localhost:8080/"
    },
    "executionInfo": {
     "elapsed": 639,
     "status": "ok",
     "timestamp": 1717085012978,
     "user": {
      "displayName": "Ahmed Yousry",
      "userId": "15736517196575255940"
     },
     "user_tz": -180
    },
    "id": "6TpnEg6WPHEd",
    "outputId": "1c64cfec-226a-4489-c0e9-2cf1199fcf0a"
   },
   "outputs": [
    {
     "name": "stdout",
     "output_type": "stream",
     "text": [
      "[7, 9, 11, 13, 20]\n",
      "[3, 7, 11, 20]\n",
      "[3, 5, 7, 9]\n",
      "[3, 5, 7, 9, 11]\n",
      "[20, 13, 11, 9, 7, 5, 3]\n"
     ]
    }
   ],
   "source": [
    "print(lst[2::1])\n",
    "\n",
    "print(lst[::2])\n",
    "## 3, 7, 11, 20\n",
    "print(lst[:4])\n",
    "\n",
    "print(lst[0:-2:])  #  0 to -3\n",
    "print(lst[::-1]) ## for (i=n;i>=0, i--)"
   ]
  },
  {
   "cell_type": "code",
   "execution_count": null,
   "metadata": {
    "colab": {
     "base_uri": "https://localhost:8080/"
    },
    "executionInfo": {
     "elapsed": 279,
     "status": "ok",
     "timestamp": 1717085202594,
     "user": {
      "displayName": "Ahmed Yousry",
      "userId": "15736517196575255940"
     },
     "user_tz": -180
    },
    "id": "12bDnarvU_2e",
    "outputId": "e09de632-a396-4ddc-c1f9-b2dab4aa752e"
   },
   "outputs": [
    {
     "name": "stdout",
     "output_type": "stream",
     "text": [
      "[-20, 0, 3, 10]\n",
      "[5, 4, 3, 2, 1]\n",
      "[1, 2, 3, 4, 5]\n",
      "Peter\n",
      "Lewis\n",
      "Imogen\n",
      "Hannah\n"
     ]
    }
   ],
   "source": [
    "## sort list\n",
    "lst5=[3,10,0,-20]\n",
    "lst5.sort()\n",
    "print(lst5)\n",
    "\n",
    "# Example list\n",
    "my_list = [1, 2, 3, 4, 5]\n",
    "\n",
    "# Reversing the list in place\n",
    "my_list.reverse()\n",
    "\n",
    "# Printing the reversed list\n",
    "print(my_list)\n",
    "\n",
    "# 2: Reverse Using Slicing\n",
    "reversed_lst=my_list[::-1]\n",
    "print(reversed_lst)\n",
    "\n",
    "\n",
    "# 3: reverse using reversed\n",
    "\n",
    "studentNames = [\"Hannah\", \"Imogen\", \"Lewis\", \"Peter\"]\n",
    "for i in reversed(studentNames):\n",
    "\tprint(i)"
   ]
  },
  {
   "cell_type": "code",
   "execution_count": null,
   "metadata": {
    "colab": {
     "base_uri": "https://localhost:8080/"
    },
    "executionInfo": {
     "elapsed": 407,
     "status": "ok",
     "timestamp": 1720264976578,
     "user": {
      "displayName": "Ahmed Yousry",
      "userId": "15736517196575255940"
     },
     "user_tz": -180
    },
    "id": "Ffg20nfwU_2e",
    "outputId": "e55b21b6-fb07-4efb-c623-02d67774e288",
    "scrolled": true
   },
   "outputs": [
    {
     "name": "stdout",
     "output_type": "stream",
     "text": [
      "[5, 3, 'Maha', 30, 90, 20]\n",
      "[1, 7, 5, 2]\n"
     ]
    }
   ],
   "source": [
    "list_temp=[5,3,30,90,20]\n",
    "# Add a new element to list at a specific index. L.insert(index, object)\n",
    "list_temp.insert(2,'Maha')\n",
    "print(list_temp)\n",
    "\n",
    "\n",
    "# Remove the first occurrence of a value with L.remove(value)\n",
    "lst6=[1,2,7,5,2]\n",
    "lst6.remove(2)\n",
    "print(lst6)"
   ]
  },
  {
   "cell_type": "code",
   "execution_count": null,
   "metadata": {
    "colab": {
     "base_uri": "https://localhost:8080/"
    },
    "executionInfo": {
     "elapsed": 301,
     "status": "ok",
     "timestamp": 1722154611598,
     "user": {
      "displayName": "Ahmed Yousry",
      "userId": "15736517196575255940"
     },
     "user_tz": -180
    },
    "id": "lfEdaBZNRzKP",
    "outputId": "bbb7ffe4-2e14-49a8-ed3d-27607f730d06"
   },
   "outputs": [
    {
     "name": "stdout",
     "output_type": "stream",
     "text": [
      "5\n"
     ]
    },
    {
     "data": {
      "text/plain": [
       "2"
      ]
     },
     "execution_count": 2,
     "metadata": {},
     "output_type": "execute_result"
    }
   ],
   "source": [
    "# Get the index in the list of the first item whose value is x. It will show an error if there is no such item.\n",
    "##ind=list_temp.index(30)\n",
    "lst7=[1,2,3,4,4,90,1,4]\n",
    "print(lst7.index(90))\n",
    "lst7.index(3)"
   ]
  },
  {
   "cell_type": "code",
   "execution_count": null,
   "metadata": {
    "colab": {
     "base_uri": "https://localhost:8080/"
    },
    "executionInfo": {
     "elapsed": 346,
     "status": "ok",
     "timestamp": 1722154667344,
     "user": {
      "displayName": "Ahmed Yousry",
      "userId": "15736517196575255940"
     },
     "user_tz": -180
    },
    "id": "-oxY1yTXR1L1",
    "outputId": "c5224bd2-73ce-4f83-c4d0-17b5bd4f4cda"
   },
   "outputs": [
    {
     "name": "stdout",
     "output_type": "stream",
     "text": [
      "3\n",
      "[1, 3, 4, 5]\n"
     ]
    }
   ],
   "source": [
    "##count occurrence of any item in list\n",
    "print(lst7.count(4))\n",
    "\n",
    "# Example list\n",
    "my_list = [1, 2, 3, 2, 4, 2, 5]\n",
    "\n",
    "# Removing all occurrences of 2\n",
    "my_list = [x for x in my_list if x != 2]\n",
    "\n",
    "# Printing the updated list\n",
    "print(my_list)"
   ]
  },
  {
   "cell_type": "markdown",
   "metadata": {
    "id": "09Dabdt-U_2e"
   },
   "source": [
    "### exercise:\n",
    "-_Write a code that counts the occurrance of each element in list b__"
   ]
  },
  {
   "cell_type": "code",
   "execution_count": null,
   "metadata": {
    "id": "cFNwRUw9U_2e"
   },
   "outputs": [],
   "source": [
    "lst = [1, 2, 45, 55, 5, 4, 4, 4, 4, 4, 4, 5456, 56, 6, 7, 67]"
   ]
  },
  {
   "cell_type": "markdown",
   "metadata": {
    "id": "0f0hNssHU_2e"
   },
   "source": [
    "### list of list -- Nested list"
   ]
  },
  {
   "cell_type": "code",
   "execution_count": null,
   "metadata": {
    "colab": {
     "base_uri": "https://localhost:8080/"
    },
    "executionInfo": {
     "elapsed": 438,
     "status": "ok",
     "timestamp": 1722155963934,
     "user": {
      "displayName": "Ahmed Yousry",
      "userId": "15736517196575255940"
     },
     "user_tz": -180
    },
    "id": "bhPAyBv1U_2e",
    "outputId": "06f47320-350d-4d6f-c527-649f5068d7ca"
   },
   "outputs": [
    {
     "name": "stdout",
     "output_type": "stream",
     "text": [
      "[[1, 2], [10, 20, 22], [100, 200]]\n"
     ]
    }
   ],
   "source": [
    "lst=[[1,2],\n",
    "     [10,20,22],\n",
    "     [100,200]]\n",
    "\n",
    "print(lst)"
   ]
  },
  {
   "cell_type": "code",
   "execution_count": null,
   "metadata": {
    "colab": {
     "base_uri": "https://localhost:8080/"
    },
    "executionInfo": {
     "elapsed": 8,
     "status": "ok",
     "timestamp": 1722155966699,
     "user": {
      "displayName": "Ahmed Yousry",
      "userId": "15736517196575255940"
     },
     "user_tz": -180
    },
    "id": "zhxkjOLHS6Z6",
    "outputId": "efc2aef4-9953-47ab-faa7-657ff6d214b2"
   },
   "outputs": [
    {
     "name": "stdout",
     "output_type": "stream",
     "text": [
      "[10, 20, 22]\n",
      "2\n",
      "100\n",
      "100\n",
      "200\n"
     ]
    }
   ],
   "source": [
    "print(lst[1])\n",
    "## print 2\n",
    "print(lst[0][1])\n",
    "\n",
    "## print 100\n",
    "print(lst[2][0])\n",
    "print(lst[-1][0])"
   ]
  },
  {
   "cell_type": "code",
   "execution_count": null,
   "metadata": {
    "colab": {
     "base_uri": "https://localhost:8080/"
    },
    "executionInfo": {
     "elapsed": 477,
     "status": "ok",
     "timestamp": 1722156022152,
     "user": {
      "displayName": "Ahmed Yousry",
      "userId": "15736517196575255940"
     },
     "user_tz": -180
    },
    "id": "NKoygZEUfsVg",
    "outputId": "ceb07931-b74c-48b9-841c-c09228731610"
   },
   "outputs": [
    {
     "name": "stdout",
     "output_type": "stream",
     "text": [
      "A\n"
     ]
    }
   ],
   "source": [
    "lst1=[13,[1000,2000,30000], 'A']\n",
    "## print 200\n",
    "print(lst1[-1][0])"
   ]
  },
  {
   "cell_type": "code",
   "execution_count": null,
   "metadata": {
    "colab": {
     "base_uri": "https://localhost:8080/"
    },
    "executionInfo": {
     "elapsed": 6,
     "status": "ok",
     "timestamp": 1720265745945,
     "user": {
      "displayName": "Ahmed Yousry",
      "userId": "15736517196575255940"
     },
     "user_tz": -180
    },
    "id": "HsQMnC_Y0-vu",
    "outputId": "20da480f-bcf9-49c1-d782-280073b06531"
   },
   "outputs": [
    {
     "name": "stdout",
     "output_type": "stream",
     "text": [
      "[13, [1000, 2000, 30000], 'A']\n"
     ]
    }
   ],
   "source": [
    "print(lst1)"
   ]
  },
  {
   "cell_type": "code",
   "execution_count": null,
   "metadata": {
    "id": "AcE2_Cd307pq"
   },
   "outputs": [],
   "source": []
  },
  {
   "cell_type": "markdown",
   "metadata": {
    "id": "7mcS4odBU_2e"
   },
   "source": [
    "### Loops\n",
    "\n",
    "- Loops are used to execute a set of statements repeatedly until a particular condition is satisfied.\n",
    "- Loops (repeated steps) have iteration variables that change each time through a loop.  \n",
    "- Often these iteration variables go through a sequence of numbers.\n",
    "<br><br>\n",
    "- There are __two__ types of loops in Python, __for__ and __while__.\n",
    "<br><br>\n",
    "- __break__ is used to exit a for loop or a while loop,\n",
    "- __continue__ is used to skip the current block, and return to the \"for\" or \"while\" statement.\n"
   ]
  },
  {
   "cell_type": "code",
   "execution_count": null,
   "metadata": {
    "colab": {
     "base_uri": "https://localhost:8080/"
    },
    "executionInfo": {
     "elapsed": 297,
     "status": "ok",
     "timestamp": 1717086211184,
     "user": {
      "displayName": "Ahmed Yousry",
      "userId": "15736517196575255940"
     },
     "user_tz": -180
    },
    "id": "9CoUuvj9U_2e",
    "outputId": "d4e4e5b3-563f-4f02-a3a7-cc95113e7855"
   },
   "outputs": [
    {
     "name": "stdout",
     "output_type": "stream",
     "text": [
      "0 1 2 3 4 5 6 7 8 9 --------\n",
      "\n",
      "0 1 2 3 4 5 6 7 8 9 10 11 12 13 14 15 16 17 18 19 \n",
      "\n",
      "0 1 2 3 4 \n",
      "\n",
      "3 4 5 \n",
      "\n",
      "3 5 7 "
     ]
    }
   ],
   "source": [
    "# Prints out the numbers 0,1,2,3,4 using loop\n",
    "lst=['A', 2, 10, True]\n",
    "\n",
    "for i in range(10):\n",
    "    print(i, end=\" \")\n",
    "print('--------\\n')\n",
    "\n",
    "for i in range(20):\n",
    "    print(i, end=\" \")\n",
    "# print the numbers from 0 to 8\n",
    "# default value start=0\n",
    "# default value step=1\n",
    "\n",
    "print(\"\\n\")\n",
    "\n",
    "for x in range(5):\n",
    "    print(x, end=\" \")\n",
    "\n",
    "print(\"\\n\")\n",
    "\n",
    "# Prints out 3,4,5\n",
    "for x in range(3, 6):\n",
    "    print(x, end=\" \")\n",
    "\n",
    "print(\"\\n\")\n",
    "\n",
    "# Prints out 3,5,7\n",
    "for x in range(3, 8, 2):\n",
    "    print(x, end=\" \")\n"
   ]
  },
  {
   "cell_type": "code",
   "execution_count": null,
   "metadata": {
    "colab": {
     "base_uri": "https://localhost:8080/"
    },
    "executionInfo": {
     "elapsed": 333,
     "status": "ok",
     "timestamp": 1722156382428,
     "user": {
      "displayName": "Ahmed Yousry",
      "userId": "15736517196575255940"
     },
     "user_tz": -180
    },
    "id": "_CSq6DKUU_2e",
    "outputId": "e7875525-80f2-45bf-d8f4-eed59623bf45"
   },
   "outputs": [
    {
     "name": "stdout",
     "output_type": "stream",
     "text": [
      "2\n",
      "3\n",
      "5\n",
      "7\n",
      "5\n",
      "10\n",
      "-----\n",
      "2\n",
      "3\n",
      "5\n",
      "7\n",
      "5\n",
      "10\n",
      "item  0 2\n",
      "item  1 3\n",
      "item  2 5\n",
      "item  3 7\n",
      "item  4 5\n",
      "item  5 10\n",
      "-------------------------------\n",
      "item  100 2\n",
      "item  101 3\n",
      "item  102 5\n",
      "item  103 7\n",
      "item  104 5\n",
      "item  105 10\n"
     ]
    }
   ],
   "source": [
    "primes = [2, 3, 5, 7,5,10]\n",
    "# method 1\n",
    "for i in range(len(primes)):\n",
    "    print(primes[i])\n",
    "\n",
    "print('-----')\n",
    "## foreach\n",
    "for p in primes:\n",
    "    print(p)\n",
    "\n",
    "###\n",
    "ind=0\n",
    "for p in primes:\n",
    "    print('item ',ind,p)\n",
    "    ind=ind+1\n",
    "###\n",
    "print('-------------------------------')\n",
    "for ind, p in enumerate(primes, start=100):\n",
    "    print('item ',ind,p)\n"
   ]
  },
  {
   "cell_type": "code",
   "execution_count": null,
   "metadata": {
    "colab": {
     "base_uri": "https://localhost:8080/"
    },
    "executionInfo": {
     "elapsed": 298,
     "status": "ok",
     "timestamp": 1722156462664,
     "user": {
      "displayName": "Ahmed Yousry",
      "userId": "15736517196575255940"
     },
     "user_tz": -180
    },
    "id": "zBHEP4T6U_2e",
    "outputId": "73dd951e-6668-4b95-c113-6b288c4b110c"
   },
   "outputs": [
    {
     "name": "stdout",
     "output_type": "stream",
     "text": [
      "Ahmad\n",
      "Mohammad\n",
      "Sami\n",
      "Mona\n",
      "Norah\n",
      "Fahad\n",
      "Majed\n",
      "Ahmad\n",
      "Mohammad\n",
      "Sami\n",
      "Mona\n",
      "Norah\n",
      "Fahad\n",
      "Majed\n"
     ]
    }
   ],
   "source": [
    "names = [\"Ahmad\", \"Mohammad\", \"Sami\", \"Mona\", \"Norah\", \"Fahad\", \"Majed\"]\n",
    "for i in range(0, len(names), 1):\n",
    "    print(names[i])\n",
    "\n",
    "for name in names:\n",
    "    print(name)"
   ]
  },
  {
   "cell_type": "markdown",
   "metadata": {
    "id": "GPDxQFEkU_2f"
   },
   "source": [
    "### Write a code to print the occurance of each item in the blist"
   ]
  },
  {
   "cell_type": "code",
   "execution_count": null,
   "metadata": {
    "colab": {
     "base_uri": "https://localhost:8080/"
    },
    "executionInfo": {
     "elapsed": 346,
     "status": "ok",
     "timestamp": 1717086490120,
     "user": {
      "displayName": "Ahmed Yousry",
      "userId": "15736517196575255940"
     },
     "user_tz": -180
    },
    "id": "3l4PyOINU_2f",
    "outputId": "f93eecd8-e171-4ec7-824a-a35fa2706ebb"
   },
   "outputs": [
    {
     "name": "stdout",
     "output_type": "stream",
     "text": [
      " occurance of item: 1 is : 3\n",
      " occurance of item: 1 is : 3\n",
      " occurance of item: 1 is : 3\n",
      " occurance of item: 2 is : 1\n",
      " occurance of item: 3 is : 2\n",
      " occurance of item: 4 is : 1\n",
      " occurance of item: 3 is : 2\n"
     ]
    }
   ],
   "source": [
    "blist = [1, 1, 1, 2, 3, 4,3]\n",
    "for n in blist:\n",
    "    print(' occurance of item:',n,'is :', blist.count(n))"
   ]
  },
  {
   "cell_type": "code",
   "execution_count": null,
   "metadata": {
    "id": "BFOFd6MGU_2f"
   },
   "outputs": [],
   "source": []
  },
  {
   "cell_type": "markdown",
   "metadata": {
    "id": "IipfAmfjU_2f"
   },
   "source": [
    "## in - not in keywords"
   ]
  },
  {
   "cell_type": "code",
   "execution_count": null,
   "metadata": {
    "colab": {
     "base_uri": "https://localhost:8080/"
    },
    "executionInfo": {
     "elapsed": 331,
     "status": "ok",
     "timestamp": 1722156507784,
     "user": {
      "displayName": "Ahmed Yousry",
      "userId": "15736517196575255940"
     },
     "user_tz": -180
    },
    "id": "dfBuo4T5U_2f",
    "outputId": "7e82ec59-823b-4c24-f435-b6244d8d70cd"
   },
   "outputs": [
    {
     "name": "stdout",
     "output_type": "stream",
     "text": [
      "False\n"
     ]
    }
   ],
   "source": [
    "clist=[1,4, 5, 10]\n",
    "## check if the element 1 and 0 is exist in clist\n",
    "res=1000 in clist\n",
    "print(res)"
   ]
  },
  {
   "cell_type": "code",
   "execution_count": null,
   "metadata": {
    "colab": {
     "base_uri": "https://localhost:8080/"
    },
    "executionInfo": {
     "elapsed": 302,
     "status": "ok",
     "timestamp": 1722156529356,
     "user": {
      "displayName": "Ahmed Yousry",
      "userId": "15736517196575255940"
     },
     "user_tz": -180
    },
    "id": "ofDgmkHQU_2f",
    "outputId": "a04f0e38-8cee-4923-e47e-767711066c8f"
   },
   "outputs": [
    {
     "name": "stdout",
     "output_type": "stream",
     "text": [
      "False\n"
     ]
    }
   ],
   "source": [
    "res1= 5 not in clist\n",
    "print(res1)"
   ]
  },
  {
   "cell_type": "markdown",
   "metadata": {
    "id": "Y-bfxYAyU_2f"
   },
   "source": [
    "### What is the drawback of the code above?"
   ]
  },
  {
   "cell_type": "code",
   "execution_count": null,
   "metadata": {
    "colab": {
     "base_uri": "https://localhost:8080/"
    },
    "executionInfo": {
     "elapsed": 323,
     "status": "ok",
     "timestamp": 1717086804694,
     "user": {
      "displayName": "Ahmed Yousry",
      "userId": "15736517196575255940"
     },
     "user_tz": -180
    },
    "id": "ekTlXSttU_2f",
    "outputId": "89f4de2e-ec11-46fb-b954-e23203909e44"
   },
   "outputs": [
    {
     "name": "stdout",
     "output_type": "stream",
     "text": [
      "occurance of element: 1 4\n",
      "occurance of element: 3 1\n",
      "occurance of element: 4 2\n",
      "occurance of element: 5 2\n",
      "occurance of element: 10 1\n"
     ]
    }
   ],
   "source": [
    "def print_occruance(lst):\n",
    "    lst1=[]\n",
    "    for e in lst:\n",
    "        isExist= e in lst1\n",
    "        if isExist==False:\n",
    "            print('occurance of element:',e,lst.count(e))\n",
    "            lst1.append(e)\n",
    "\n",
    "print_occruance([1,1,3,4,4,5,5,1,10,1])"
   ]
  },
  {
   "cell_type": "markdown",
   "metadata": {
    "id": "loCgauiLU_2f"
   },
   "source": [
    "### zip funciton\n",
    "\n",
    "- Join two list or tuples together:\n"
   ]
  },
  {
   "cell_type": "code",
   "execution_count": null,
   "metadata": {
    "colab": {
     "base_uri": "https://localhost:8080/"
    },
    "executionInfo": {
     "elapsed": 12,
     "status": "ok",
     "timestamp": 1722157160989,
     "user": {
      "displayName": "Ahmed Yousry",
      "userId": "15736517196575255940"
     },
     "user_tz": -180
    },
    "id": "_67p8DILU_2f",
    "outputId": "be2daf57-3aff-48f4-f934-88c7363042ad"
   },
   "outputs": [
    {
     "name": "stdout",
     "output_type": "stream",
     "text": [
      "[(1, 'a'), (2, 'b'), (3, 'c')]\n"
     ]
    }
   ],
   "source": [
    "# Example lists\n",
    "list1 = [1, 2, 3]\n",
    "list2 = ['a', 'b', 'c']\n",
    "\n",
    "# Zipping the lists\n",
    "\n",
    "print(list(zip(list1, list2)))"
   ]
  },
  {
   "cell_type": "code",
   "execution_count": null,
   "metadata": {
    "colab": {
     "base_uri": "https://localhost:8080/"
    },
    "executionInfo": {
     "elapsed": 443,
     "status": "ok",
     "timestamp": 1722157174843,
     "user": {
      "displayName": "Ahmed Yousry",
      "userId": "15736517196575255940"
     },
     "user_tz": -180
    },
    "id": "ylxKw2IuXNSJ",
    "outputId": "60ff84e6-718b-49c9-9d8d-e21d279e9688"
   },
   "outputs": [
    {
     "name": "stdout",
     "output_type": "stream",
     "text": [
      "[(1, 'a'), (2, 'b'), (3, 'c')]\n"
     ]
    }
   ],
   "source": [
    "\n",
    "zipped_list = list(zip(list1, list2))\n",
    "\n",
    "# Printing the zipped list\n",
    "print(zipped_list)"
   ]
  },
  {
   "cell_type": "code",
   "execution_count": null,
   "metadata": {
    "colab": {
     "base_uri": "https://localhost:8080/"
    },
    "executionInfo": {
     "elapsed": 322,
     "status": "ok",
     "timestamp": 1722157277192,
     "user": {
      "displayName": "Ahmed Yousry",
      "userId": "15736517196575255940"
     },
     "user_tz": -180
    },
    "id": "8n6wL9kAU_2f",
    "outputId": "bec190cd-f84f-44cd-d4a1-a4db5f68acde"
   },
   "outputs": [
    {
     "name": "stdout",
     "output_type": "stream",
     "text": [
      "[1, 2, 3]\n",
      "['a', 'b', 'c']\n"
     ]
    }
   ],
   "source": [
    "# Unzipping the list\n",
    "unzipped_list1, unzipped_list2 = zip(*zipped_list)\n",
    "\n",
    "# Converting tuples back to lists\n",
    "unzipped_list1 = list(unzipped_list1)\n",
    "unzipped_list2 = list(unzipped_list2)\n",
    "\n",
    "# Printing the unzipped lists\n",
    "print(unzipped_list1)\n",
    "print(unzipped_list2)"
   ]
  },
  {
   "cell_type": "code",
   "execution_count": null,
   "metadata": {
    "colab": {
     "base_uri": "https://localhost:8080/"
    },
    "executionInfo": {
     "elapsed": 439,
     "status": "ok",
     "timestamp": 1717087152997,
     "user": {
      "displayName": "Ahmed Yousry",
      "userId": "15736517196575255940"
     },
     "user_tz": -180
    },
    "id": "47hw0ZpQU_2f",
    "outputId": "78fb4703-2fa1-456e-86ba-6ed552b5c931"
   },
   "outputs": [
    {
     "name": "stdout",
     "output_type": "stream",
     "text": [
      "(1, 'A', [1, 2])\n",
      "(2, 'B', [3, 4])\n",
      "(3, 'C', [5, 6])\n",
      "(4, 'D', [3, 14])\n"
     ]
    }
   ],
   "source": [
    "lst1=[1,2,3,4]\n",
    "lst2=['A', 'B', 'C', 'D']\n",
    "lst3=[[1,2],[3,4],[5,6],[3,14]]\n",
    "zipped=zip(lst1,lst2,lst3)\n",
    "for row in zipped:\n",
    "    print(row)"
   ]
  },
  {
   "cell_type": "code",
   "execution_count": null,
   "metadata": {
    "colab": {
     "base_uri": "https://localhost:8080/"
    },
    "executionInfo": {
     "elapsed": 288,
     "status": "ok",
     "timestamp": 1717087194485,
     "user": {
      "displayName": "Ahmed Yousry",
      "userId": "15736517196575255940"
     },
     "user_tz": -180
    },
    "id": "7abPYvWcU_2g",
    "outputId": "9f020d6e-3724-4320-f94d-03565d92a26b"
   },
   "outputs": [
    {
     "name": "stdout",
     "output_type": "stream",
     "text": [
      "[('x', 3), ('y', 4), ('z', 5)]\n"
     ]
    }
   ],
   "source": [
    "coordinate = ['x', 'y', 'z']\n",
    "value = [3, 4, 5]\n",
    "zipped=zip(coordinate, value)\n",
    "## convert to list\n",
    "l=list(zipped)\n",
    "## print zipped\n",
    "print(l)"
   ]
  },
  {
   "cell_type": "code",
   "execution_count": null,
   "metadata": {
    "colab": {
     "base_uri": "https://localhost:8080/"
    },
    "executionInfo": {
     "elapsed": 280,
     "status": "ok",
     "timestamp": 1717087199392,
     "user": {
      "displayName": "Ahmed Yousry",
      "userId": "15736517196575255940"
     },
     "user_tz": -180
    },
    "id": "H7VOYUGyU_2g",
    "outputId": "8465f8e1-51ed-42f6-8251-847ba3cc0a79"
   },
   "outputs": [
    {
     "name": "stdout",
     "output_type": "stream",
     "text": [
      "('x', 'y', 'z')\n",
      "(3, 4, 5)\n"
     ]
    }
   ],
   "source": [
    "coordinate = ['x', 'y', 'z']\n",
    "value = [3, 4, 5]\n",
    "zipped=zip(coordinate, value)\n",
    "c, v=zip(*zipped)\n",
    "print(c)\n",
    "print(v)"
   ]
  },
  {
   "cell_type": "markdown",
   "metadata": {
    "id": "so-YRv08U_2g"
   },
   "source": [
    "### zip- Iterate over two lists in parallel"
   ]
  },
  {
   "cell_type": "code",
   "execution_count": null,
   "metadata": {
    "colab": {
     "base_uri": "https://localhost:8080/"
    },
    "executionInfo": {
     "elapsed": 321,
     "status": "ok",
     "timestamp": 1717087260362,
     "user": {
      "displayName": "Ahmed Yousry",
      "userId": "15736517196575255940"
     },
     "user_tz": -180
    },
    "id": "Is_h4DUkU_2g",
    "outputId": "106a542b-43bf-4ddd-8cc0-f6eea7751982"
   },
   "outputs": [
    {
     "name": "stdout",
     "output_type": "stream",
     "text": [
      "30\n",
      "100\n",
      "240\n",
      "---------------\n",
      "30\n",
      "100\n",
      "240\n",
      "---------------\n",
      "index: 1 30\n",
      "index: 2 100\n",
      "index: 3 240\n"
     ]
    }
   ],
   "source": [
    "alist = ['a1', 'a2', 'a3']\n",
    "blist = ['b1', 'b2', 'b3']\n",
    "\n",
    "aa=[3,5,8]\n",
    "bb=[10,20,30]\n",
    "### method 1\n",
    "for i in range(len(aa)):\n",
    "    print(aa[i]*bb[i])\n",
    "\n",
    "print('---------------')\n",
    "## method 2\n",
    "\n",
    "for a, b in zip(aa,bb):\n",
    "    print(a*b)\n",
    "\n",
    "print('---------------')\n",
    "for ind, (a, b) in enumerate(zip(aa,bb),start=1):\n",
    "    print('index:',ind, a*b)"
   ]
  },
  {
   "cell_type": "markdown",
   "metadata": {
    "id": "FRDAcZxWU_2g"
   },
   "source": [
    "### What if we need indexes?\n",
    "\n",
    "- Python’s built-in __enumerate__ function allows us to loop over a list and retrieve both the index and the value of each item in the list:"
   ]
  },
  {
   "cell_type": "code",
   "execution_count": null,
   "metadata": {
    "colab": {
     "base_uri": "https://localhost:8080/"
    },
    "executionInfo": {
     "elapsed": 270,
     "status": "ok",
     "timestamp": 1717089378584,
     "user": {
      "displayName": "Ahmed Yousry",
      "userId": "15736517196575255940"
     },
     "user_tz": -180
    },
    "id": "G3uoEA5GU_2h",
    "outputId": "ca819133-4f2e-4f51-9796-ecbdc774eaeb"
   },
   "outputs": [
    {
     "name": "stdout",
     "output_type": "stream",
     "text": [
      "['Ahmad', 'Mohammad', 'Sami', 'Mona', 'Norah', 'Fahad', 'Majed']\n",
      "student: 1 : AHMAD\n",
      "student: 2 : MOHAMMAD\n",
      "student: 3 : SAMI\n",
      "student: 4 : MONA\n",
      "student: 5 : NORAH\n",
      "student: 6 : FAHAD\n",
      "student: 7 : MAJED\n",
      "\n",
      "student: 1 : Ahmad\n",
      "student: 2 : Mohammad\n",
      "student: 3 : Sami\n",
      "student: 4 : Mona\n",
      "student: 5 : Norah\n",
      "student: 6 : Fahad\n",
      "student: 7 : Majed\n"
     ]
    }
   ],
   "source": [
    "\n",
    "names = [\"Ahmad\", \"Mohammad\", \"Sami\", \"Mona\", \"Norah\", \"Fahad\", \"Majed\"]\n",
    "print(names)\n",
    "i=1\n",
    "for name in names:\n",
    "    print('student:',i,':', name.upper())\n",
    "    i+=1\n",
    "\n",
    "print()\n",
    "\n",
    "for ind, name in enumerate(names, start=1):\n",
    "    print('student:',ind,':', name)\n"
   ]
  },
  {
   "cell_type": "markdown",
   "metadata": {
    "id": "6gobJw93U_2h"
   },
   "source": [
    "####  A while loop statement in Python programming language repeatedly executes a target statement as long as a given condition is true."
   ]
  },
  {
   "cell_type": "code",
   "execution_count": null,
   "metadata": {
    "colab": {
     "base_uri": "https://localhost:8080/"
    },
    "executionInfo": {
     "elapsed": 301,
     "status": "ok",
     "timestamp": 1717089497346,
     "user": {
      "displayName": "Ahmed Yousry",
      "userId": "15736517196575255940"
     },
     "user_tz": -180
    },
    "id": "UVTl074IU_2h",
    "outputId": "a58bdc2b-254e-4edb-9382-a8c5b0e8683a"
   },
   "outputs": [
    {
     "name": "stdout",
     "output_type": "stream",
     "text": [
      "The count is: 0\n",
      "The count is: 1\n",
      "The count is: 2\n",
      "The count is: 3\n",
      "The count is: 4\n",
      "The count is: 5\n",
      "The count is: 6\n",
      "The count is: 7\n",
      "The count is: 8\n",
      "The count is: 9\n"
     ]
    }
   ],
   "source": [
    "count = 0\n",
    "while (count <= 9):\n",
    "    print ('The count is:', count)\n",
    "    count = count + 1"
   ]
  },
  {
   "cell_type": "code",
   "execution_count": null,
   "metadata": {
    "colab": {
     "base_uri": "https://localhost:8080/"
    },
    "executionInfo": {
     "elapsed": 337,
     "status": "ok",
     "timestamp": 1717089523750,
     "user": {
      "displayName": "Ahmed Yousry",
      "userId": "15736517196575255940"
     },
     "user_tz": -180
    },
    "id": "bWjwiZvSU_2h",
    "outputId": "71e5095f-0f44-4ac4-9198-15739ec9003a"
   },
   "outputs": [
    {
     "name": "stdout",
     "output_type": "stream",
     "text": [
      "2\n",
      "3\n",
      "4\n",
      "5\n"
     ]
    }
   ],
   "source": [
    "i=2\n",
    "while i<10:\n",
    "    print(i)\n",
    "    if i==5:\n",
    "        break\n",
    "    i=i+1\n"
   ]
  },
  {
   "cell_type": "code",
   "execution_count": null,
   "metadata": {
    "colab": {
     "base_uri": "https://localhost:8080/"
    },
    "executionInfo": {
     "elapsed": 10,
     "status": "ok",
     "timestamp": 1722157809558,
     "user": {
      "displayName": "Ahmed Yousry",
      "userId": "15736517196575255940"
     },
     "user_tz": -180
    },
    "id": "BT9DLAeQU_2h",
    "outputId": "ebbbe97f-00a0-4620-985c-6c3b5fa8582e"
   },
   "outputs": [
    {
     "name": "stdout",
     "output_type": "stream",
     "text": [
      "3\n",
      "4\n",
      "6\n",
      "7\n",
      "8\n",
      "9\n",
      "10\n"
     ]
    }
   ],
   "source": [
    "i=2\n",
    "while i<10:\n",
    "    i=i+1\n",
    "    if i==5:\n",
    "        continue\n",
    "    print(i)"
   ]
  },
  {
   "cell_type": "code",
   "execution_count": null,
   "metadata": {
    "colab": {
     "base_uri": "https://localhost:8080/"
    },
    "executionInfo": {
     "elapsed": 293,
     "status": "ok",
     "timestamp": 1722157892973,
     "user": {
      "displayName": "Ahmed Yousry",
      "userId": "15736517196575255940"
     },
     "user_tz": -180
    },
    "id": "hMgKiJ42U_2h",
    "outputId": "9a363b33-a25b-41f0-88b8-9b505ec11a24"
   },
   "outputs": [
    {
     "name": "stdout",
     "output_type": "stream",
     "text": [
      "15\n",
      "14\n",
      "13\n",
      "12\n",
      "11\n",
      "10\n"
     ]
    }
   ],
   "source": [
    "j=15\n",
    "while j:\n",
    "    print(j)\n",
    "    if j==10:\n",
    "        break\n",
    "    j=j-1\n"
   ]
  },
  {
   "cell_type": "markdown",
   "metadata": {
    "id": "S41K88u0U_2h"
   },
   "source": [
    "### sets\n",
    "<font size=\"4\">\n",
    "- A set is an unordered collection of items. Every set element is unique (no duplicates)\n",
    "\n",
    "- In Python, sets are written with curly brackets.\n",
    "</font>"
   ]
  },
  {
   "cell_type": "code",
   "execution_count": null,
   "metadata": {
    "id": "f7HEq7BGU_2h"
   },
   "outputs": [],
   "source": [
    "lst=[1,2,1,2,3]\n"
   ]
  },
  {
   "cell_type": "code",
   "execution_count": null,
   "metadata": {
    "colab": {
     "base_uri": "https://localhost:8080/"
    },
    "executionInfo": {
     "elapsed": 329,
     "status": "ok",
     "timestamp": 1720286151266,
     "user": {
      "displayName": "Ahmed Yousry",
      "userId": "15736517196575255940"
     },
     "user_tz": -180
    },
    "id": "whQmoPalU_2h",
    "outputId": "93f5d420-efce-4b8b-da1b-8dd034392874"
   },
   "outputs": [
    {
     "name": "stdout",
     "output_type": "stream",
     "text": [
      "<class 'set'>\n",
      "<class 'set'>\n",
      "{1, 2, 3, 4, 5}\n"
     ]
    }
   ],
   "source": [
    "##empty list\n",
    "lst100=[]\n",
    "lst101=list()\n",
    "\n",
    "##empty set\n",
    "setB=set()\n",
    "print(type(setB))\n",
    "\n",
    "# create a set consists of 12,45,55\n",
    "setA= {3,2,1}\n",
    "print(type(setA))\n",
    "\n",
    "# add new element 100 to the set\n",
    "setA.add(5)\n",
    "setA.add(4)\n",
    "print(setA)"
   ]
  },
  {
   "cell_type": "code",
   "execution_count": null,
   "metadata": {
    "colab": {
     "base_uri": "https://localhost:8080/"
    },
    "executionInfo": {
     "elapsed": 464,
     "status": "ok",
     "timestamp": 1722159316949,
     "user": {
      "displayName": "Ahmed Yousry",
      "userId": "15736517196575255940"
     },
     "user_tz": -180
    },
    "id": "ndgrXEMEU_2h",
    "outputId": "e5a889c1-6721-4691-f113-29686a27d02b"
   },
   "outputs": [
    {
     "name": "stdout",
     "output_type": "stream",
     "text": [
      "[1, 2, 3, 4]\n",
      "[{1, 2, 3, 4}, 1, 'a']\n",
      "{1, 2, 3, 4}\n"
     ]
    }
   ],
   "source": [
    "##convert from set to list\n",
    "set200={1,2,3,4}\n",
    "lst200=list(set200)\n",
    "print(lst200)\n",
    "\n",
    "set300={1,2,3,4}\n",
    "lst300=[set300, 1, \"a\"]\n",
    "\n",
    "print(lst300)\n",
    "print(lst300[0])"
   ]
  },
  {
   "cell_type": "code",
   "execution_count": null,
   "metadata": {
    "colab": {
     "base_uri": "https://localhost:8080/"
    },
    "executionInfo": {
     "elapsed": 575,
     "status": "ok",
     "timestamp": 1722159349194,
     "user": {
      "displayName": "Ahmed Yousry",
      "userId": "15736517196575255940"
     },
     "user_tz": -180
    },
    "id": "0wD4MRyzU_2h",
    "outputId": "8805ef34-3d93-4d7f-f190-c5e849818ee0"
   },
   "outputs": [
    {
     "name": "stdout",
     "output_type": "stream",
     "text": [
      "{1.0, (1, 2, 3), 'Hello'}\n"
     ]
    }
   ],
   "source": [
    "# Different types of sets in Python\n",
    "# set of integers\n",
    "my_set = {1, 2, 3}\n",
    "\n",
    "\n",
    "# set of mixed datatypes\n",
    "my_set = {1.0, \"Hello\", (1, 2, 3)}\n",
    "print(my_set)"
   ]
  },
  {
   "cell_type": "markdown",
   "metadata": {
    "id": "xLu_ALgWU_2i"
   },
   "source": []
  },
  {
   "cell_type": "code",
   "execution_count": null,
   "metadata": {
    "colab": {
     "base_uri": "https://localhost:8080/"
    },
    "executionInfo": {
     "elapsed": 348,
     "status": "ok",
     "timestamp": 1722159461333,
     "user": {
      "displayName": "Ahmed Yousry",
      "userId": "15736517196575255940"
     },
     "user_tz": -180
    },
    "id": "iJ7ZZUvPU_2i",
    "outputId": "681dbbb2-a48e-4534-9db1-d84b3967afb5"
   },
   "outputs": [
    {
     "name": "stdout",
     "output_type": "stream",
     "text": [
      "{1, 3, 4, 5, 6}\n",
      "{1, 3, 4, 5, 6, 10}\n",
      "{1, 4, 5, 6, 10}\n",
      "{1, 4, 5, 6, 10}\n"
     ]
    }
   ],
   "source": [
    "# Difference between discard() and remove()\n",
    "\n",
    "# initialize my_set\n",
    "my_set = {1, 3, 4, 5, 6}\n",
    "print(my_set)\n",
    "\n",
    "## add 10 to set\n",
    "my_set.add(10)\n",
    "print(my_set)\n",
    "\n",
    "# discard an element\n",
    "my_set.discard(3)\n",
    "print(my_set)\n",
    "my_set.discard(200)\n",
    "print(my_set)"
   ]
  },
  {
   "cell_type": "code",
   "execution_count": null,
   "metadata": {
    "colab": {
     "base_uri": "https://localhost:8080/",
     "height": 219
    },
    "executionInfo": {
     "elapsed": 334,
     "status": "error",
     "timestamp": 1717090790029,
     "user": {
      "displayName": "Ahmed Yousry",
      "userId": "15736517196575255940"
     },
     "user_tz": -180
    },
    "id": "VvQ-M5X_lVEi",
    "outputId": "6f9ce2fa-fdbd-4fb0-aa1e-99987da77aff"
   },
   "outputs": [
    {
     "name": "stdout",
     "output_type": "stream",
     "text": [
      "{1, 4, 5, 10}\n"
     ]
    },
    {
     "ename": "KeyError",
     "evalue": "600",
     "output_type": "error",
     "traceback": [
      "\u001b[0;31m---------------------------------------------------------------------------\u001b[0m",
      "\u001b[0;31mKeyError\u001b[0m                                  Traceback (most recent call last)",
      "\u001b[0;32m<ipython-input-215-6ced5108439d>\u001b[0m in \u001b[0;36m<cell line: 5>\u001b[0;34m()\u001b[0m\n\u001b[1;32m      3\u001b[0m \u001b[0mprint\u001b[0m\u001b[0;34m(\u001b[0m\u001b[0mmy_set\u001b[0m\u001b[0;34m)\u001b[0m\u001b[0;34m\u001b[0m\u001b[0;34m\u001b[0m\u001b[0m\n\u001b[1;32m      4\u001b[0m \u001b[0;34m\u001b[0m\u001b[0m\n\u001b[0;32m----> 5\u001b[0;31m \u001b[0mmy_set\u001b[0m\u001b[0;34m.\u001b[0m\u001b[0mremove\u001b[0m\u001b[0;34m(\u001b[0m\u001b[0;36m600\u001b[0m\u001b[0;34m)\u001b[0m\u001b[0;34m\u001b[0m\u001b[0;34m\u001b[0m\u001b[0m\n\u001b[0m\u001b[1;32m      6\u001b[0m \u001b[0mprint\u001b[0m\u001b[0;34m(\u001b[0m\u001b[0mmy_set\u001b[0m\u001b[0;34m)\u001b[0m\u001b[0;34m\u001b[0m\u001b[0;34m\u001b[0m\u001b[0m\n",
      "\u001b[0;31mKeyError\u001b[0m: 600"
     ]
    }
   ],
   "source": [
    "# remove an element\n",
    "my_set.remove(6)\n",
    "print(my_set)\n",
    "\n",
    "my_set.remove(600)\n",
    "print(my_set)"
   ]
  },
  {
   "cell_type": "markdown",
   "metadata": {
    "id": "alJBL35EU_2i"
   },
   "source": [
    "## what is the difference between remove and discard?\n",
    "\n",
    "The remove() method raises an error when the specified element doesn't exist in the given set, however the discard() method doesn't raise any error if the specified element is not present in the set and the set remains unchanged"
   ]
  },
  {
   "cell_type": "code",
   "execution_count": null,
   "metadata": {
    "colab": {
     "base_uri": "https://localhost:8080/",
     "height": 200
    },
    "executionInfo": {
     "elapsed": 376,
     "status": "error",
     "timestamp": 1717090869971,
     "user": {
      "displayName": "Ahmed Yousry",
      "userId": "15736517196575255940"
     },
     "user_tz": -180
    },
    "id": "Bsw1dobUU_2i",
    "outputId": "2518fadb-f0a4-425e-f065-61197c0c8328"
   },
   "outputs": [
    {
     "name": "stdout",
     "output_type": "stream",
     "text": [
      "None\n"
     ]
    },
    {
     "ename": "NameError",
     "evalue": "name 'aaa' is not defined",
     "output_type": "error",
     "traceback": [
      "\u001b[0;31m---------------------------------------------------------------------------\u001b[0m",
      "\u001b[0;31mNameError\u001b[0m                                 Traceback (most recent call last)",
      "\u001b[0;32m<ipython-input-216-caf9de00817b>\u001b[0m in \u001b[0;36m<cell line: 6>\u001b[0;34m()\u001b[0m\n\u001b[1;32m      4\u001b[0m \u001b[0mprint\u001b[0m\u001b[0;34m(\u001b[0m\u001b[0maaa\u001b[0m\u001b[0;34m)\u001b[0m\u001b[0;34m\u001b[0m\u001b[0;34m\u001b[0m\u001b[0m\n\u001b[1;32m      5\u001b[0m \u001b[0;32mdel\u001b[0m \u001b[0maaa\u001b[0m   \u001b[0;31m#### The del keyword is used to delete objects.\u001b[0m\u001b[0;34m\u001b[0m\u001b[0;34m\u001b[0m\u001b[0m\n\u001b[0;32m----> 6\u001b[0;31m \u001b[0mprint\u001b[0m\u001b[0;34m(\u001b[0m\u001b[0maaa\u001b[0m\u001b[0;34m)\u001b[0m\u001b[0;34m\u001b[0m\u001b[0;34m\u001b[0m\u001b[0m\n\u001b[0m",
      "\u001b[0;31mNameError\u001b[0m: name 'aaa' is not defined"
     ]
    }
   ],
   "source": [
    "aaa=[12,4,5,True]\n",
    "aaa=None\n",
    "##print(aaa)\n",
    "print(aaa)\n",
    "del aaa   #### The del keyword is used to delete objects.\n",
    "print(aaa)"
   ]
  },
  {
   "cell_type": "markdown",
   "metadata": {
    "id": "cREU79rDU_2i"
   },
   "source": [
    "#### Difference Between Python del vs Assigning to None\n",
    "The difference is that x = None will free whatever it referenced but keep the name around even though it's just referencing None (which is a type, NoneType). On the other hand, del x will completely remove both the name and what it referenced."
   ]
  },
  {
   "cell_type": "markdown",
   "metadata": {
    "id": "iE_JcpkcU_2i"
   },
   "source": [
    "### Python Set Operations"
   ]
  },
  {
   "cell_type": "code",
   "execution_count": null,
   "metadata": {
    "colab": {
     "base_uri": "https://localhost:8080/"
    },
    "executionInfo": {
     "elapsed": 485,
     "status": "ok",
     "timestamp": 1722159825596,
     "user": {
      "displayName": "Ahmed Yousry",
      "userId": "15736517196575255940"
     },
     "user_tz": -180
    },
    "id": "9qFXE3OxU_2i",
    "outputId": "93188040-7b4f-4957-e000-2f1315d7bcdf"
   },
   "outputs": [
    {
     "name": "stdout",
     "output_type": "stream",
     "text": [
      "{1, 4, 7}\n",
      "{1, 3, 4, 7, 10, 11}\n",
      "{1, 3, 4, 7, 10, 11}\n"
     ]
    }
   ],
   "source": [
    "aa={1,3,4,7}\n",
    "bb={1,4,7,10,11}\n",
    "\n",
    "## intersection\n",
    "print(aa & bb)\n",
    "\n",
    "##uniion\n",
    "\n",
    "c=aa | bb\n",
    "c.add(1)\n",
    "\n",
    "print(c)\n",
    "print(aa | bb)\n",
    "\n",
    "\n"
   ]
  },
  {
   "cell_type": "markdown",
   "metadata": {
    "id": "X_akKjT_U_2i"
   },
   "source": [
    "### dictionary\n",
    "##### In Python, a dictionary is an unordered collection of items, with each item consisting of a key: value pair (separated by a colon)."
   ]
  },
  {
   "cell_type": "code",
   "execution_count": null,
   "metadata": {
    "colab": {
     "base_uri": "https://localhost:8080/"
    },
    "executionInfo": {
     "elapsed": 272,
     "status": "ok",
     "timestamp": 1717091250910,
     "user": {
      "displayName": "Ahmed Yousry",
      "userId": "15736517196575255940"
     },
     "user_tz": -180
    },
    "id": "ftkHqVA3U_2i",
    "outputId": "fcb2a852-be29-476d-e2a4-4653ad87ede5"
   },
   "outputs": [
    {
     "name": "stdout",
     "output_type": "stream",
     "text": [
      "{'color': 'blue', 'fruit': 'apple', 'pet': 'dog', 'weight': 20, 'dimeter': 20}\n",
      "blue\n",
      "{'color': 'blue', 'fruit': 'apple', 'pet': 'dog', 'weight': 20, 'dimeter': 20, 10: 200}\n",
      "color : blue\n",
      "fruit : apple\n",
      "pet : dog\n",
      "weight : 20\n",
      "dimeter : 20\n",
      "10 : 200\n",
      "--------------\n",
      "color blue\n",
      "fruit apple\n",
      "pet dog\n",
      "weight 20\n",
      "dimeter 20\n",
      "10 200\n",
      "dict_keys(['color', 'fruit', 'pet', 'weight', 'dimeter', 10])\n",
      "dict_values(['blue', 'apple', 'dog', 20, 20, 200])\n"
     ]
    }
   ],
   "source": [
    "# empty dictionary\n",
    "myDict = dict()\n",
    "myDict1={}\n",
    "\n",
    "info={'Saleh':40, 'NorAH':24}\n",
    "\n",
    "#### Distinguish set and dictionary while creating empty set\n",
    "\n",
    "a_dict = {'color': 'blue', 'fruit': 'apple', 'pet': 'dog', 'weight':20}\n",
    "\n",
    "a_dict['dimeter']=1.3 #Add\n",
    "\n",
    "a_dict['dimeter']=20  #update\n",
    "print(a_dict)\n",
    "print(a_dict['color'])\n",
    "\n",
    "a_dict[10]=200\n",
    "print(a_dict)\n",
    "# iterating through iterms\n",
    "\n",
    "for key, value in a_dict.items():\n",
    "    print(key,':', value)\n",
    "print('--------------')\n",
    "\n",
    "for k, v in a_dict.items():\n",
    "    print(k,v)\n",
    "\n",
    "print(a_dict.keys())\n",
    "print(a_dict.values())"
   ]
  },
  {
   "cell_type": "markdown",
   "metadata": {
    "id": "3wDbr1vjU_2i"
   },
   "source": [
    "### tuple\n",
    "- A tuple is a collection which is ordered and unchangeable. In Python tuples are written with round brackets."
   ]
  },
  {
   "cell_type": "code",
   "execution_count": null,
   "metadata": {
    "colab": {
     "base_uri": "https://localhost:8080/"
    },
    "executionInfo": {
     "elapsed": 251,
     "status": "ok",
     "timestamp": 1717091409675,
     "user": {
      "displayName": "Ahmed Yousry",
      "userId": "15736517196575255940"
     },
     "user_tz": -180
    },
    "id": "LKEp9-x9U_2i",
    "outputId": "8777f54d-c8f3-4267-e735-cb28b10bcafa"
   },
   "outputs": [
    {
     "name": "stdout",
     "output_type": "stream",
     "text": [
      "('p', 'r', 'o', 'g', 'r', 'a', 'm', 'i', 'z')\n"
     ]
    }
   ],
   "source": [
    "my_tuple = ('p','r','o','g','r','a','m','i','z')\n",
    "print(my_tuple)"
   ]
  },
  {
   "cell_type": "code",
   "execution_count": null,
   "metadata": {
    "colab": {
     "base_uri": "https://localhost:8080/"
    },
    "executionInfo": {
     "elapsed": 329,
     "status": "ok",
     "timestamp": 1717091411741,
     "user": {
      "displayName": "Ahmed Yousry",
      "userId": "15736517196575255940"
     },
     "user_tz": -180
    },
    "id": "_WXIv-XhU_2j",
    "outputId": "6a198f3a-8348-4eb1-b8e4-acd1af37001d"
   },
   "outputs": [
    {
     "name": "stdout",
     "output_type": "stream",
     "text": [
      "p\n"
     ]
    }
   ],
   "source": [
    "print(my_tuple[0])"
   ]
  },
  {
   "cell_type": "code",
   "execution_count": null,
   "metadata": {
    "colab": {
     "base_uri": "https://localhost:8080/",
     "height": 146
    },
    "executionInfo": {
     "elapsed": 412,
     "status": "error",
     "timestamp": 1717091418229,
     "user": {
      "displayName": "Ahmed Yousry",
      "userId": "15736517196575255940"
     },
     "user_tz": -180
    },
    "id": "UV9Rfp1PU_2j",
    "outputId": "630c2674-87fd-49e9-b618-b6684d86cab5"
   },
   "outputs": [
    {
     "ename": "TypeError",
     "evalue": "'tuple' object does not support item assignment",
     "output_type": "error",
     "traceback": [
      "\u001b[0;31m---------------------------------------------------------------------------\u001b[0m",
      "\u001b[0;31mTypeError\u001b[0m                                 Traceback (most recent call last)",
      "\u001b[0;32m<ipython-input-223-2da6f0af6dd7>\u001b[0m in \u001b[0;36m<cell line: 1>\u001b[0;34m()\u001b[0m\n\u001b[0;32m----> 1\u001b[0;31m \u001b[0mmy_tuple\u001b[0m\u001b[0;34m[\u001b[0m\u001b[0;36m0\u001b[0m\u001b[0;34m]\u001b[0m\u001b[0;34m=\u001b[0m\u001b[0;34m'k'\u001b[0m\u001b[0;34m\u001b[0m\u001b[0;34m\u001b[0m\u001b[0m\n\u001b[0m",
      "\u001b[0;31mTypeError\u001b[0m: 'tuple' object does not support item assignment"
     ]
    }
   ],
   "source": [
    "my_tuple[0]='k'"
   ]
  },
  {
   "cell_type": "markdown",
   "metadata": {
    "id": "HxtjescmU_2j"
   },
   "source": [
    "### Q) How to change the value in tuple?"
   ]
  },
  {
   "cell_type": "code",
   "execution_count": null,
   "metadata": {
    "colab": {
     "base_uri": "https://localhost:8080/"
    },
    "executionInfo": {
     "elapsed": 333,
     "status": "ok",
     "timestamp": 1717091464500,
     "user": {
      "displayName": "Ahmed Yousry",
      "userId": "15736517196575255940"
     },
     "user_tz": -180
    },
    "id": "0t6ixBpUU_2j",
    "outputId": "f1f71d6d-b650-4047-c473-7418f3f4ac52"
   },
   "outputs": [
    {
     "name": "stdout",
     "output_type": "stream",
     "text": [
      "['K', 'r', 'o', 'g', 'r', 'a', 'm', 'i', 'z']\n"
     ]
    },
    {
     "data": {
      "text/plain": [
       "('K', 'r', 'o', 'g', 'r', 'a', 'm', 'i', 'z')"
      ]
     },
     "execution_count": 224,
     "metadata": {},
     "output_type": "execute_result"
    }
   ],
   "source": [
    "my_lst10=list(my_tuple)\n",
    "\n",
    "my_lst10[0]='K'\n",
    "print(my_lst10)\n",
    "\n",
    "my_tuple1=tuple(my_lst10)\n",
    "my_tuple1"
   ]
  },
  {
   "cell_type": "markdown",
   "metadata": {
    "id": "XkySZO3mU_2j"
   },
   "source": [
    "### Importing Modules and packages\n",
    "\n",
    "<font size=\"4\">\n",
    "    \n",
    "- Module is a file consisting of Python code. Module can define functions , classes and variables.\n",
    "- To make use of the functions in a module, you’ll need to import the module with an import statement.\n",
    "    <font size=\"3\">AAAAAA</font>"
   ]
  },
  {
   "cell_type": "code",
   "execution_count": null,
   "metadata": {
    "colab": {
     "base_uri": "https://localhost:8080/"
    },
    "executionInfo": {
     "elapsed": 267,
     "status": "ok",
     "timestamp": 1717091659990,
     "user": {
      "displayName": "Ahmed Yousry",
      "userId": "15736517196575255940"
     },
     "user_tz": -180
    },
    "id": "4qVcyltaU_2j",
    "outputId": "ea6a9446-6c21-450a-f1c1-414e73aa58ce"
   },
   "outputs": [
    {
     "name": "stdout",
     "output_type": "stream",
     "text": [
      "0.8939966636005579\n",
      "3.141592653589793\n",
      "[0. 0. 0. 0. 0.]\n",
      "30\n",
      "3.0\n"
     ]
    },
    {
     "data": {
      "text/plain": [
       "<function math.acos(x, /)>"
      ]
     },
     "execution_count": 226,
     "metadata": {},
     "output_type": "execute_result"
    }
   ],
   "source": [
    "# method 1\n",
    "import math\n",
    "import numpy\n",
    "\n",
    "print(math.sin(90))\n",
    "print(math.pi)\n",
    "print(numpy.zeros(5))\n",
    "\n",
    "# methed 2\n",
    "import numpy as np\n",
    "import pandas as pd\n",
    "\n",
    "pd.DataFrame()\n",
    "print(np.add(10,20))\n",
    "\n",
    "# method 3\n",
    "from math import log10, pi, sin, ceil, floor\n",
    "print(log10(1000))\n",
    "from math import sin,pi , ceil\n",
    "sin(90)\n",
    "#method 4\n",
    "from math import *\n",
    "acos"
   ]
  },
  {
   "cell_type": "code",
   "execution_count": 1,
   "metadata": {
    "colab": {
     "base_uri": "https://localhost:8080/"
    },
    "executionInfo": {
     "elapsed": 307,
     "status": "ok",
     "timestamp": 1722583168778,
     "user": {
      "displayName": "Ahmed Yousry",
      "userId": "15736517196575255940"
     },
     "user_tz": -180
    },
    "id": "hpYlR0iq5-ee",
    "outputId": "21f84509-5296-4d1f-e062-8c7588ead385"
   },
   "outputs": [
    {
     "name": "stdout",
     "output_type": "stream",
     "text": [
      "1.0\n"
     ]
    }
   ],
   "source": [
    "import math\n",
    "\n",
    "# Angle in degrees\n",
    "angle_in_degrees = 90\n",
    "\n",
    "# Convert degrees to radians\n",
    "angle_in_radians = math.radians(angle_in_degrees)\n",
    "\n",
    "# Calculate the sine of the angle\n",
    "sin_value = math.sin(angle_in_radians)\n",
    "\n",
    "# Print the result\n",
    "print(sin_value)\n"
   ]
  },
  {
   "cell_type": "code",
   "execution_count": null,
   "metadata": {
    "colab": {
     "base_uri": "https://localhost:8080/"
    },
    "executionInfo": {
     "elapsed": 288,
     "status": "ok",
     "timestamp": 1717091744060,
     "user": {
      "displayName": "Ahmed Yousry",
      "userId": "15736517196575255940"
     },
     "user_tz": -180
    },
    "id": "Dv6OhOjlU_2j",
    "outputId": "83306afd-0a1d-43f3-ce1e-05ec563d4e0c"
   },
   "outputs": [
    {
     "name": "stdout",
     "output_type": "stream",
     "text": [
      "Help on built-in module math:\n",
      "\n",
      "NAME\n",
      "    math\n",
      "\n",
      "DESCRIPTION\n",
      "    This module provides access to the mathematical functions\n",
      "    defined by the C standard.\n",
      "\n",
      "FUNCTIONS\n",
      "    acos(x, /)\n",
      "        Return the arc cosine (measured in radians) of x.\n",
      "        \n",
      "        The result is between 0 and pi.\n",
      "    \n",
      "    acosh(x, /)\n",
      "        Return the inverse hyperbolic cosine of x.\n",
      "    \n",
      "    asin(x, /)\n",
      "        Return the arc sine (measured in radians) of x.\n",
      "        \n",
      "        The result is between -pi/2 and pi/2.\n",
      "    \n",
      "    asinh(x, /)\n",
      "        Return the inverse hyperbolic sine of x.\n",
      "    \n",
      "    atan(x, /)\n",
      "        Return the arc tangent (measured in radians) of x.\n",
      "        \n",
      "        The result is between -pi/2 and pi/2.\n",
      "    \n",
      "    atan2(y, x, /)\n",
      "        Return the arc tangent (measured in radians) of y/x.\n",
      "        \n",
      "        Unlike atan(y/x), the signs of both x and y are considered.\n",
      "    \n",
      "    atanh(x, /)\n",
      "        Return the inverse hyperbolic tangent of x.\n",
      "    \n",
      "    ceil(x, /)\n",
      "        Return the ceiling of x as an Integral.\n",
      "        \n",
      "        This is the smallest integer >= x.\n",
      "    \n",
      "    comb(n, k, /)\n",
      "        Number of ways to choose k items from n items without repetition and without order.\n",
      "        \n",
      "        Evaluates to n! / (k! * (n - k)!) when k <= n and evaluates\n",
      "        to zero when k > n.\n",
      "        \n",
      "        Also called the binomial coefficient because it is equivalent\n",
      "        to the coefficient of k-th term in polynomial expansion of the\n",
      "        expression (1 + x)**n.\n",
      "        \n",
      "        Raises TypeError if either of the arguments are not integers.\n",
      "        Raises ValueError if either of the arguments are negative.\n",
      "    \n",
      "    copysign(x, y, /)\n",
      "        Return a float with the magnitude (absolute value) of x but the sign of y.\n",
      "        \n",
      "        On platforms that support signed zeros, copysign(1.0, -0.0)\n",
      "        returns -1.0.\n",
      "    \n",
      "    cos(x, /)\n",
      "        Return the cosine of x (measured in radians).\n",
      "    \n",
      "    cosh(x, /)\n",
      "        Return the hyperbolic cosine of x.\n",
      "    \n",
      "    degrees(x, /)\n",
      "        Convert angle x from radians to degrees.\n",
      "    \n",
      "    dist(p, q, /)\n",
      "        Return the Euclidean distance between two points p and q.\n",
      "        \n",
      "        The points should be specified as sequences (or iterables) of\n",
      "        coordinates.  Both inputs must have the same dimension.\n",
      "        \n",
      "        Roughly equivalent to:\n",
      "            sqrt(sum((px - qx) ** 2.0 for px, qx in zip(p, q)))\n",
      "    \n",
      "    erf(x, /)\n",
      "        Error function at x.\n",
      "    \n",
      "    erfc(x, /)\n",
      "        Complementary error function at x.\n",
      "    \n",
      "    exp(x, /)\n",
      "        Return e raised to the power of x.\n",
      "    \n",
      "    expm1(x, /)\n",
      "        Return exp(x)-1.\n",
      "        \n",
      "        This function avoids the loss of precision involved in the direct evaluation of exp(x)-1 for small x.\n",
      "    \n",
      "    fabs(x, /)\n",
      "        Return the absolute value of the float x.\n",
      "    \n",
      "    factorial(x, /)\n",
      "        Find x!.\n",
      "        \n",
      "        Raise a ValueError if x is negative or non-integral.\n",
      "    \n",
      "    floor(x, /)\n",
      "        Return the floor of x as an Integral.\n",
      "        \n",
      "        This is the largest integer <= x.\n",
      "    \n",
      "    fmod(x, y, /)\n",
      "        Return fmod(x, y), according to platform C.\n",
      "        \n",
      "        x % y may differ.\n",
      "    \n",
      "    frexp(x, /)\n",
      "        Return the mantissa and exponent of x, as pair (m, e).\n",
      "        \n",
      "        m is a float and e is an int, such that x = m * 2.**e.\n",
      "        If x is 0, m and e are both 0.  Else 0.5 <= abs(m) < 1.0.\n",
      "    \n",
      "    fsum(seq, /)\n",
      "        Return an accurate floating point sum of values in the iterable seq.\n",
      "        \n",
      "        Assumes IEEE-754 floating point arithmetic.\n",
      "    \n",
      "    gamma(x, /)\n",
      "        Gamma function at x.\n",
      "    \n",
      "    gcd(*integers)\n",
      "        Greatest Common Divisor.\n",
      "    \n",
      "    hypot(...)\n",
      "        hypot(*coordinates) -> value\n",
      "        \n",
      "        Multidimensional Euclidean distance from the origin to a point.\n",
      "        \n",
      "        Roughly equivalent to:\n",
      "            sqrt(sum(x**2 for x in coordinates))\n",
      "        \n",
      "        For a two dimensional point (x, y), gives the hypotenuse\n",
      "        using the Pythagorean theorem:  sqrt(x*x + y*y).\n",
      "        \n",
      "        For example, the hypotenuse of a 3/4/5 right triangle is:\n",
      "        \n",
      "            >>> hypot(3.0, 4.0)\n",
      "            5.0\n",
      "    \n",
      "    isclose(a, b, *, rel_tol=1e-09, abs_tol=0.0)\n",
      "        Determine whether two floating point numbers are close in value.\n",
      "        \n",
      "          rel_tol\n",
      "            maximum difference for being considered \"close\", relative to the\n",
      "            magnitude of the input values\n",
      "          abs_tol\n",
      "            maximum difference for being considered \"close\", regardless of the\n",
      "            magnitude of the input values\n",
      "        \n",
      "        Return True if a is close in value to b, and False otherwise.\n",
      "        \n",
      "        For the values to be considered close, the difference between them\n",
      "        must be smaller than at least one of the tolerances.\n",
      "        \n",
      "        -inf, inf and NaN behave similarly to the IEEE 754 Standard.  That\n",
      "        is, NaN is not close to anything, even itself.  inf and -inf are\n",
      "        only close to themselves.\n",
      "    \n",
      "    isfinite(x, /)\n",
      "        Return True if x is neither an infinity nor a NaN, and False otherwise.\n",
      "    \n",
      "    isinf(x, /)\n",
      "        Return True if x is a positive or negative infinity, and False otherwise.\n",
      "    \n",
      "    isnan(x, /)\n",
      "        Return True if x is a NaN (not a number), and False otherwise.\n",
      "    \n",
      "    isqrt(n, /)\n",
      "        Return the integer part of the square root of the input.\n",
      "    \n",
      "    lcm(*integers)\n",
      "        Least Common Multiple.\n",
      "    \n",
      "    ldexp(x, i, /)\n",
      "        Return x * (2**i).\n",
      "        \n",
      "        This is essentially the inverse of frexp().\n",
      "    \n",
      "    lgamma(x, /)\n",
      "        Natural logarithm of absolute value of Gamma function at x.\n",
      "    \n",
      "    log(...)\n",
      "        log(x, [base=math.e])\n",
      "        Return the logarithm of x to the given base.\n",
      "        \n",
      "        If the base not specified, returns the natural logarithm (base e) of x.\n",
      "    \n",
      "    log10(x, /)\n",
      "        Return the base 10 logarithm of x.\n",
      "    \n",
      "    log1p(x, /)\n",
      "        Return the natural logarithm of 1+x (base e).\n",
      "        \n",
      "        The result is computed in a way which is accurate for x near zero.\n",
      "    \n",
      "    log2(x, /)\n",
      "        Return the base 2 logarithm of x.\n",
      "    \n",
      "    modf(x, /)\n",
      "        Return the fractional and integer parts of x.\n",
      "        \n",
      "        Both results carry the sign of x and are floats.\n",
      "    \n",
      "    nextafter(x, y, /)\n",
      "        Return the next floating-point value after x towards y.\n",
      "    \n",
      "    perm(n, k=None, /)\n",
      "        Number of ways to choose k items from n items without repetition and with order.\n",
      "        \n",
      "        Evaluates to n! / (n - k)! when k <= n and evaluates\n",
      "        to zero when k > n.\n",
      "        \n",
      "        If k is not specified or is None, then k defaults to n\n",
      "        and the function returns n!.\n",
      "        \n",
      "        Raises TypeError if either of the arguments are not integers.\n",
      "        Raises ValueError if either of the arguments are negative.\n",
      "    \n",
      "    pow(x, y, /)\n",
      "        Return x**y (x to the power of y).\n",
      "    \n",
      "    prod(iterable, /, *, start=1)\n",
      "        Calculate the product of all the elements in the input iterable.\n",
      "        \n",
      "        The default start value for the product is 1.\n",
      "        \n",
      "        When the iterable is empty, return the start value.  This function is\n",
      "        intended specifically for use with numeric values and may reject\n",
      "        non-numeric types.\n",
      "    \n",
      "    radians(x, /)\n",
      "        Convert angle x from degrees to radians.\n",
      "    \n",
      "    remainder(x, y, /)\n",
      "        Difference between x and the closest integer multiple of y.\n",
      "        \n",
      "        Return x - n*y where n*y is the closest integer multiple of y.\n",
      "        In the case where x is exactly halfway between two multiples of\n",
      "        y, the nearest even value of n is used. The result is always exact.\n",
      "    \n",
      "    sin(x, /)\n",
      "        Return the sine of x (measured in radians).\n",
      "    \n",
      "    sinh(x, /)\n",
      "        Return the hyperbolic sine of x.\n",
      "    \n",
      "    sqrt(x, /)\n",
      "        Return the square root of x.\n",
      "    \n",
      "    tan(x, /)\n",
      "        Return the tangent of x (measured in radians).\n",
      "    \n",
      "    tanh(x, /)\n",
      "        Return the hyperbolic tangent of x.\n",
      "    \n",
      "    trunc(x, /)\n",
      "        Truncates the Real x to the nearest Integral toward 0.\n",
      "        \n",
      "        Uses the __trunc__ magic method.\n",
      "    \n",
      "    ulp(x, /)\n",
      "        Return the value of the least significant bit of the float x.\n",
      "\n",
      "DATA\n",
      "    e = 2.718281828459045\n",
      "    inf = inf\n",
      "    nan = nan\n",
      "    pi = 3.141592653589793\n",
      "    tau = 6.283185307179586\n",
      "\n",
      "FILE\n",
      "    (built-in)\n",
      "\n",
      "\n"
     ]
    }
   ],
   "source": [
    "import math\n",
    "help(math)"
   ]
  },
  {
   "cell_type": "markdown",
   "metadata": {
    "id": "cWWVIZo6U_2k"
   },
   "source": [
    "### random module\n",
    "- random.random(): Generates a random float number between 0.0 to 1.0. The function doesn't need any arguments.\n",
    "- random.randint(): Returns a random integer between the specified integers.\n",
    "- random.shuffle(): This functions randomly reorders the elements in a list.\n",
    "- random.choice():  Returns a randomly selected element from a non-empty sequence. An empty sequence as argument raises an IndexError.\n",
    "- random.sample returns a list with a randomly selection of a specified number of items from a sequnce.\n",
    "- random.randrange(): Returns a randomly selected element from the range created by the start, stop and step arguments. The value of start is 0 by default. Similarly, the value of step is 1 by default.\n",
    "\n",
    "\n"
   ]
  },
  {
   "cell_type": "code",
   "execution_count": 5,
   "metadata": {
    "colab": {
     "base_uri": "https://localhost:8080/"
    },
    "executionInfo": {
     "elapsed": 305,
     "status": "ok",
     "timestamp": 1722583304485,
     "user": {
      "displayName": "Ahmed Yousry",
      "userId": "15736517196575255940"
     },
     "user_tz": -180
    },
    "id": "zNTNFlvh8-Q-",
    "outputId": "1649cf43-1eda-49da-f214-8793ca5feae9"
   },
   "outputs": [
    {
     "name": "stdout",
     "output_type": "stream",
     "text": [
      "Random float: 0.447316196826017\n"
     ]
    }
   ],
   "source": [
    "import random\n",
    "\n",
    "# Generate a random float number between 0.0 and 1.0\n",
    "random_float = random.random()\n",
    "print(\"Random float:\", random_float)"
   ]
  },
  {
   "cell_type": "code",
   "execution_count": 9,
   "metadata": {
    "colab": {
     "base_uri": "https://localhost:8080/"
    },
    "executionInfo": {
     "elapsed": 317,
     "status": "ok",
     "timestamp": 1722583343561,
     "user": {
      "displayName": "Ahmed Yousry",
      "userId": "15736517196575255940"
     },
     "user_tz": -180
    },
    "id": "SBWFLyxd9AfS",
    "outputId": "089f4da6-ce2f-41a4-cde7-a4f25b83ee7e"
   },
   "outputs": [
    {
     "name": "stdout",
     "output_type": "stream",
     "text": [
      "Random integer: 8\n"
     ]
    }
   ],
   "source": [
    "import random\n",
    "\n",
    "# Generate a random integer between 1 and 10\n",
    "random_int = random.randint(1, 10)\n",
    "print(\"Random integer:\", random_int)\n"
   ]
  },
  {
   "cell_type": "code",
   "execution_count": 11,
   "metadata": {
    "colab": {
     "base_uri": "https://localhost:8080/"
    },
    "executionInfo": {
     "elapsed": 345,
     "status": "ok",
     "timestamp": 1722583389610,
     "user": {
      "displayName": "Ahmed Yousry",
      "userId": "15736517196575255940"
     },
     "user_tz": -180
    },
    "id": "nt-QaTjb9CjI",
    "outputId": "195088ac-cad9-4267-939c-6db336e2460d"
   },
   "outputs": [
    {
     "name": "stdout",
     "output_type": "stream",
     "text": [
      "Shuffled list: [1, 3, 5, 2, 4]\n"
     ]
    }
   ],
   "source": [
    "import random\n",
    "\n",
    "# Example list\n",
    "my_list = [1, 2, 3, 4, 5]\n",
    "\n",
    "# Shuffle the list\n",
    "random.shuffle(my_list)\n",
    "print(\"Shuffled list:\", my_list)\n"
   ]
  },
  {
   "cell_type": "code",
   "execution_count": 12,
   "metadata": {
    "colab": {
     "base_uri": "https://localhost:8080/"
    },
    "executionInfo": {
     "elapsed": 305,
     "status": "ok",
     "timestamp": 1722583418517,
     "user": {
      "displayName": "Ahmed Yousry",
      "userId": "15736517196575255940"
     },
     "user_tz": -180
    },
    "id": "tlOehE309F4d",
    "outputId": "6d45e7ae-aca3-4479-da29-f39ea55f69b9"
   },
   "outputs": [
    {
     "name": "stdout",
     "output_type": "stream",
     "text": [
      "Random choice: apple\n"
     ]
    }
   ],
   "source": [
    "import random\n",
    "\n",
    "# Example list\n",
    "my_list = ['apple', 'banana', 'cherry', 'date']\n",
    "\n",
    "# Select a random element from the list\n",
    "random_element = random.choice(my_list)\n",
    "print(\"Random choice:\", random_element)\n"
   ]
  },
  {
   "cell_type": "code",
   "execution_count": null,
   "metadata": {
    "colab": {
     "base_uri": "https://localhost:8080/"
    },
    "executionInfo": {
     "elapsed": 1025,
     "status": "ok",
     "timestamp": 1717686716590,
     "user": {
      "displayName": "Ahmed Yousry",
      "userId": "15736517196575255940"
     },
     "user_tz": -180
    },
    "id": "ybbUFtVb9Igj",
    "outputId": "299baaed-3215-433a-f8d0-9f746fac24ca"
   },
   "outputs": [
    {
     "name": "stdout",
     "output_type": "stream",
     "text": [
      "Random sample: ['banana', 'cherry', 'date']\n"
     ]
    }
   ],
   "source": [
    "import random\n",
    "\n",
    "# Example list\n",
    "my_list = ['apple', 'banana', 'cherry', 'date', 'elderberry']\n",
    "\n",
    "# Select 3 random elements from the list\n",
    "random_sample = random.sample(my_list, 3)\n",
    "print(\"Random sample:\", random_sample)\n"
   ]
  },
  {
   "cell_type": "code",
   "execution_count": 19,
   "metadata": {
    "colab": {
     "base_uri": "https://localhost:8080/"
    },
    "executionInfo": {
     "elapsed": 306,
     "status": "ok",
     "timestamp": 1722583604887,
     "user": {
      "displayName": "Ahmed Yousry",
      "userId": "15736517196575255940"
     },
     "user_tz": -180
    },
    "id": "AmgFYj1E9KNz",
    "outputId": "30098971-57f5-4656-8a1c-f045a1c7e06b"
   },
   "outputs": [
    {
     "name": "stdout",
     "output_type": "stream",
     "text": [
      "Random range element: 8\n",
      "Random range element with start: 1\n",
      "Random range element with step: 9\n"
     ]
    }
   ],
   "source": [
    "import random\n",
    "\n",
    "# Generate a random element from the range 0 to 9 (inclusive)\n",
    "random_range = random.randrange(10)\n",
    "print(\"Random range element:\", random_range)\n",
    "\n",
    "# Generate a random element from the range 1 to 10 (inclusive)\n",
    "random_range_with_start = random.randrange(1, 11)\n",
    "print(\"Random range element with start:\", random_range_with_start)\n",
    "\n",
    "# Generate a random element from the range 1 to 10 (inclusive) with step 2\n",
    "random_range_with_step = random.randrange(1, 11, 2)\n",
    "print(\"Random range element with step:\", random_range_with_step)\n"
   ]
  },
  {
   "cell_type": "code",
   "execution_count": 31,
   "metadata": {
    "colab": {
     "base_uri": "https://localhost:8080/"
    },
    "executionInfo": {
     "elapsed": 305,
     "status": "ok",
     "timestamp": 1722583734994,
     "user": {
      "displayName": "Ahmed Yousry",
      "userId": "15736517196575255940"
     },
     "user_tz": -180
    },
    "id": "Z8kmO2oPU_2k",
    "outputId": "c8542fc8-3930-4f93-f884-e41f518fc09a"
   },
   "outputs": [
    {
     "name": "stdout",
     "output_type": "stream",
     "text": [
      "0.5714025946899135\n"
     ]
    }
   ],
   "source": [
    "import random\n",
    "random.seed(10)\n",
    "print(random.random())"
   ]
  },
  {
   "cell_type": "code",
   "execution_count": 38,
   "metadata": {
    "colab": {
     "base_uri": "https://localhost:8080/"
    },
    "executionInfo": {
     "elapsed": 318,
     "status": "ok",
     "timestamp": 1722583849034,
     "user": {
      "displayName": "Ahmed Yousry",
      "userId": "15736517196575255940"
     },
     "user_tz": -180
    },
    "id": "xR0L-p2-U_2k",
    "outputId": "2d7fe73a-1f1a-4b47-eea2-3f2f0c902a60"
   },
   "outputs": [
    {
     "name": "stdout",
     "output_type": "stream",
     "text": [
      "[1, 2, 3, 4, 5, 6, 7, 8, 9, 10, 11, 12, 13, 14, 15, 16, 17, 18, 19]\n",
      "[6, 15, 14, 1, 4, 13, 2, 7, 18, 17, 16, 3, 8, 12, 19, 11, 5, 9, 10]\n"
     ]
    }
   ],
   "source": [
    "arr=list(range(1,20))\n",
    "print(arr)\n",
    "random.shuffle(arr)\n",
    "print(arr)"
   ]
  },
  {
   "cell_type": "markdown",
   "metadata": {
    "id": "vc_sOSDsU_2l"
   },
   "source": [
    "### Loops"
   ]
  },
  {
   "cell_type": "markdown",
   "metadata": {
    "id": "Y7W-4kgOU_2m"
   },
   "source": [
    "# Exercise\n",
    "#### Simple Mathematical Operators"
   ]
  }
 ],
 "metadata": {
  "colab": {
   "provenance": []
  },
  "kernelspec": {
   "display_name": "Python 3 (ipykernel)",
   "language": "python",
   "name": "python3"
  },
  "language_info": {
   "codemirror_mode": {
    "name": "ipython",
    "version": 3
   },
   "file_extension": ".py",
   "mimetype": "text/x-python",
   "name": "python",
   "nbconvert_exporter": "python",
   "pygments_lexer": "ipython3",
   "version": "3.12.5"
  }
 },
 "nbformat": 4,
 "nbformat_minor": 4
}
